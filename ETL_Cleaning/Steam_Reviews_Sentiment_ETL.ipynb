{
  "cells": [
    {
      "cell_type": "markdown",
      "metadata": {
        "id": "ddKt_kcGAsAk"
      },
      "source": [
        "**Set-up(The following installations are adapted for Google Colab)** ⛳"
      ]
    },
    {
      "cell_type": "code",
      "execution_count": null,
      "metadata": {
        "colab": {
          "base_uri": "https://localhost:8080/"
        },
        "id": "ee6_dvNeFjpI",
        "outputId": "c4b28747-59f2-4630-e137-424cbf818103"
      },
      "outputs": [
        {
          "name": "stdout",
          "output_type": "stream",
          "text": [
            "--2023-11-29 00:55:46--  https://downloads.apache.org/spark/spark-3.4.1/spark-3.4.1-bin-hadoop3.tgz\n",
            "Resolving downloads.apache.org (downloads.apache.org)... 88.99.95.219, 135.181.214.104, 2a01:4f8:10a:201a::2, ...\n",
            "Connecting to downloads.apache.org (downloads.apache.org)|88.99.95.219|:443... connected.\n",
            "HTTP request sent, awaiting response... 200 OK\n",
            "Length: 388341449 (370M) [application/x-gzip]\n",
            "Saving to: ‘spark-3.4.1-bin-hadoop3.tgz’\n",
            "\n",
            "spark-3.4.1-bin-had 100%[===================>] 370.35M  30.9MB/s    in 12s     \n",
            "\n",
            "2023-11-29 00:55:59 (29.8 MB/s) - ‘spark-3.4.1-bin-hadoop3.tgz’ saved [388341449/388341449]\n",
            "\n"
          ]
        }
      ],
      "source": [
        "# Install Java, Spark, and Findspark\n",
        "!apt-get install openjdk-8-jdk-headless -qq > /dev/null\n",
        "!wget https://downloads.apache.org/spark/spark-3.4.1/spark-3.4.1-bin-hadoop3.tgz\n",
        "!tar xf spark-3.4.1-bin-hadoop3.tgz\n",
        "!pip install -q findspark"
      ]
    },
    {
      "cell_type": "code",
      "execution_count": null,
      "metadata": {
        "id": "SlUKFHasFrK1"
      },
      "outputs": [],
      "source": [
        "# Set up environment paths for Java and Spark\n",
        "import os\n",
        "os.environ[\"JAVA_HOME\"] = \"/usr/lib/jvm/java-8-openjdk-amd64\"\n",
        "os.environ[\"SPARK_HOME\"] = \"/content/spark-3.4.1-bin-hadoop3\""
      ]
    },
    {
      "cell_type": "code",
      "execution_count": null,
      "metadata": {
        "colab": {
          "base_uri": "https://localhost:8080/"
        },
        "id": "lCId3z3lN6ma",
        "outputId": "0212362a-84c7-4a4f-b462-a2c835c43639"
      },
      "outputs": [
        {
          "name": "stdout",
          "output_type": "stream",
          "text": [
            "Requirement already satisfied: pyspark in /usr/local/lib/python3.10/dist-packages (3.5.0)\n",
            "Requirement already satisfied: py4j==0.10.9.7 in /usr/local/lib/python3.10/dist-packages (from pyspark) (0.10.9.7)\n"
          ]
        }
      ],
      "source": [
        "!pip install pyspark"
      ]
    },
    {
      "cell_type": "code",
      "execution_count": null,
      "metadata": {
        "id": "L8BNc_nMFtHN"
      },
      "outputs": [],
      "source": [
        "# Only import pyspark after findSpark.init()\n",
        "import findspark\n",
        "findspark.init()\n",
        "\n",
        "from pyspark.sql import SparkSession, functions, types\n",
        "import sys\n",
        "assert sys.version_info >= (3, 5) # make sure we have Python 3.5\n",
        "\n",
        "spark = SparkSession.builder.appName('Steam review analysis').getOrCreate()\n",
        "spark.sparkContext.setLogLevel('WARN')\n",
        "sc = spark.sparkContext"
      ]
    },
    {
      "cell_type": "markdown",
      "metadata": {
        "id": "R2esHiPLmtsc"
      },
      "source": [
        "**Data Cleaning & Preparation:** ⛳"
      ]
    },
    {
      "cell_type": "markdown",
      "metadata": {
        "id": "fSCwQ438m-47"
      },
      "source": [
        "\n",
        "\n",
        "\n",
        "\n",
        "> *Read train and test dataset*\n",
        "\n",
        "\n",
        "\n",
        "\n",
        "\n",
        "\n"
      ]
    },
    {
      "cell_type": "code",
      "execution_count": null,
      "metadata": {
        "colab": {
          "base_uri": "https://localhost:8080/"
        },
        "id": "Z0nZNbpalOBh",
        "outputId": "03e52b7a-47ec-47e0-ca08-abdd8af35ee9"
      },
      "outputs": [
        {
          "name": "stdout",
          "output_type": "stream",
          "text": [
            "+--------------------+--------------------+--------------------+---------------+--------------+\n",
            "|              Review|   Translated_Review|      Cleaned_Review|Sentiment_Score|     Game_Name|\n",
            "+--------------------+--------------------+--------------------+---------------+--------------+\n",
            "|It's full of bots...|It's full of bots...|s bots years grea...|              1|Team Fortress2|\n",
            "|                 Yes|                 Yes|                 yes|              1|         GTA V|\n",
            "|             Moogus.|             Moogus.|              moogus|              1|Team Fortress2|\n",
            "|the worst game i ...|the worst game i ...|worst game played...|              0|          RUST|\n",
            "|Pretty nice game....|Pretty nice game....|pretty nice game ...|              1|  Apex Legends|\n",
            "+--------------------+--------------------+--------------------+---------------+--------------+\n",
            "only showing top 5 rows\n",
            "\n",
            "+--------------------+--------------------+--------------------+---------------+--------------------+\n",
            "|              Review|   Translated_Review|      Cleaned_Review|Sentiment_Score|           Game_Name|\n",
            "+--------------------+--------------------+--------------------+---------------+--------------------+\n",
            "|              peepee|               Pepee|               pepee|              1|        Apex Legends|\n",
            "|Painfully horrend...|Painfully horrend...|painfully horrend...|              0|PlayerUnknown's B...|\n",
            "|              its ok|              its ok|                  ok|              1|        Apex Legends|\n",
            "|           Nice game|           Nice game|           nice game|              1|      Team Fortress2|\n",
            "|they copied many ...|they copied many ...|copied things gmo...|              0|      Team Fortress2|\n",
            "+--------------------+--------------------+--------------------+---------------+--------------------+\n",
            "only showing top 5 rows\n",
            "\n"
          ]
        }
      ],
      "source": [
        "game_reviews_schema = types.StructType([\n",
        "    types.StructField('Review', types.StringType()),\n",
        "    types.StructField('Translated_Review', types.StringType()),\n",
        "    types.StructField('Cleaned_Review', types.StringType()),\n",
        "    types.StructField('Sentiment_Score', types.IntegerType()),\n",
        "    types.StructField('Game_Name', types.StringType()),\n",
        "])\n",
        "game_reviews_train = spark.read.csv('Train.csv', header=True, schema=game_reviews_schema)\n",
        "game_reviews_train.show(5)\n",
        "\n",
        "game_reviews_test = spark.read.csv('Test.csv', header=True, schema=game_reviews_schema)\n",
        "game_reviews_test.show(5)"
      ]
    },
    {
      "cell_type": "markdown",
      "metadata": {
        "id": "gQqyqXP-nxdP"
      },
      "source": [
        "\n",
        "\n",
        "> *Drop rows with NULL value*\n",
        "\n"
      ]
    },
    {
      "cell_type": "code",
      "execution_count": null,
      "metadata": {
        "colab": {
          "base_uri": "https://localhost:8080/"
        },
        "id": "0ys-TVIRms4u",
        "outputId": "69627a1a-edb6-4a8c-925a-6bdceddc6508"
      },
      "outputs": [
        {
          "name": "stdout",
          "output_type": "stream",
          "text": [
            "+--------------------+--------------------+--------------------+---------------+--------------+\n",
            "|              Review|   Translated_Review|      Cleaned_Review|Sentiment_Score|     Game_Name|\n",
            "+--------------------+--------------------+--------------------+---------------+--------------+\n",
            "|It's full of bots...|It's full of bots...|s bots years grea...|              1|Team Fortress2|\n",
            "|                 Yes|                 Yes|                 yes|              1|         GTA V|\n",
            "|             Moogus.|             Moogus.|              moogus|              1|Team Fortress2|\n",
            "|the worst game i ...|the worst game i ...|worst game played...|              0|          RUST|\n",
            "|Pretty nice game....|Pretty nice game....|pretty nice game ...|              1|  Apex Legends|\n",
            "+--------------------+--------------------+--------------------+---------------+--------------+\n",
            "only showing top 5 rows\n",
            "\n",
            "+--------------------+--------------------+--------------------+---------------+--------------------+\n",
            "|              Review|   Translated_Review|      Cleaned_Review|Sentiment_Score|           Game_Name|\n",
            "+--------------------+--------------------+--------------------+---------------+--------------------+\n",
            "|              peepee|               Pepee|               pepee|              1|        Apex Legends|\n",
            "|Painfully horrend...|Painfully horrend...|painfully horrend...|              0|PlayerUnknown's B...|\n",
            "|              its ok|              its ok|                  ok|              1|        Apex Legends|\n",
            "|           Nice game|           Nice game|           nice game|              1|      Team Fortress2|\n",
            "|they copied many ...|they copied many ...|copied things gmo...|              0|      Team Fortress2|\n",
            "+--------------------+--------------------+--------------------+---------------+--------------------+\n",
            "only showing top 5 rows\n",
            "\n"
          ]
        }
      ],
      "source": [
        "train_no_null = game_reviews_train.dropna()\n",
        "train_no_null.show(5)\n",
        "\n",
        "test_no_null = game_reviews_test.dropna()\n",
        "test_no_null.show(5)"
      ]
    },
    {
      "cell_type": "markdown",
      "metadata": {
        "id": "wKmEcP1fqW-e"
      },
      "source": [
        "\n",
        "\n",
        "> *Drop unwanted columns*\n",
        "\n"
      ]
    },
    {
      "cell_type": "code",
      "execution_count": null,
      "metadata": {
        "id": "YK7-8dNzqWvM"
      },
      "outputs": [],
      "source": [
        "truncate_train = train_no_null.drop(\"Translated_Review\",\"Cleaned_Review\")\n",
        "truncate_test = test_no_null.drop(\"Translated_Review\",\"Cleaned_Review\")\n",
        "#clean_review_test = test_no_null.drop(\"Translated_Review\",\"Cleaned_Review\")"
      ]
    },
    {
      "cell_type": "markdown",
      "metadata": {
        "id": "Am4gbxElFZgI"
      },
      "source": [
        "\n",
        "\n",
        "> *Combine train and test datasets*\n",
        "\n"
      ]
    },
    {
      "cell_type": "code",
      "execution_count": null,
      "metadata": {
        "id": "Gl-xOmf8FeKJ"
      },
      "outputs": [],
      "source": [
        "all_reviews = truncate_train.union(truncate_test)"
      ]
    },
    {
      "cell_type": "markdown",
      "metadata": {
        "id": "TsqjD_IN221Q"
      },
      "source": [
        "\n",
        "\n",
        "> *Save it to Parquet and Read*\n",
        "\n"
      ]
    },
    {
      "cell_type": "code",
      "execution_count": null,
      "metadata": {
        "colab": {
          "base_uri": "https://localhost:8080/"
        },
        "id": "rgXkRoAoxOaU",
        "outputId": "f72447ae-ef34-45b5-b05a-2c85bb3dc7fc"
      },
      "outputs": [
        {
          "name": "stdout",
          "output_type": "stream",
          "text": [
            "+--------------------+---------------+--------------+\n",
            "|              Review|Sentiment_Score|     Game_Name|\n",
            "+--------------------+---------------+--------------+\n",
            "|It's full of bots...|              1|Team Fortress2|\n",
            "|                 Yes|              1|         GTA V|\n",
            "|             Moogus.|              1|Team Fortress2|\n",
            "|the worst game i ...|              0|          RUST|\n",
            "|Pretty nice game....|              1|  Apex Legends|\n",
            "+--------------------+---------------+--------------+\n",
            "only showing top 5 rows\n",
            "\n",
            "This dataset contains 113094 records.\n"
          ]
        }
      ],
      "source": [
        "all_reviews.write.parquet('reviews_parquet', mode='overwrite')\n",
        "clean_review = spark.read.parquet('reviews_parquet')\n",
        "clean_review.show(5)\n",
        "print(f\"This dataset contains {clean_review.count()} records.\")"
      ]
    },
    {
      "cell_type": "markdown",
      "metadata": {
        "id": "T7NlXrVSqjC2"
      },
      "source": [
        "\n",
        "\n",
        "> *Remove all formats inside Game_Name*\n",
        "\n"
      ]
    },
    {
      "cell_type": "code",
      "execution_count": null,
      "metadata": {
        "colab": {
          "base_uri": "https://localhost:8080/"
        },
        "id": "vnyF7F0PqUnP",
        "outputId": "2e25cd7e-9a44-4a4b-d158-e953e14e9df0"
      },
      "outputs": [
        {
          "name": "stdout",
          "output_type": "stream",
          "text": [
            "+--------------------+---------------+--------------+---------------+\n",
            "|              Review|Sentiment_Score|     Game_Name|Clean_Game_Name|\n",
            "+--------------------+---------------+--------------+---------------+\n",
            "|It's full of bots...|              1|Team Fortress2|  teamfortress2|\n",
            "|                 Yes|              1|         GTA V|           gtav|\n",
            "|             Moogus.|              1|Team Fortress2|  teamfortress2|\n",
            "|the worst game i ...|              0|          RUST|           rust|\n",
            "|Pretty nice game....|              1|  Apex Legends|    apexlegends|\n",
            "+--------------------+---------------+--------------+---------------+\n",
            "only showing top 5 rows\n",
            "\n"
          ]
        }
      ],
      "source": [
        "pattern = \"[\\\\p{Punct}\\\\s]+\"\n",
        "clean_review = clean_review.withColumn(\"Clean_Game_Name\",functions.lower(functions.regexp_replace(clean_review[\"Game_Name\"],\n",
        "                          pattern, \"\")))\n",
        "clean_review.show(5)\n",
        "\n",
        "#clean_review_test = clean_review_test.withColumn(\"Clean_Game_Name\",functions.lower(functions.regexp_replace(clean_review_test[\"Game_Name\"],pattern, \"\")))"
      ]
    },
    {
      "cell_type": "markdown",
      "metadata": {
        "id": "wT8OS7b-Erdd"
      },
      "source": [
        "\n",
        "\n",
        "> *Remove rows with review length < 2*\n",
        "\n"
      ]
    },
    {
      "cell_type": "code",
      "execution_count": null,
      "metadata": {
        "colab": {
          "base_uri": "https://localhost:8080/"
        },
        "id": "xadYDSWyEQFb",
        "outputId": "0e53c9c6-a2d0-4b72-a6b4-906930a02346"
      },
      "outputs": [
        {
          "name": "stdout",
          "output_type": "stream",
          "text": [
            "+--------------------+---------------+--------------+---------------+\n",
            "|              Review|Sentiment_Score|     Game_Name|Clean_Game_Name|\n",
            "+--------------------+---------------+--------------+---------------+\n",
            "|It's full of bots...|              1|Team Fortress2|  teamfortress2|\n",
            "|                 Yes|              1|         GTA V|           gtav|\n",
            "|             Moogus.|              1|Team Fortress2|  teamfortress2|\n",
            "|the worst game i ...|              0|          RUST|           rust|\n",
            "|Pretty nice game....|              1|  Apex Legends|    apexlegends|\n",
            "+--------------------+---------------+--------------+---------------+\n",
            "only showing top 5 rows\n",
            "\n",
            "After filtering, this dataset contains 112202 records.\n"
          ]
        }
      ],
      "source": [
        "long_review = clean_review.filter(functions.length(clean_review['Review']) >= 2).cache()\n",
        "long_review.show(5)\n",
        "\n",
        "num_row_after = long_review.count()\n",
        "print(f\"After filtering, this dataset contains {long_review.count()} records.\")"
      ]
    }
  ],
  "metadata": {
    "colab": {
      "provenance": []
    },
    "kernelspec": {
      "display_name": "Python 3",
      "name": "python3"
    },
    "language_info": {
      "name": "python"
    }
  },
  "nbformat": 4,
  "nbformat_minor": 0
}
