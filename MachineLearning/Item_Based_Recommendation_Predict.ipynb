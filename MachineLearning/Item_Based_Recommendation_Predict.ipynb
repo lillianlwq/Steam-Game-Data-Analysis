{
 "cells": [
  {
   "cell_type": "code",
   "execution_count": 16,
   "metadata": {},
   "outputs": [],
   "source": [
    "import pickle\n",
    "\n",
    "filename = \"collabRecommendation.pickle\"\n"
   ]
  },
  {
   "cell_type": "code",
   "execution_count": 17,
   "metadata": {},
   "outputs": [],
   "source": [
    "# load model\n",
    "model_knn = pickle.load(open(filename, \"rb\"))"
   ]
  },
  {
   "cell_type": "code",
   "execution_count": 18,
   "metadata": {},
   "outputs": [
    {
     "name": "stdout",
     "output_type": "stream",
     "text": [
      "NearestNeighbors(algorithm='brute', metric='cosine', n_jobs=-1, n_neighbors=20)\n"
     ]
    }
   ],
   "source": [
    "print(model_knn)"
   ]
  },
  {
   "cell_type": "code",
   "execution_count": 19,
   "metadata": {},
   "outputs": [],
   "source": [
    "import csv\n",
    "# load hashmap\n",
    "hashmap = {}\n",
    "with open('itemBasedRecommendation_hashmap_1.csv', mode='r') as infile:\n",
    "    reader = csv.reader(infile)\n",
    "    for rows in reader:\n",
    "        hashmap[rows[0]] = int(rows[1])\n",
    "\n",
    "game_names = {}\n",
    "with open('review_counts.csv', mode='r') as infile:\n",
    "    reader = csv.reader(infile)\n",
    "    for rows in reader:\n",
    "        game_names[rows[0]] = rows[1]"
   ]
  },
  {
   "cell_type": "code",
   "execution_count": 14,
   "metadata": {},
   "outputs": [],
   "source": [
    "from scipy.sparse import csr_matrix\n",
    "# convert dataframe of movie features to scipy sparse matrix\n",
    "# load from csv into dataframe\n",
    "import pandas as pd\n",
    "# df_movie_features = pd.read_csv('game_features.csv', index_col=0)\n",
    "with open('df_movie_features.pkl', mode='rb') as infile:\n",
    "    df_movie_features = pickle.load(infile)\n",
    "mat_movie_features = csr_matrix(df_movie_features.values)"
   ]
  },
  {
   "cell_type": "code",
   "execution_count": 24,
   "metadata": {},
   "outputs": [
    {
     "name": "stdout",
     "output_type": "stream",
     "text": [
      "Recommendation system start to make inference\n",
      "......\n",
      "\n"
     ]
    }
   ],
   "source": [
    "n_recommendations = 10\n",
    "game_id = \"105600\"\n",
    "\n",
    "# get input movie index\n",
    "# inference\n",
    "print('Recommendation system start to make inference')\n",
    "print('......\\n')\n",
    "distances, indices = model_knn.kneighbors(\n",
    "    mat_movie_features[hashmap[game_id]],\n",
    "    n_neighbors=n_recommendations+1)\n",
    "# get list of raw idx of recommendations\n",
    "raw_recommends = \\\n",
    "    sorted(\n",
    "        list(\n",
    "            zip(\n",
    "                indices.squeeze().tolist(),\n",
    "                distances.squeeze().tolist()\n",
    "            )\n",
    "        ),\n",
    "        key=lambda x: x[1]\n",
    "    )[:0:-1]\n",
    "# print('It took my system {:.2f}s to make inference \\n\\\n",
    "#         '.format(time.time() - t0))\n",
    "\n",
    "reverse_hashmap = {v: k for k, v in hashmap.items()}\n",
    "# print('Recommendations for {}:'.format(fav_movie))\n",
    "recommended_games = []\n",
    "for i, (idx, dist) in enumerate(raw_recommends):\n",
    "    recommend_game_id = str(reverse_hashmap[idx])\n",
    "    recommended_games.append({'game_id': recommend_game_id, 'rank': i+1, 'score': round(dist*10000 - 9900, 1), 'game_name': game_names[recommend_game_id]})\n",
    "    # print('{0}: {1}, with distance '\n",
    "    #         'of {2}'.format(i+1, reverse_hashmap[idx], dist))"
   ]
  },
  {
   "cell_type": "code",
   "execution_count": 25,
   "metadata": {},
   "outputs": [
    {
     "name": "stdout",
     "output_type": "stream",
     "text": [
      "[{'game_id': '367520', 'rank': 1, 'score': 58.1, 'game_name': 'Hollow Knight'}, {'game_id': '391540', 'rank': 2, 'score': 57.3, 'game_name': 'Undertale'}, {'game_id': '250900', 'rank': 3, 'score': 57.0, 'game_name': 'The Binding of Isaac: Rebirth'}, {'game_id': '218620', 'rank': 4, 'score': 53.4, 'game_name': 'PAYDAY 2'}, {'game_id': '204360', 'rank': 5, 'score': 52.9, 'game_name': 'Castle Crashers'}, {'game_id': '620', 'rank': 6, 'score': 48.3, 'game_name': 'Portal 2'}, {'game_id': '945360', 'rank': 7, 'score': 48.2, 'game_name': 'Among Us'}, {'game_id': '322330', 'rank': 8, 'score': 45.3, 'game_name': \"Don't Starve Together\"}, {'game_id': '413150', 'rank': 9, 'score': 41.1, 'game_name': 'Stardew Valley'}, {'game_id': '4000', 'rank': 10, 'score': 33.4, 'game_name': \"Garry's Mod\"}]\n"
     ]
    }
   ],
   "source": [
    "print(recommended_games)"
   ]
  },
  {
   "cell_type": "code",
   "execution_count": null,
   "metadata": {},
   "outputs": [],
   "source": []
  }
 ],
 "metadata": {
  "kernelspec": {
   "display_name": "Python 3",
   "language": "python",
   "name": "python3"
  },
  "language_info": {
   "codemirror_mode": {
    "name": "ipython",
    "version": 3
   },
   "file_extension": ".py",
   "mimetype": "text/x-python",
   "name": "python",
   "nbconvert_exporter": "python",
   "pygments_lexer": "ipython3",
   "version": "3.10.13"
  }
 },
 "nbformat": 4,
 "nbformat_minor": 2
}
