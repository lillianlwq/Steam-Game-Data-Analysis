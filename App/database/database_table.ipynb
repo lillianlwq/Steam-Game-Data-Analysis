{
 "cells": [
  {
   "cell_type": "code",
   "execution_count": 1,
   "metadata": {},
   "outputs": [],
   "source": [
    "from cassandra.cluster import Cluster"
   ]
  },
  {
   "cell_type": "code",
   "execution_count": 2,
   "metadata": {},
   "outputs": [],
   "source": [
    "keyspace = 'hlt2'\n",
    "cluster = Cluster(['127.0.0.1'], port=9042)\n",
    "session = cluster.connect(keyspace)\n",
    "# rows = session.execute('SELECT * FROM test')"
   ]
  },
  {
   "cell_type": "code",
   "execution_count": 5,
   "metadata": {},
   "outputs": [],
   "source": [
    "rows = session.execute('CREATE TABLE reviews ( game_id INT, id UUID, review TEXT, sentiment TEXT, sentiment_score FLOAT, votes_helpful INT, playtime_at_review FLOAT, PRIMARY KEY (game_id, id) )')"
   ]
  },
  {
   "cell_type": "code",
   "execution_count": null,
   "metadata": {},
   "outputs": [],
   "source": []
  }
 ],
 "metadata": {
  "kernelspec": {
   "display_name": "Python 3",
   "language": "python",
   "name": "python3"
  },
  "language_info": {
   "codemirror_mode": {
    "name": "ipython",
    "version": 3
   },
   "file_extension": ".py",
   "mimetype": "text/x-python",
   "name": "python",
   "nbconvert_exporter": "python",
   "pygments_lexer": "ipython3",
   "version": "3.10.13"
  }
 },
 "nbformat": 4,
 "nbformat_minor": 2
}
