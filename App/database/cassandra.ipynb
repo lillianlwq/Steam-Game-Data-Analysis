{
 "cells": [
  {
   "cell_type": "code",
   "execution_count": 33,
   "metadata": {},
   "outputs": [],
   "source": [
    "from cassandra.cluster import Cluster\n",
    "from cassandra.query import BatchStatement\n",
    "from cassandra import ConsistencyLevel\n",
    "import pandas as pd\n",
    "import os\n",
    "import gzip\n",
    "import time\n",
    "import matplotlib.pyplot as plt\n",
    "from pyspark.sql import SparkSession, types\n",
    "import pyspark.sql.functions as F\n",
    "from  pyspark.sql.functions import col\n",
    "\n",
    "spark = (\n",
    "    SparkSession.builder.config(\"spark.sql.debug.maxToStringFields\", 100)\n",
    "    .appName(\"reviews\")\n",
    "    .getOrCreate()\n",
    ")\n",
    "\n",
    "data_filepath = \"../../data/cleaned_steam_reviews\""
   ]
  },
  {
   "cell_type": "code",
   "execution_count": 13,
   "metadata": {},
   "outputs": [
    {
     "name": "stderr",
     "output_type": "stream",
     "text": [
      "                                                                                \r"
     ]
    }
   ],
   "source": [
    "steam_reviews = spark.read.parquet(data_filepath)"
   ]
  },
  {
   "cell_type": "code",
   "execution_count": 21,
   "metadata": {},
   "outputs": [],
   "source": [
    "reviews = steam_reviews.where(col(\"language\") == \"english\") \\\n",
    "                        .select(\"app_id\", \"review\", \"votes_helpful\", \"author_playtime_at_review\") \\\n",
    "                        .where(col(\"votes_helpful\").isNotNull() & col(\"review\").isNotNull() & col(\"author_playtime_at_review\").isNotNull() & (col(\"review\") != \"\")) \\\n",
    "                        .where(F.length(col(\"review\")) > 10) \\\n",
    "                        .withColumn(\"author_playtime_at_review\", F.round(col(\"author_playtime_at_review\") / 60, 1))"
   ]
  },
  {
   "cell_type": "code",
   "execution_count": 25,
   "metadata": {},
   "outputs": [],
   "source": [
    "game_id = 289070"
   ]
  },
  {
   "cell_type": "code",
   "execution_count": 26,
   "metadata": {},
   "outputs": [],
   "source": [
    "reviews_289070 = reviews.where(col(\"app_id\") == game_id).limit(1000)"
   ]
  },
  {
   "cell_type": "code",
   "execution_count": 27,
   "metadata": {},
   "outputs": [
    {
     "name": "stderr",
     "output_type": "stream",
     "text": [
      "[Stage 9:================================================>        (17 + 3) / 20]\r"
     ]
    },
    {
     "name": "stdout",
     "output_type": "stream",
     "text": [
      "+------+--------------------+-------------+-------------------------+\n",
      "|app_id|              review|votes_helpful|author_playtime_at_review|\n",
      "+------+--------------------+-------------+-------------------------+\n",
      "|289070|i suk at the game...|            0|                     57.8|\n",
      "|289070|This game is a ma...|            0|                     26.6|\n",
      "|289070|      its pretty fun|            0|                     11.1|\n",
      "|289070|Game is great. Pu...|            0|                    980.8|\n",
      "|289070|I mean it's a gre...|            0|                     35.2|\n",
      "|289070|Insane game on Diety|            0|                   1896.5|\n",
      "|289070|        Awesome game|            0|                     30.8|\n",
      "|289070|The graphics and ...|            6|                      1.8|\n",
      "|289070|10/10 would play ...|            0|                     32.2|\n",
      "|289070|2k hours and it s...|            0|                   2074.6|\n",
      "|289070|Civ VI is a stran...|            1|                     28.2|\n",
      "|289070|i love everything...|            0|                     87.7|\n",
      "|289070|Masterpiece of tu...|            0|                     83.2|\n",
      "|289070|makes beyond eart...|            1|                     38.0|\n",
      "|289070|macht spaß aber d...|            0|                     42.4|\n",
      "|289070|Firaxis is now fo...|            0|                    116.4|\n",
      "|289070|Civ VI serves as ...|            0|                     72.5|\n",
      "|289070|Lots of hatred on...|            0|                     24.8|\n",
      "|289070|Love it, that sim...|            0|                      9.4|\n",
      "|289070|great game for th...|            0|                    176.2|\n",
      "+------+--------------------+-------------+-------------------------+\n",
      "only showing top 20 rows\n",
      "\n"
     ]
    },
    {
     "name": "stderr",
     "output_type": "stream",
     "text": [
      "                                                                                \r"
     ]
    }
   ],
   "source": [
    "reviews_289070.show()"
   ]
  },
  {
   "cell_type": "code",
   "execution_count": 28,
   "metadata": {},
   "outputs": [
    {
     "name": "stderr",
     "output_type": "stream",
     "text": [
      "                                                                                \r"
     ]
    }
   ],
   "source": [
    "# reviews_289070 to df\n",
    "reviews_289070_df = reviews_289070.toPandas()"
   ]
  },
  {
   "cell_type": "code",
   "execution_count": 30,
   "metadata": {},
   "outputs": [
    {
     "name": "stderr",
     "output_type": "stream",
     "text": [
      "/usr/local/lib/python3.10/site-packages/tqdm/auto.py:22: TqdmWarning: IProgress not found. Please update jupyter and ipywidgets. See https://ipywidgets.readthedocs.io/en/stable/user_install.html\n",
      "  from .autonotebook import tqdm as notebook_tqdm\n"
     ]
    }
   ],
   "source": [
    "from transformers import AlbertTokenizer, AlbertForSequenceClassification\n",
    "import torch\n",
    "from transformers import AlbertModel\n",
    "import torch.nn as nn\n",
    "\n",
    "class SentimentClassifier(nn.Module):\n",
    "    def __init__(self, n_classes):\n",
    "        super(SentimentClassifier, self).__init__()\n",
    "        self.albert = AlbertModel.from_pretrained('albert-base-v2')\n",
    "        self.drop = nn.Dropout(p=0.3)\n",
    "        self.out = nn.Linear(self.albert.config.hidden_size, n_classes)\n",
    "\n",
    "    def forward(self, input_ids, attention_mask):\n",
    "        _, pooled_output = self.albert(\n",
    "            input_ids=input_ids,\n",
    "            attention_mask=attention_mask,\n",
    "            return_dict=False\n",
    "        )\n",
    "        output = self.drop(pooled_output)\n",
    "        return self.out(output)\n",
    "\n",
    "def import_data(model_file):\n",
    "  n_classes = 2\n",
    "  model = SentimentClassifier(n_classes)\n",
    "  model.load_state_dict(torch.load(model_file, map_location=torch.device('cpu')))\n",
    "  return model\n",
    "\n",
    "def predict_class(model,review):\n",
    "  model.eval()  # Put the model in evaluation mode\n",
    "\n",
    "  # Load the tokenizer\n",
    "  tokenizer = AlbertTokenizer.from_pretrained('albert-base-v2')\n",
    "  text = review\n",
    "  # Tokenize the example text and create attention masks\n",
    "  inputs = tokenizer.encode_plus(\n",
    "      text,\n",
    "      add_special_tokens=True,\n",
    "      max_length=128,\n",
    "      padding='max_length',\n",
    "      return_attention_mask=True,\n",
    "      return_tensors='pt',  # Return PyTorch tensors\n",
    "      truncation=True\n",
    "  )\n",
    "\n",
    "  # Get the input IDs and attention mask\n",
    "  input_ids = inputs['input_ids']\n",
    "  attention_mask = inputs['attention_mask']\n",
    "\n",
    "  # Predict\n",
    "  with torch.no_grad():  # No need to compute gradients for predictions\n",
    "      outputs = model(input_ids, attention_mask=attention_mask)\n",
    "\n",
    "  # The first element in the outputs is the logits\n",
    "  logits = outputs[0]\n",
    "\n",
    "  # Process the outputs\n",
    "  probabilities = torch.nn.functional.softmax(logits, dim=-1)\n",
    "\n",
    "  # Get the highest probability class\n",
    "  predicted_class = torch.argmax(probabilities, dim=-1).numpy()\n",
    "\n",
    "  # first element of pytorch tensor in float\n",
    "  probabilities = probabilities.numpy().tolist()\n",
    "  return (round(max(probabilities)*100, 1), \"Positive\" if predicted_class == 1 else \"Negative\")"
   ]
  },
  {
   "cell_type": "code",
   "execution_count": 31,
   "metadata": {},
   "outputs": [],
   "source": [
    "model = import_data(\"albert_model.pth\")"
   ]
  },
  {
   "cell_type": "code",
   "execution_count": 23,
   "metadata": {},
   "outputs": [],
   "source": [
    "keyspace = 'hlt2'\n",
    "cluster = Cluster(['127.0.0.1'], port=9042)\n",
    "session = cluster.connect(keyspace)\n",
    "# rows = session.execute('SELECT * FROM test')"
   ]
  },
  {
   "cell_type": "code",
   "execution_count": 10,
   "metadata": {},
   "outputs": [],
   "source": [
    "rows = session.execute('SELECT * FROM test')"
   ]
  },
  {
   "cell_type": "code",
   "execution_count": 34,
   "metadata": {},
   "outputs": [],
   "source": [
    "insert_statement = session.prepare(f\" INSERT INTO reviews (game_id, id, review, sentiment, sentiment_score, votes_helpful, playtime_at_review) VALUES (?, uuid(), ?, ?, ?, ?, ?);\")\n",
    "# ( game_id INT, id UUID, review TEXT, sentiment TEXT, sentiment_score FLOAT, votes_helpful INT, playtime_at_review FLOAT\n",
    "\n",
    "batch = BatchStatement(consistency_level=ConsistencyLevel.ONE)\n",
    "count = 0\n",
    "\n",
    "for index, row in reviews_289070_df.iterrows():\n",
    "    sentiment_score, sentiment = predict_class(model, row[\"review\"])\n",
    "    batch.add(insert_statement, (game_id, row[\"review\"], sentiment, sentiment_score, row[\"votes_helpful\"], row[\"author_playtime_at_review\"]))\n",
    "    count += 1\n",
    "\n",
    "    if (count == 200):\n",
    "        session.execute(batch)\n",
    "        batch.clear()\n",
    "        count = 0\n",
    "\n",
    "if (count > 0):\n",
    "    session.execute(batch)\n",
    "    batch.clear()"
   ]
  },
  {
   "cell_type": "code",
   "execution_count": null,
   "metadata": {},
   "outputs": [],
   "source": []
  }
 ],
 "metadata": {
  "kernelspec": {
   "display_name": "Python 3",
   "language": "python",
   "name": "python3"
  },
  "language_info": {
   "codemirror_mode": {
    "name": "ipython",
    "version": 3
   },
   "file_extension": ".py",
   "mimetype": "text/x-python",
   "name": "python",
   "nbconvert_exporter": "python",
   "pygments_lexer": "ipython3",
   "version": "3.10.13"
  }
 },
 "nbformat": 4,
 "nbformat_minor": 2
}
