{
 "cells": [
  {
   "cell_type": "code",
   "execution_count": 3,
   "metadata": {},
   "outputs": [],
   "source": [
    "import pickle\n",
    "import pandas as pd\n",
    "import pyarrow\n",
    "\n",
    "with open('cosine_sim.pkl', 'rb') as file:\n",
    "    global cosine_sim_loaded\n",
    "    cosine_sim_loaded = pickle.load(file)\n",
    "\n",
    "global df_rec\n",
    "df_rec = pd.read_parquet('df_rec.parquet', engine='pyarrow') "
   ]
  },
  {
   "cell_type": "code",
   "execution_count": 4,
   "metadata": {},
   "outputs": [],
   "source": [
    "def steam_game_recommender(game_id):\n",
    "    global cosine_sim_loaded\n",
    "    global df_rec\n",
    "\n",
    "    game_index = df_rec[df_rec.game_id == game_id].index.values[0]\n",
    "\n",
    "    # generate similar games matrix\n",
    "    similar_games = list(enumerate(cosine_sim_loaded[game_index]))\n",
    "\n",
    "    # Sorting the similar games in descending order\n",
    "    sorted_similar_games = sorted(similar_games, key = lambda x:x[1], reverse = True)\n",
    "\n",
    "    i=0\n",
    "    recommended_games = []\n",
    "    for games in sorted_similar_games:\n",
    "        if i != 0:\n",
    "            game_id = df_rec[df_rec.index == games[0]][\"game_id\"].values[0]\n",
    "            norm_score = (games[1] + 1) / 2 * 100\n",
    "            name = df_rec[df_rec.index == games[0]][\"name\"].values[0]\n",
    "            recommended_games.append({'game_id': game_id, 'rank': i, 'score': norm_score, 'game_name': name})\n",
    "        i = i+1\n",
    "        if i>10:\n",
    "            break\n",
    "\n",
    "    return recommended_games \n",
    "\n"
   ]
  },
  {
   "cell_type": "code",
   "execution_count": 6,
   "metadata": {},
   "outputs": [],
   "source": [
    "content_recommended = steam_game_recommender(578080)"
   ]
  },
  {
   "cell_type": "code",
   "execution_count": 7,
   "metadata": {},
   "outputs": [
    {
     "name": "stdout",
     "output_type": "stream",
     "text": [
      "[{'game_id': 823130, 'rank': 1, 'score': 64.62506419114224, 'game_name': 'Totally Accurate Battlegrounds'}, {'game_id': 772540, 'rank': 2, 'score': 60.10193140950284, 'game_name': 'Battle Royale Trainer'}, {'game_id': 788260, 'rank': 3, 'score': 59.47377882878766, 'game_name': 'Rules Of Survival'}, {'game_id': 686600, 'rank': 4, 'score': 58.521537950161296, 'game_name': 'Rapture Rejects'}, {'game_id': 629760, 'rank': 5, 'score': 56.6147537999909, 'game_name': 'MORDHAU'}, {'game_id': 312660, 'rank': 6, 'score': 55.56470148562305, 'game_name': 'Sniper Elite 4'}, {'game_id': 773951, 'rank': 7, 'score': 55.13970825080361, 'game_name': 'Freeman: Guerrilla Warfare'}, {'game_id': 107410, 'rank': 8, 'score': 54.73401512639865, 'game_name': 'Arma 3'}, {'game_id': 390340, 'rank': 9, 'score': 54.60103730965603, 'game_name': 'Umbrella Corps™/Biohazard Umbrella Corps™'}, {'game_id': 544750, 'rank': 10, 'score': 53.99700631916343, 'game_name': 'SOULCALIBUR VI'}]\n"
     ]
    }
   ],
   "source": [
    "print(content_recommended)"
   ]
  },
  {
   "cell_type": "code",
   "execution_count": 8,
   "metadata": {},
   "outputs": [
    {
     "data": {
      "text/plain": [
       "{'game_id': 823130,\n",
       " 'rank': 1,\n",
       " 'score': 64.62506419114224,\n",
       " 'game_name': 'Totally Accurate Battlegrounds'}"
      ]
     },
     "execution_count": 8,
     "metadata": {},
     "output_type": "execute_result"
    }
   ],
   "source": [
    "content_recommended[0]"
   ]
  },
  {
   "cell_type": "code",
   "execution_count": null,
   "metadata": {},
   "outputs": [],
   "source": []
  }
 ],
 "metadata": {
  "kernelspec": {
   "display_name": "Python 3",
   "language": "python",
   "name": "python3"
  },
  "language_info": {
   "codemirror_mode": {
    "name": "ipython",
    "version": 3
   },
   "file_extension": ".py",
   "mimetype": "text/x-python",
   "name": "python",
   "nbconvert_exporter": "python",
   "pygments_lexer": "ipython3",
   "version": "3.10.13"
  }
 },
 "nbformat": 4,
 "nbformat_minor": 2
}
