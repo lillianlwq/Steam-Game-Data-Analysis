{
 "cells": [
  {
   "cell_type": "markdown",
   "metadata": {},
   "source": [
    "## Set Up"
   ]
  },
  {
   "cell_type": "code",
   "execution_count": 3,
   "metadata": {},
   "outputs": [],
   "source": [
    "from linkedin_scraper import Person, actions, Company, Job\n",
    "from selenium import webdriver"
   ]
  },
  {
   "cell_type": "markdown",
   "metadata": {},
   "source": [
    "# Scrape a person"
   ]
  },
  {
   "cell_type": "code",
   "execution_count": 42,
   "metadata": {},
   "outputs": [],
   "source": [
    "driver = webdriver.Chrome()\n",
    "\n",
    "email = \"alextohoilam121@gmail.com\"\n",
    "password = input(\"Password: \")\n",
    "actions.login(driver, email, password) # if email and password isnt given, it'll prompt in terminal\n",
    "\n",
    "person = Person(\"https://www.linkedin.com/in/tohoilam/\", driver=driver)"
   ]
  },
  {
   "cell_type": "code",
   "execution_count": 12,
   "metadata": {},
   "outputs": [
    {
     "name": "stdout",
     "output_type": "stream",
     "text": [
      "Alex To\n",
      "(He/Him)\n"
     ]
    }
   ],
   "source": [
    "print(person.name)"
   ]
  },
  {
   "cell_type": "code",
   "execution_count": 13,
   "metadata": {},
   "outputs": [
    {
     "name": "stdout",
     "output_type": "stream",
     "text": [
      "First-year master's student at Simon Fraser University studying Master of Science in Professional Computer Science (Big Data), with internship experiences in software development and machine learning. First class honours in bachelor's degree at The University of Hong Kong, and three years consecutive Dean's Honours List. Won 3 awards with bachelor's degree final-year project.\n",
      "First-year master's student at Simon Fraser University studying Master of Science in Professional Computer Science (Big Data), with internship experiences in software development and machine learning. First class honours in bachelor's degree at The University of Hong Kong, and three years consecutive Dean's Honours List. Won 3 awards with bachelor's degree final-year project.\n"
     ]
    }
   ],
   "source": [
    "print(person.about)"
   ]
  },
  {
   "cell_type": "code",
   "execution_count": 16,
   "metadata": {},
   "outputs": [
    {
     "name": "stdout",
     "output_type": "stream",
     "text": [
      "Experience(institution_name='The University of Hong Kong · Part-time', linkedin_url='https://www.linkedin.com/company/675376/', website=None, industry=None, type=None, headquarters=None, company_size=None, founded=None, from_date='Jan 2023', to_date='May 2023', description='Student Technical Assistant for the course \"Hands-on AI: experimentation & applications\" (COMP3362) at The University of Hong Kong:\\n1). Reviewing the course contents and updating the course programming materials to be adaptable with higher Python versions.\\n - Tools: Python\\n\\n2). Implementing new course materials on data visualization, including, plotting images with different colour spaces, displaying testing images with kernels from intermediate CNN layers, as well as the use of TensorBoard in machine learning workflow.\\n - Tools: Python\\n\\nStudent Teaching Assistant for the course \"Computer Programming I\" (COMP1117) at The University of Hong Kong, responsible for resolving Python programming questions raised by students.\\n - Tools: Python\\nStudent Technical Assistant for the course \"Hands-on AI: experimentation & applications\" (COMP3362) at The University of Hong Kong: 1). Reviewing the course contents and updating the course programming materials to be adaptable with higher Python versions. - Tools: Python 2). Implementing new course materials on data visualization, including, plotting images with different colour spaces, displaying testing images with kernels from intermediate CNN layers, as well as the use of TensorBoard in machine learning workflow. - Tools: Python Student Teaching Assistant for the course \"Computer Programming I\" (COMP1117) at The University of Hong Kong, responsible for resolving Python programming questions raised by students. - Tools: Python\\nSkills: Python (Programming Language)\\nPython (Programming Language)', position_title='Student Technical Assistant and Teaching Assistant', duration='5 mos', location='Hong Kong, Hong Kong SAR · On-site')\n",
      "Experience(institution_name='OOCL · Internship', linkedin_url='https://www.linkedin.com/company/8918/', website=None, industry=None, type=None, headquarters=None, company_size=None, founded=None, from_date='Jun 2022', to_date='Aug 2022', description='1). Developed a full-stack web application for storing electronic data interchange documents (EDIFACT), subsequently comparing and highlighting the differences between its different versions. Enhanced efficiency of the comparison services by 120%.\\n - Frontend: Vue.JS\\n - Backend: Java, SQL, Microsoft SQL Server\\n\\n2). Developed a test program verifying internal de/encryption module correctness. Incorporated multithreading and fine-tuned time/space complexity to maximize testing performance on large datasets.\\n - Tools: Java, SQL, MongoDB, Oracle\\n\\n3). Implemented .NET Core class libraries for data encryption and decryption tasks, hiding all logic and verification steps in the library, and providing the team with quick and convenient ways to access the de/encryption services.\\n - Tools: C#, .NET Framework\\n\\n4). Modified secret management process with HashiCorp Vault and implemented an intermediate layer that temporarily and dynamically stores secrets locally. Reducing redundant API calls to Hashicorp Vault by 288 times, from once per 5 minutes to once per day.\\n - Tools: Java, Bash\\n\\n\\n---Qualities demonstrated from the internship---\\n* Initiative and Efficiency: Completed all supposed assigned tasks for the entire internship within the first half internship period and further assisted on additional projects needed by the team.\\n\\n* Detail Oriented and Quality Driven: Attention to time/space complexity, implementing multithreading when needed, paying attention to what input parameters and return output will best expedite the de/encryption class library when used by team members.\\n1). Developed a full-stack web application for storing electronic data interchange documents (EDIFACT), subsequently comparing and highlighting the differences between its different versions. Enhanced efficiency of the comparison services by 120%. - Frontend: Vue.JS - Backend: Java, SQL, Microsoft SQL Server 2). Developed a test program verifying internal de/encryption module correctness. Incorporated multithreading and fine-tuned time/space complexity to maximize testing performance on large datasets. - Tools: Java, SQL, MongoDB, Oracle 3). Implemented .NET Core class libraries for data encryption and decryption tasks, hiding all logic and verification steps in the library, and providing the team with quick and convenient ways to access the de/encryption services. - Tools: C#, .NET Framework 4). Modified secret management process with HashiCorp Vault and implemented an intermediate layer that temporarily and dynamically stores secrets locally. Reducing redundant API calls to Hashicorp Vault by 288 times, from once per 5 minutes to once per day. - Tools: Java, Bash ---Qualities demonstrated from the internship--- * Initiative and Efficiency: Completed all supposed assigned tasks for the entire internship within the first half internship period and further assisted on additional projects needed by the team. * Detail Oriented and Quality Driven: Attention to time/space complexity, implementing multithreading when needed, paying attention to what input parameters and return output will best expedite the de/encryption class library when used by team members.\\nSkills: JSON · Bash · Software Development · MongoDB · Oracle Database · Microsoft SQL Server · Vue.js · GitHub · HTML5 · .NET Framework · Encryption Decryption · JavaScript · SQL · C# · Cascading Style Sheets (CSS) · HTML · Java\\nJSON · Bash · Software Development · MongoDB · Oracle Database · Microsoft SQL Server · Vue.js · GitHub · HTML5 · .NET Framework · Encryption Decryption · JavaScript · SQL · C# · Cascading Style Sheets (CSS) · HTML · Java', position_title='Software Engineer Intern', duration='3 mos', location='Hong Kong SAR · Hybrid')\n",
      "Experience(institution_name='NVIDIA · Internship', linkedin_url='https://www.linkedin.com/company/3608/', website=None, industry=None, type=None, headquarters=None, company_size=None, founded=None, from_date='Jun 2021', to_date='Aug 2021', description=\"1). Fine-tuned NVIDIA's proprietary automatic speech recognition model (Jarvis) on a novel language (Cantonese) with NeMo\\n - Achieved Character Error Rate of 34%\\n - Explored and performed various data preprocessing such as word segmentation, generating new character sets, removing rare characters, and data augmentation (including time and frequency masking)\\n - Experimented with different hyperparameters, freezing and unfreezing encoder and normalization layers, different proprietary models\\n\\n ---Possible reasons for failure in achieving a lower character error rate:---\\n a). Cantonese is a low-resource language (small dataset of 12 hours of speech data only)\\n b). Use of Language Model (LM) with Cantonese written language being slightly different than the speech input of Cantonese spoken language\\n c). Cantonese is a difficult language with 9 tones and many subtle differences between words\\n\\n - Tools: Python, PyTorch Lightning, Jarvis, NeMo, Docker, Git, Bash script\\n\\n2). Configured the proprietary chatbot demo web application to host the fine-tuned Cantonese Speech Emotion Recognition model, and demonstrated it to partner's company\\n -Tools: Python, Bash script, Docker, Git\\n\\n3). Compiled 78 pages of Cantonese Speech Emotion Recognition experimentation results and step-by-step guidelines\\n1). Fine-tuned NVIDIA's proprietary automatic speech recognition model (Jarvis) on a novel language (Cantonese) with NeMo - Achieved Character Error Rate of 34% - Explored and performed various data preprocessing such as word segmentation, generating new character sets, removing rare characters, and data augmentation (including time and frequency masking) - Experimented with different hyperparameters, freezing and unfreezing encoder and normalization layers, different proprietary models ---Possible reasons for failure in achieving a lower character error rate:--- a). Cantonese is a low-resource language (small dataset of 12 hours of speech data only) b). Use of Language Model (LM) with Cantonese written language being slightly different than the speech input of Cantonese spoken language c). Cantonese is a difficult language with 9 tones and many subtle differences between words - Tools: Python, PyTorch Lightning, Jarvis, NeMo, Docker, Git, Bash script 2). Configured the proprietary chatbot demo web application to host the fine-tuned Cantonese Speech Emotion Recognition model, and demonstrated it to partner's company -Tools: Python, Bash script, Docker, Git 3). Compiled 78 pages of Cantonese Speech Emotion Recognition experimentation results and step-by-step guidelines\\nSkills: Deep Learning · Machine Learning · Docker · Jarvis · Transfer Learning · Speech Emotion Recogntion · Chatbots · Shell Scripting · Python (Programming Language)\\nDeep Learning · Machine Learning · Docker · Jarvis · Transfer Learning · Speech Emotion Recogntion · Chatbots · Shell Scripting · Python (Programming Language)\", position_title='Machine Learning Student Intern', duration='3 mos', location='Hong Kong SAR · Hybrid')\n",
      "Experience(institution_name='The University of Hong Kong', linkedin_url='https://www.linkedin.com/company/675376/', website=None, industry=None, type=None, headquarters=None, company_size=None, founded=None, from_date='Jan 2021', to_date='May 2021', description=<selenium.webdriver.remote.webelement.WebElement (session=\"cf346500d3ec477f8675638037a21e20\", element=\"1EBDE1B227651A426533FA08485E2D32_element_3095\")>, position_title='Student Teaching Assistant\\nStudent Teaching Assistant', duration='5 mos', location='On-site')\n",
      "Experience(institution_name='The University of Hong Kong', linkedin_url='https://www.linkedin.com/company/675376/', website=None, industry=None, type=None, headquarters=None, company_size=None, founded=None, from_date='Sep 2020', to_date='Dec 2020', description=<selenium.webdriver.remote.webelement.WebElement (session=\"cf346500d3ec477f8675638037a21e20\", element=\"1EBDE1B227651A426533FA08485E2D32_element_3120\")>, position_title='Student Teaching Assistant\\nStudent Teaching Assistant', duration='4 mos', location=None)\n",
      "Experience(institution_name='FDMT · Internship', linkedin_url='https://www.linkedin.com/company/7042730/', website=None, industry=None, type=None, headquarters=None, company_size=None, founded=None, from_date='Feb 2020', to_date='Feb 2021', description='1). Development of a React web app for students to visualize their undergraduate program options\\n - Developed various React components, including but not limited to the user login signup page, career options page, filtering functions, search functions, navigation flow, and sectors and segments page\\n - Designed additional relational database tables in MySQL to store user information and searching history\\n - Created routing classes in node.js\\n - Tools: React, HTML, CSS, JavaScript, node.js, MySQL, SQL, Git\\n\\n2). Wrote Google Apps Scripts to automate parts of the Video Production process, improving operational efficiency by 40%\\n - Tools: Google Apps Scripts, Excel\\n1). Development of a React web app for students to visualize their undergraduate program options - Developed various React components, including but not limited to the user login signup page, career options page, filtering functions, search functions, navigation flow, and sectors and segments page - Designed additional relational database tables in MySQL to store user information and searching history - Created routing classes in node.js - Tools: React, HTML, CSS, JavaScript, node.js, MySQL, SQL, Git 2). Wrote Google Apps Scripts to automate parts of the Video Production process, improving operational efficiency by 40% - Tools: Google Apps Scripts, Excel\\nSkills: React.js · GitHub · HTML5 · JavaScript · SQL · Cascading Style Sheets (CSS) · HTML\\nReact.js · GitHub · HTML5 · JavaScript · SQL · Cascading Style Sheets (CSS) · HTML', position_title='Web Developer Intern', duration='1 yr 1 mo', location='Hong Kong SAR · On-site')\n",
      "Experience(institution_name='Llewellyn & Partners Co. Ltd. (LPC) · Internship', linkedin_url='https://www.linkedin.com/company/69306096/', website=None, industry=None, type=None, headquarters=None, company_size=None, founded=None, from_date='Aug 2020', to_date='Oct 2020', description='1). Analysed image data and performed data preprocessing tasks for building infrastructure object detection model\\n - Analysing data proportion and filtering out ambiguous cases\\n - Performed image data preprocessing tasks such as colour space conversion, edge case detection, normalization, and input image shape manipulation\\n - Tools: Python, NumPy, Matplotlib, OpenCV\\n\\n2). Annotated thousands of raw infrastructure images for object detection supervised learning\\n\\n3). Developed new features for the Zentao app and developed backend scripts to handle logical flow and app routing, along with frontend styling fixes\\n - Tools: PHP, JavaScript\\n1). Analysed image data and performed data preprocessing tasks for building infrastructure object detection model - Analysing data proportion and filtering out ambiguous cases - Performed image data preprocessing tasks such as colour space conversion, edge case detection, normalization, and input image shape manipulation - Tools: Python, NumPy, Matplotlib, OpenCV 2). Annotated thousands of raw infrastructure images for object detection supervised learning 3). Developed new features for the Zentao app and developed backend scripts to handle logical flow and app routing, along with frontend styling fixes - Tools: PHP, JavaScript\\nSkills: NumPy · PHP · Python (Programming Language) · JavaScript\\nNumPy · PHP · Python (Programming Language) · JavaScript', position_title='Data Science Intern', duration='3 mos', location='Hong Kong SAR · Hybrid')\n"
     ]
    }
   ],
   "source": [
    "for experience in person.experiences:\n",
    "  print(experience)"
   ]
  },
  {
   "cell_type": "code",
   "execution_count": 19,
   "metadata": {},
   "outputs": [
    {
     "name": "stdout",
     "output_type": "stream",
     "text": [
      "Education(institution_name='Simon Fraser University', linkedin_url='https://www.linkedin.com/company/165977/', website=None, industry=None, type=None, headquarters=None, company_size=None, founded=None, from_date='Sep 2023', to_date='Dec 2024', description='', degree='Master of Science - MS, Computer Science')\n",
      "Education(institution_name='The University of Hong Kong', linkedin_url='https://www.linkedin.com/company/675376/', website=None, industry=None, type=None, headquarters=None, company_size=None, founded=None, from_date='Sep 2019', to_date='Jul 2023', description=\"Grade: 3.77\\nGrade: 3.77\\nHonours: First Class Honours\\nDean's List: 2019-20, 2020-21, 2021-22\\nHonours: First Class Honours Dean's List: 2019-20, 2020-21, 2021-22\", degree='Bachelor of Engineering - BE, Computer Science')\n",
      "Education(institution_name='McGill University', linkedin_url='https://www.linkedin.com/company/4855/', website=None, industry=None, type=None, headquarters=None, company_size=None, founded=None, from_date='Jan 2022', to_date='Apr 2022', description='Grade: 3.61\\nGrade: 3.61', degree='Exchange, Computer Science')\n",
      "Education(institution_name='Udacity', linkedin_url='https://www.linkedin.com/company/2475568/', website=None, industry=None, type=None, headquarters=None, company_size=None, founded=None, from_date='2020 -', to_date='', description='UdacityNanodegreeCertificate.pdf\\nUdacityNanodegreeCertificate.pdf', degree='Intro to Programming Nanodegree')\n"
     ]
    }
   ],
   "source": [
    "for education in person.educations:\n",
    "  print(education)"
   ]
  },
  {
   "cell_type": "code",
   "execution_count": 21,
   "metadata": {},
   "outputs": [
    {
     "name": "stdout",
     "output_type": "stream",
     "text": [
      "[]\n"
     ]
    }
   ],
   "source": [
    "print(person.interests)"
   ]
  },
  {
   "cell_type": "code",
   "execution_count": 22,
   "metadata": {},
   "outputs": [
    {
     "name": "stdout",
     "output_type": "stream",
     "text": [
      "[]\n"
     ]
    }
   ],
   "source": [
    "print(person.accomplishments)"
   ]
  },
  {
   "cell_type": "code",
   "execution_count": 23,
   "metadata": {},
   "outputs": [
    {
     "name": "stdout",
     "output_type": "stream",
     "text": [
      "The University of Hong Kong · Part-time\n"
     ]
    }
   ],
   "source": [
    "print(person.company)"
   ]
  },
  {
   "cell_type": "code",
   "execution_count": 24,
   "metadata": {},
   "outputs": [
    {
     "name": "stdout",
     "output_type": "stream",
     "text": [
      "Student Technical Assistant and Teaching Assistant\n"
     ]
    }
   ],
   "source": [
    "print(person.job_title)"
   ]
  },
  {
   "cell_type": "markdown",
   "metadata": {},
   "source": [
    "## Scrape Company"
   ]
  },
  {
   "cell_type": "code",
   "execution_count": 12,
   "metadata": {},
   "outputs": [
    {
     "ename": "NoSuchElementException",
     "evalue": "Message: no such element: Unable to locate element: {\"method\":\"css selector\",\"selector\":\".artdeco-card.p5.mb4\"}\n  (Session info: chrome=118.0.5993.70); For documentation on this error, please visit: https://www.selenium.dev/documentation/webdriver/troubleshooting/errors#no-such-element-exception\nStacktrace:\n0   chromedriver                        0x000000010359be08 chromedriver + 5025288\n1   chromedriver                        0x0000000103592c23 chromedriver + 4987939\n2   chromedriver                        0x0000000103134e67 chromedriver + 409191\n3   chromedriver                        0x00000001031841b9 chromedriver + 733625\n4   chromedriver                        0x0000000103184371 chromedriver + 734065\n5   chromedriver                        0x00000001031ca194 chromedriver + 1020308\n6   chromedriver                        0x00000001031ab50d chromedriver + 894221\n7   chromedriver                        0x00000001031c7571 chromedriver + 1009009\n8   chromedriver                        0x00000001031ab2b3 chromedriver + 893619\n9   chromedriver                        0x0000000103175eb9 chromedriver + 675513\n10  chromedriver                        0x00000001031770ee chromedriver + 680174\n11  chromedriver                        0x000000010355d819 chromedriver + 4769817\n12  chromedriver                        0x0000000103562893 chromedriver + 4790419\n13  chromedriver                        0x000000010356966e chromedriver + 4818542\n14  chromedriver                        0x00000001035635bd chromedriver + 4793789\n15  chromedriver                        0x000000010353598c chromedriver + 4606348\n16  chromedriver                        0x0000000103581b78 chromedriver + 4918136\n17  chromedriver                        0x0000000103581d30 chromedriver + 4918576\n18  chromedriver                        0x000000010359285e chromedriver + 4986974\n19  libsystem_pthread.dylib             0x00007ff816644202 _pthread_start + 99\n20  libsystem_pthread.dylib             0x00007ff81663fbab thread_start + 15\n",
     "output_type": "error",
     "traceback": [
      "\u001b[0;31m---------------------------------------------------------------------------\u001b[0m",
      "\u001b[0;31mNoSuchElementException\u001b[0m                    Traceback (most recent call last)",
      "\u001b[1;32m/Users/alexto/Documents/ProgrammingProjects/Tech-Job-Market-Trends/Alex/testing.ipynb Cell 14\u001b[0m line \u001b[0;36m1\n\u001b[1;32m      <a href='vscode-notebook-cell:/Users/alexto/Documents/ProgrammingProjects/Tech-Job-Market-Trends/Alex/testing.ipynb#X16sZmlsZQ%3D%3D?line=7'>8</a>\u001b[0m actions\u001b[39m.\u001b[39mlogin(driver, email, password) \u001b[39m# if email and password isnt given, it'll prompt in terminal\u001b[39;00m\n\u001b[1;32m      <a href='vscode-notebook-cell:/Users/alexto/Documents/ProgrammingProjects/Tech-Job-Market-Trends/Alex/testing.ipynb#X16sZmlsZQ%3D%3D?line=8'>9</a>\u001b[0m driver\u001b[39m.\u001b[39mimplicitly_wait(\u001b[39m5\u001b[39m)\n\u001b[0;32m---> <a href='vscode-notebook-cell:/Users/alexto/Documents/ProgrammingProjects/Tech-Job-Market-Trends/Alex/testing.ipynb#X16sZmlsZQ%3D%3D?line=10'>11</a>\u001b[0m company \u001b[39m=\u001b[39m Company(\u001b[39m\"\u001b[39;49m\u001b[39mhttps://www.linkedin.com/company/pinnacle-west-capital-corporation/\u001b[39;49m\u001b[39m\"\u001b[39;49m, driver\u001b[39m=\u001b[39;49mdriver, close_on_complete\u001b[39m=\u001b[39;49m\u001b[39mFalse\u001b[39;49;00m, get_employees\u001b[39m=\u001b[39;49m\u001b[39mFalse\u001b[39;49;00m)\n\u001b[1;32m     <a href='vscode-notebook-cell:/Users/alexto/Documents/ProgrammingProjects/Tech-Job-Market-Trends/Alex/testing.ipynb#X16sZmlsZQ%3D%3D?line=11'>12</a>\u001b[0m \u001b[39m# driver.implicitly_wait(5)\u001b[39;00m\n\u001b[1;32m     <a href='vscode-notebook-cell:/Users/alexto/Documents/ProgrammingProjects/Tech-Job-Market-Trends/Alex/testing.ipynb#X16sZmlsZQ%3D%3D?line=12'>13</a>\u001b[0m \u001b[39m# company.scrape(close_on_complete=False)\u001b[39;00m\n",
      "File \u001b[0;32m/usr/local/lib/python3.10/site-packages/linkedin_scraper/company.py:79\u001b[0m, in \u001b[0;36mCompany.__init__\u001b[0;34m(self, linkedin_url, name, about_us, website, headquarters, founded, industry, company_type, company_size, specialties, showcase_pages, affiliated_companies, driver, scrape, get_employees, close_on_complete)\u001b[0m\n\u001b[1;32m     76\u001b[0m \u001b[39mself\u001b[39m\u001b[39m.\u001b[39mdriver \u001b[39m=\u001b[39m driver\n\u001b[1;32m     78\u001b[0m \u001b[39mif\u001b[39;00m scrape:\n\u001b[0;32m---> 79\u001b[0m     \u001b[39mself\u001b[39;49m\u001b[39m.\u001b[39;49mscrape(get_employees\u001b[39m=\u001b[39;49mget_employees, close_on_complete\u001b[39m=\u001b[39;49mclose_on_complete)\n",
      "File \u001b[0;32m/usr/local/lib/python3.10/site-packages/linkedin_scraper/company.py:89\u001b[0m, in \u001b[0;36mCompany.scrape\u001b[0;34m(self, get_employees, close_on_complete)\u001b[0m\n\u001b[1;32m     87\u001b[0m \u001b[39mdef\u001b[39;00m \u001b[39mscrape\u001b[39m(\u001b[39mself\u001b[39m, get_employees\u001b[39m=\u001b[39m\u001b[39mTrue\u001b[39;00m, close_on_complete\u001b[39m=\u001b[39m\u001b[39mTrue\u001b[39;00m):\n\u001b[1;32m     88\u001b[0m     \u001b[39mif\u001b[39;00m \u001b[39mself\u001b[39m\u001b[39m.\u001b[39mis_signed_in():\n\u001b[0;32m---> 89\u001b[0m         \u001b[39mself\u001b[39;49m\u001b[39m.\u001b[39;49mscrape_logged_in(get_employees \u001b[39m=\u001b[39;49m get_employees, close_on_complete \u001b[39m=\u001b[39;49m close_on_complete)\n\u001b[1;32m     90\u001b[0m     \u001b[39melse\u001b[39;00m:\n\u001b[1;32m     91\u001b[0m         \u001b[39mself\u001b[39m\u001b[39m.\u001b[39mscrape_not_logged_in(get_employees \u001b[39m=\u001b[39m get_employees, close_on_complete \u001b[39m=\u001b[39m close_on_complete)\n",
      "File \u001b[0;32m/usr/local/lib/python3.10/site-packages/linkedin_scraper/company.py:210\u001b[0m, in \u001b[0;36mCompany.scrape_logged_in\u001b[0;34m(self, get_employees, close_on_complete)\u001b[0m\n\u001b[1;32m    207\u001b[0m      section_id \u001b[39m=\u001b[39m \u001b[39m3\u001b[39m\n\u001b[1;32m    208\u001b[0m \u001b[39m#section ID is no longer needed, we are using class name now.\u001b[39;00m\n\u001b[1;32m    209\u001b[0m  \u001b[39m#grid = driver.find_elements_by_tag_name(\"section\")[section_id]\u001b[39;00m\n\u001b[0;32m--> 210\u001b[0m  grid \u001b[39m=\u001b[39m driver\u001b[39m.\u001b[39;49mfind_element(By\u001b[39m.\u001b[39;49mCLASS_NAME, \u001b[39m\"\u001b[39;49m\u001b[39martdeco-card.p5.mb4\u001b[39;49m\u001b[39m\"\u001b[39;49m)\n\u001b[1;32m    211\u001b[0m  \u001b[39mprint\u001b[39m(grid)\n\u001b[1;32m    212\u001b[0m  descWrapper \u001b[39m=\u001b[39m grid\u001b[39m.\u001b[39mfind_elements(By\u001b[39m.\u001b[39mTAG_NAME, \u001b[39m\"\u001b[39m\u001b[39mp\u001b[39m\u001b[39m\"\u001b[39m)\n",
      "File \u001b[0;32m/usr/local/lib/python3.10/site-packages/selenium/webdriver/remote/webdriver.py:738\u001b[0m, in \u001b[0;36mWebDriver.find_element\u001b[0;34m(self, by, value)\u001b[0m\n\u001b[1;32m    735\u001b[0m     by \u001b[39m=\u001b[39m By\u001b[39m.\u001b[39mCSS_SELECTOR\n\u001b[1;32m    736\u001b[0m     value \u001b[39m=\u001b[39m \u001b[39mf\u001b[39m\u001b[39m'\u001b[39m\u001b[39m[name=\u001b[39m\u001b[39m\"\u001b[39m\u001b[39m{\u001b[39;00mvalue\u001b[39m}\u001b[39;00m\u001b[39m\"\u001b[39m\u001b[39m]\u001b[39m\u001b[39m'\u001b[39m\n\u001b[0;32m--> 738\u001b[0m \u001b[39mreturn\u001b[39;00m \u001b[39mself\u001b[39;49m\u001b[39m.\u001b[39;49mexecute(Command\u001b[39m.\u001b[39;49mFIND_ELEMENT, {\u001b[39m\"\u001b[39;49m\u001b[39musing\u001b[39;49m\u001b[39m\"\u001b[39;49m: by, \u001b[39m\"\u001b[39;49m\u001b[39mvalue\u001b[39;49m\u001b[39m\"\u001b[39;49m: value})[\u001b[39m\"\u001b[39m\u001b[39mvalue\u001b[39m\u001b[39m\"\u001b[39m]\n",
      "File \u001b[0;32m/usr/local/lib/python3.10/site-packages/selenium/webdriver/remote/webdriver.py:344\u001b[0m, in \u001b[0;36mWebDriver.execute\u001b[0;34m(self, driver_command, params)\u001b[0m\n\u001b[1;32m    342\u001b[0m response \u001b[39m=\u001b[39m \u001b[39mself\u001b[39m\u001b[39m.\u001b[39mcommand_executor\u001b[39m.\u001b[39mexecute(driver_command, params)\n\u001b[1;32m    343\u001b[0m \u001b[39mif\u001b[39;00m response:\n\u001b[0;32m--> 344\u001b[0m     \u001b[39mself\u001b[39;49m\u001b[39m.\u001b[39;49merror_handler\u001b[39m.\u001b[39;49mcheck_response(response)\n\u001b[1;32m    345\u001b[0m     response[\u001b[39m\"\u001b[39m\u001b[39mvalue\u001b[39m\u001b[39m\"\u001b[39m] \u001b[39m=\u001b[39m \u001b[39mself\u001b[39m\u001b[39m.\u001b[39m_unwrap_value(response\u001b[39m.\u001b[39mget(\u001b[39m\"\u001b[39m\u001b[39mvalue\u001b[39m\u001b[39m\"\u001b[39m, \u001b[39mNone\u001b[39;00m))\n\u001b[1;32m    346\u001b[0m     \u001b[39mreturn\u001b[39;00m response\n",
      "File \u001b[0;32m/usr/local/lib/python3.10/site-packages/selenium/webdriver/remote/errorhandler.py:229\u001b[0m, in \u001b[0;36mErrorHandler.check_response\u001b[0;34m(self, response)\u001b[0m\n\u001b[1;32m    227\u001b[0m         alert_text \u001b[39m=\u001b[39m value[\u001b[39m\"\u001b[39m\u001b[39malert\u001b[39m\u001b[39m\"\u001b[39m]\u001b[39m.\u001b[39mget(\u001b[39m\"\u001b[39m\u001b[39mtext\u001b[39m\u001b[39m\"\u001b[39m)\n\u001b[1;32m    228\u001b[0m     \u001b[39mraise\u001b[39;00m exception_class(message, screen, stacktrace, alert_text)  \u001b[39m# type: ignore[call-arg]  # mypy is not smart enough here\u001b[39;00m\n\u001b[0;32m--> 229\u001b[0m \u001b[39mraise\u001b[39;00m exception_class(message, screen, stacktrace)\n",
      "\u001b[0;31mNoSuchElementException\u001b[0m: Message: no such element: Unable to locate element: {\"method\":\"css selector\",\"selector\":\".artdeco-card.p5.mb4\"}\n  (Session info: chrome=118.0.5993.70); For documentation on this error, please visit: https://www.selenium.dev/documentation/webdriver/troubleshooting/errors#no-such-element-exception\nStacktrace:\n0   chromedriver                        0x000000010359be08 chromedriver + 5025288\n1   chromedriver                        0x0000000103592c23 chromedriver + 4987939\n2   chromedriver                        0x0000000103134e67 chromedriver + 409191\n3   chromedriver                        0x00000001031841b9 chromedriver + 733625\n4   chromedriver                        0x0000000103184371 chromedriver + 734065\n5   chromedriver                        0x00000001031ca194 chromedriver + 1020308\n6   chromedriver                        0x00000001031ab50d chromedriver + 894221\n7   chromedriver                        0x00000001031c7571 chromedriver + 1009009\n8   chromedriver                        0x00000001031ab2b3 chromedriver + 893619\n9   chromedriver                        0x0000000103175eb9 chromedriver + 675513\n10  chromedriver                        0x00000001031770ee chromedriver + 680174\n11  chromedriver                        0x000000010355d819 chromedriver + 4769817\n12  chromedriver                        0x0000000103562893 chromedriver + 4790419\n13  chromedriver                        0x000000010356966e chromedriver + 4818542\n14  chromedriver                        0x00000001035635bd chromedriver + 4793789\n15  chromedriver                        0x000000010353598c chromedriver + 4606348\n16  chromedriver                        0x0000000103581b78 chromedriver + 4918136\n17  chromedriver                        0x0000000103581d30 chromedriver + 4918576\n18  chromedriver                        0x000000010359285e chromedriver + 4986974\n19  libsystem_pthread.dylib             0x00007ff816644202 _pthread_start + 99\n20  libsystem_pthread.dylib             0x00007ff81663fbab thread_start + 15\n"
     ]
    }
   ],
   "source": [
    "from linkedin_scraper import Person, actions\n",
    "from selenium import webdriver\n",
    "import time\n",
    "driver = webdriver.Chrome()\n",
    "\n",
    "email = \"alextohoilam121@gmail.com\"\n",
    "password = input(\"Password: \")\n",
    "actions.login(driver, email, password) # if email and password isnt given, it'll prompt in terminal\n",
    "driver.implicitly_wait(5)\n",
    "\n",
    "company = Company(\"https://www.linkedin.com/company/pinnacle-west-capital-corporation/\", driver=driver, close_on_complete=False, get_employees=False)\n",
    "# driver.implicitly_wait(5)\n",
    "# company.scrape(close_on_complete=False)\n"
   ]
  },
  {
   "cell_type": "code",
   "execution_count": null,
   "metadata": {},
   "outputs": [],
   "source": [
    "print(company.linkedin_url)"
   ]
  },
  {
   "cell_type": "markdown",
   "metadata": {},
   "source": [
    "## Scrape Specific Job Posting"
   ]
  },
  {
   "cell_type": "code",
   "execution_count": 43,
   "metadata": {},
   "outputs": [
    {
     "ename": "TimeoutException",
     "evalue": "Message: \nStacktrace:\n0   chromedriver                        0x000000011006f018 chromedriver + 5042200\n1   chromedriver                        0x0000000110066743 chromedriver + 5007171\n2   chromedriver                        0x000000010fc0d577 chromedriver + 447863\n3   chromedriver                        0x000000010fc5c349 chromedriver + 770889\n4   chromedriver                        0x000000010fc5c501 chromedriver + 771329\n5   chromedriver                        0x000000010fca2264 chromedriver + 1057380\n6   chromedriver                        0x000000010fc8368d chromedriver + 931469\n7   chromedriver                        0x000000010fc9f641 chromedriver + 1046081\n8   chromedriver                        0x000000010fc83433 chromedriver + 930867\n9   chromedriver                        0x000000010fc4e062 chromedriver + 712802\n10  chromedriver                        0x000000010fc4f28e chromedriver + 717454\n11  chromedriver                        0x0000000110030db9 chromedriver + 4787641\n12  chromedriver                        0x0000000110035f6d chromedriver + 4808557\n13  chromedriver                        0x000000011003cec2 chromedriver + 4837058\n14  chromedriver                        0x0000000110036c9d chromedriver + 4811933\n15  chromedriver                        0x0000000110008efc chromedriver + 4624124\n16  chromedriver                        0x0000000110055898 chromedriver + 4937880\n17  chromedriver                        0x0000000110055a50 chromedriver + 4938320\n18  chromedriver                        0x000000011006637e chromedriver + 5006206\n19  libsystem_pthread.dylib             0x00007ff816644202 _pthread_start + 99\n20  libsystem_pthread.dylib             0x00007ff81663fbab thread_start + 15\n",
     "output_type": "error",
     "traceback": [
      "\u001b[0;31m---------------------------------------------------------------------------\u001b[0m",
      "\u001b[0;31mTimeoutException\u001b[0m                          Traceback (most recent call last)",
      "\u001b[1;32m/Users/alexto/Documents/ProgrammingProjects/Tech-Job-Market-Trends/Alex/testing.ipynb Cell 17\u001b[0m line \u001b[0;36m5\n\u001b[1;32m      <a href='vscode-notebook-cell:/Users/alexto/Documents/ProgrammingProjects/Tech-Job-Market-Trends/Alex/testing.ipynb#X22sZmlsZQ%3D%3D?line=2'>3</a>\u001b[0m password \u001b[39m=\u001b[39m \u001b[39minput\u001b[39m(\u001b[39m\"\u001b[39m\u001b[39mPassword: \u001b[39m\u001b[39m\"\u001b[39m)\n\u001b[1;32m      <a href='vscode-notebook-cell:/Users/alexto/Documents/ProgrammingProjects/Tech-Job-Market-Trends/Alex/testing.ipynb#X22sZmlsZQ%3D%3D?line=3'>4</a>\u001b[0m actions\u001b[39m.\u001b[39mlogin(driver, email, password) \u001b[39m# if email and password isnt given, it'll prompt in terminal\u001b[39;00m\n\u001b[0;32m----> <a href='vscode-notebook-cell:/Users/alexto/Documents/ProgrammingProjects/Tech-Job-Market-Trends/Alex/testing.ipynb#X22sZmlsZQ%3D%3D?line=4'>5</a>\u001b[0m job \u001b[39m=\u001b[39m Job(\u001b[39m\"\u001b[39;49m\u001b[39mhttps://www.linkedin.com/jobs/collections/recommended/?currentJobId=3714435088\u001b[39;49m\u001b[39m\"\u001b[39;49m, driver\u001b[39m=\u001b[39;49mdriver)\n",
      "File \u001b[0;32m/usr/local/lib/python3.10/site-packages/linkedin_scraper/jobs.py:40\u001b[0m, in \u001b[0;36mJob.__init__\u001b[0;34m(self, linkedin_url, job_title, company, company_linkedin_url, location, posted_date, applicant_count, job_description, benefits, driver, close_on_complete, scrape)\u001b[0m\n\u001b[1;32m     37\u001b[0m \u001b[39mself\u001b[39m\u001b[39m.\u001b[39mbenefits \u001b[39m=\u001b[39m benefits\n\u001b[1;32m     39\u001b[0m \u001b[39mif\u001b[39;00m scrape:\n\u001b[0;32m---> 40\u001b[0m     \u001b[39mself\u001b[39;49m\u001b[39m.\u001b[39;49mscrape(close_on_complete)\n",
      "File \u001b[0;32m/usr/local/lib/python3.10/site-packages/linkedin_scraper/jobs.py:47\u001b[0m, in \u001b[0;36mJob.scrape\u001b[0;34m(self, close_on_complete)\u001b[0m\n\u001b[1;32m     45\u001b[0m \u001b[39mdef\u001b[39;00m \u001b[39mscrape\u001b[39m(\u001b[39mself\u001b[39m, close_on_complete\u001b[39m=\u001b[39m\u001b[39mTrue\u001b[39;00m):\n\u001b[1;32m     46\u001b[0m     \u001b[39mif\u001b[39;00m \u001b[39mself\u001b[39m\u001b[39m.\u001b[39mis_signed_in():\n\u001b[0;32m---> 47\u001b[0m         \u001b[39mself\u001b[39;49m\u001b[39m.\u001b[39;49mscrape_logged_in(close_on_complete\u001b[39m=\u001b[39;49mclose_on_complete)\n\u001b[1;32m     48\u001b[0m     \u001b[39melse\u001b[39;00m:\n\u001b[1;32m     49\u001b[0m         \u001b[39mraise\u001b[39;00m \u001b[39mNotImplemented\u001b[39m(\u001b[39m\"\u001b[39m\u001b[39mThis part is not implemented yet\u001b[39m\u001b[39m\"\u001b[39m)\n",
      "File \u001b[0;32m/usr/local/lib/python3.10/site-packages/linkedin_scraper/jobs.py:70\u001b[0m, in \u001b[0;36mJob.scrape_logged_in\u001b[0;34m(self, close_on_complete)\u001b[0m\n\u001b[1;32m     68\u001b[0m driver\u001b[39m.\u001b[39mget(\u001b[39mself\u001b[39m\u001b[39m.\u001b[39mlinkedin_url)\n\u001b[1;32m     69\u001b[0m \u001b[39mself\u001b[39m\u001b[39m.\u001b[39mfocus()\n\u001b[0;32m---> 70\u001b[0m \u001b[39mself\u001b[39m\u001b[39m.\u001b[39mjob_title \u001b[39m=\u001b[39m \u001b[39mself\u001b[39;49m\u001b[39m.\u001b[39;49mwait_for_element_to_load(name\u001b[39m=\u001b[39;49m\u001b[39m\"\u001b[39;49m\u001b[39mjobs-unified-top-card__job-title\u001b[39;49m\u001b[39m\"\u001b[39;49m)\u001b[39m.\u001b[39mtext\u001b[39m.\u001b[39mstrip()\n\u001b[1;32m     71\u001b[0m \u001b[39mself\u001b[39m\u001b[39m.\u001b[39mcompany \u001b[39m=\u001b[39m \u001b[39mself\u001b[39m\u001b[39m.\u001b[39mwait_for_element_to_load(name\u001b[39m=\u001b[39m\u001b[39m\"\u001b[39m\u001b[39mjobs-unified-top-card__company-name\u001b[39m\u001b[39m\"\u001b[39m)\u001b[39m.\u001b[39mtext\u001b[39m.\u001b[39mstrip()\n\u001b[1;32m     72\u001b[0m \u001b[39mself\u001b[39m\u001b[39m.\u001b[39mcompany_linkedin_url \u001b[39m=\u001b[39m \u001b[39mself\u001b[39m\u001b[39m.\u001b[39mwait_for_element_to_load(name\u001b[39m=\u001b[39m\u001b[39m\"\u001b[39m\u001b[39mjobs-unified-top-card__company-name\u001b[39m\u001b[39m\"\u001b[39m)\u001b[39m.\u001b[39mfind_element_by_tag_name(\u001b[39m\"\u001b[39m\u001b[39ma\u001b[39m\u001b[39m\"\u001b[39m)\u001b[39m.\u001b[39mget_attribute(\u001b[39m\"\u001b[39m\u001b[39mhref\u001b[39m\u001b[39m\"\u001b[39m)\n",
      "File \u001b[0;32m/usr/local/lib/python3.10/site-packages/linkedin_scraper/objects.py:82\u001b[0m, in \u001b[0;36mScraper.wait_for_element_to_load\u001b[0;34m(self, by, name, base)\u001b[0m\n\u001b[1;32m     80\u001b[0m \u001b[39mdef\u001b[39;00m \u001b[39mwait_for_element_to_load\u001b[39m(\u001b[39mself\u001b[39m, by\u001b[39m=\u001b[39mBy\u001b[39m.\u001b[39mCLASS_NAME, name\u001b[39m=\u001b[39m\u001b[39m\"\u001b[39m\u001b[39mpv-top-card\u001b[39m\u001b[39m\"\u001b[39m, base\u001b[39m=\u001b[39m\u001b[39mNone\u001b[39;00m):\n\u001b[1;32m     81\u001b[0m     base \u001b[39m=\u001b[39m base \u001b[39mor\u001b[39;00m \u001b[39mself\u001b[39m\u001b[39m.\u001b[39mdriver\n\u001b[0;32m---> 82\u001b[0m     \u001b[39mreturn\u001b[39;00m WebDriverWait(base, \u001b[39mself\u001b[39;49m\u001b[39m.\u001b[39;49mWAIT_FOR_ELEMENT_TIMEOUT)\u001b[39m.\u001b[39;49muntil(\n\u001b[1;32m     83\u001b[0m         EC\u001b[39m.\u001b[39;49mpresence_of_element_located(\n\u001b[1;32m     84\u001b[0m             (\n\u001b[1;32m     85\u001b[0m                 by,\n\u001b[1;32m     86\u001b[0m                 name\n\u001b[1;32m     87\u001b[0m             )\n\u001b[1;32m     88\u001b[0m         )\n\u001b[1;32m     89\u001b[0m     )\n",
      "File \u001b[0;32m/usr/local/lib/python3.10/site-packages/selenium/webdriver/support/wait.py:95\u001b[0m, in \u001b[0;36mWebDriverWait.until\u001b[0;34m(self, method, message)\u001b[0m\n\u001b[1;32m     93\u001b[0m     \u001b[39mif\u001b[39;00m time\u001b[39m.\u001b[39mmonotonic() \u001b[39m>\u001b[39m end_time:\n\u001b[1;32m     94\u001b[0m         \u001b[39mbreak\u001b[39;00m\n\u001b[0;32m---> 95\u001b[0m \u001b[39mraise\u001b[39;00m TimeoutException(message, screen, stacktrace)\n",
      "\u001b[0;31mTimeoutException\u001b[0m: Message: \nStacktrace:\n0   chromedriver                        0x000000011006f018 chromedriver + 5042200\n1   chromedriver                        0x0000000110066743 chromedriver + 5007171\n2   chromedriver                        0x000000010fc0d577 chromedriver + 447863\n3   chromedriver                        0x000000010fc5c349 chromedriver + 770889\n4   chromedriver                        0x000000010fc5c501 chromedriver + 771329\n5   chromedriver                        0x000000010fca2264 chromedriver + 1057380\n6   chromedriver                        0x000000010fc8368d chromedriver + 931469\n7   chromedriver                        0x000000010fc9f641 chromedriver + 1046081\n8   chromedriver                        0x000000010fc83433 chromedriver + 930867\n9   chromedriver                        0x000000010fc4e062 chromedriver + 712802\n10  chromedriver                        0x000000010fc4f28e chromedriver + 717454\n11  chromedriver                        0x0000000110030db9 chromedriver + 4787641\n12  chromedriver                        0x0000000110035f6d chromedriver + 4808557\n13  chromedriver                        0x000000011003cec2 chromedriver + 4837058\n14  chromedriver                        0x0000000110036c9d chromedriver + 4811933\n15  chromedriver                        0x0000000110008efc chromedriver + 4624124\n16  chromedriver                        0x0000000110055898 chromedriver + 4937880\n17  chromedriver                        0x0000000110055a50 chromedriver + 4938320\n18  chromedriver                        0x000000011006637e chromedriver + 5006206\n19  libsystem_pthread.dylib             0x00007ff816644202 _pthread_start + 99\n20  libsystem_pthread.dylib             0x00007ff81663fbab thread_start + 15\n"
     ]
    }
   ],
   "source": [
    "driver = webdriver.Chrome()\n",
    "email = \"alextohoilam121@gmail.com\"\n",
    "password = input(\"Password: \")\n",
    "actions.login(driver, email, password)\n",
    "job = Job(\"https://www.linkedin.com/jobs/collections/recommended/?currentJobId=3714435088\", driver=driver)"
   ]
  },
  {
   "cell_type": "code",
   "execution_count": null,
   "metadata": {},
   "outputs": [],
   "source": []
  }
 ],
 "metadata": {
  "kernelspec": {
   "display_name": "Python 3",
   "language": "python",
   "name": "python3"
  },
  "language_info": {
   "codemirror_mode": {
    "name": "ipython",
    "version": 3
   },
   "file_extension": ".py",
   "mimetype": "text/x-python",
   "name": "python",
   "nbconvert_exporter": "python",
   "pygments_lexer": "ipython3",
   "version": "3.10.13"
  }
 },
 "nbformat": 4,
 "nbformat_minor": 2
}
