{
 "cells": [
  {
   "cell_type": "code",
   "execution_count": 14,
   "metadata": {},
   "outputs": [],
   "source": [
    "import pandas as pd\n",
    "import time\n",
    "import matplotlib.pyplot as plt\n",
    "from pyspark.sql import SparkSession, types\n",
    "import pyspark.sql.functions as F\n",
    "from  pyspark.sql.functions import col\n",
    "\n",
    "spark = (\n",
    "    SparkSession.builder.config(\"spark.sql.debug.maxToStringFields\", 100)\n",
    "    .appName(\"reviews\")\n",
    "    .getOrCreate()\n",
    ")\n",
    "\n",
    "# steam_reviews_filepath = \"../data/cleaned_steam_reviews/game_id={70,240,420,620}\"\n",
    "steam_reviews_filepath = \"../data/cleaned_steam_reviews\"\n",
    "steam_games_filepath = \"../data/cleaned_steam_games\""
   ]
  },
  {
   "cell_type": "markdown",
   "metadata": {},
   "source": [
    "## Load Data"
   ]
  },
  {
   "cell_type": "code",
   "execution_count": 15,
   "metadata": {},
   "outputs": [
    {
     "name": "stderr",
     "output_type": "stream",
     "text": [
      "                                                                                \r"
     ]
    }
   ],
   "source": [
    "steam_reviews = spark.read.parquet(steam_reviews_filepath)"
   ]
  },
  {
   "cell_type": "code",
   "execution_count": 11,
   "metadata": {},
   "outputs": [
    {
     "name": "stdout",
     "output_type": "stream",
     "text": [
      "root\n",
      " |-- url: string (nullable = true)\n",
      " |-- types: string (nullable = true)\n",
      " |-- name: string (nullable = true)\n",
      " |-- desc_snippet: string (nullable = true)\n",
      " |-- recent_reviews: string (nullable = true)\n",
      " |-- all_reviews: string (nullable = true)\n",
      " |-- release_date: date (nullable = true)\n",
      " |-- developer: string (nullable = true)\n",
      " |-- publisher: string (nullable = true)\n",
      " |-- popular_tags: string (nullable = true)\n",
      " |-- game_details: string (nullable = true)\n",
      " |-- languages: string (nullable = true)\n",
      " |-- achievements: integer (nullable = true)\n",
      " |-- genre: string (nullable = true)\n",
      " |-- game_description: string (nullable = true)\n",
      " |-- mature_content: string (nullable = true)\n",
      " |-- minimum_requirements: string (nullable = true)\n",
      " |-- recommended_requirements: string (nullable = true)\n",
      " |-- original_price: string (nullable = true)\n",
      " |-- discount_price: string (nullable = true)\n",
      " |-- game_id: string (nullable = true)\n",
      "\n"
     ]
    }
   ],
   "source": [
    "steam_games = spark.read.parquet(steam_games_filepath)\n",
    "\n",
    "steam_games.printSchema()"
   ]
  },
  {
   "cell_type": "code",
   "execution_count": 12,
   "metadata": {},
   "outputs": [
    {
     "name": "stdout",
     "output_type": "stream",
     "text": [
      "+--------------------+-----+----------------------------+--------------------+--------------------+--------------------+------------+--------------------+--------------------+--------------------+--------------------+--------------------+------------+--------------------+--------------------+--------------------+--------------------+------------------------+--------------------+--------------------+-------+\n",
      "|                 url|types|                        name|        desc_snippet|      recent_reviews|         all_reviews|release_date|           developer|           publisher|        popular_tags|        game_details|           languages|achievements|               genre|    game_description|      mature_content|minimum_requirements|recommended_requirements|      original_price|      discount_price|game_id|\n",
      "+--------------------+-----+----------------------------+--------------------+--------------------+--------------------+------------+--------------------+--------------------+--------------------+--------------------+--------------------+------------+--------------------+--------------------+--------------------+--------------------+------------------------+--------------------+--------------------+-------+\n",
      "|https://store.ste...|  app|                 World War 3|World War 3 is a ...|Mixed,(485),- 66%...|Mixed,(12,384),- ...|        null|         The Farm 51|The Farm 51,The F...|Early Access,FPS,...|Online Multi-Play...|English,Polish,Ru...|        null|Action,Indie,Earl...| About This Game ...| Mature Content D...|Minimum:,Requires...|    Recommended:,Requ...|              $28.00|              $16.80| 674020|\n",
      "|https://store.ste...|  app|               Knight Online|The Great Battle ...|Mostly Negative,(...|Mixed,(7,958),- 4...|        null|   Noah System,Mgame|     NTTGame,NTTGame|Free to Play,MMOR...|Single-player,Mul...|     English,Turkish|        null|Action,Adventure,...| About This Game ...|                null|                null|                    null|        Free to Play|                null| 389430|\n",
      "|https://store.ste...|  app|        Super Mega Baseba...|The critically ac...|                null|Very Positive,(44...|        null|Metalhead Softwar...|Metalhead Softwar...|Sports,Simulation...|Single-player,Mul...|             English|          42|Indie,Simulation,...| About This Game ...|                null|Minimum:,Requires...|    Recommended:,Requ...|              $29.99|              $37.31| 414870|\n",
      "|https://store.ste...|  app|         Plague Inc: Evolved|Plague Inc: Evolv...|Very Positive,(22...|Very Positive,(19...|        null|    Ndemic Creations|Ndemic Creations,...|Strategy,Simulati...|Single-player,Onl...|English,French,Ge...|         199|Casual,Indie,Simu...| About This Game ...|                null|Minimum:,OS:,Wind...|    Recommended:,OS:,...|              $14.99|                null| 246620|\n",
      "|https://store.ste...|  app|                      DEFCON|Inspired by the 1...|                null|Very Positive,(1,...|        null|Introversion Soft...|Introversion Soft...|Strategy,Indie,Wa...|Single-player,Mul...|English,French,Ge...|          22|      Indie,Strategy| About This Game ...|                null|                null|                    null|               $9.99|              $22.95|   1520|\n",
      "|https://store.ste...|  app|         SMASHING THE BATTLE|In the year 2085,...|                null|Mostly Positive,(...|        null|           STUDIO HG| STUDIO HG,STUDIO HG|Action,Female Pro...|Single-player,Ste...|English,French,Ge...|          20| Action,Casual,Indie| About This Game ...|                null|Minimum:,OS:,Wind...|    Recommended:,OS:,...|              $11.99|               $4.79| 467930|\n",
      "|https://store.ste...|  app|    Legend Of Mercy 神医魔导|Experience the st...|                null|Very Positive,(20...|        null|          SPG STUDIO|SPG STUDIO,SPG ST...|Nudity,Adventure,...|Single-player,Ste...|English,Simplifie...|          27| Adventure,Indie,RPG| About This Game ...| Mature Content D...|Minimum:,OS:,WinX...|    Recommended:,OS:,...|               $7.99|               $5.59| 676090|\n",
      "|https://store.ste...|  app|                 Caveblazers|Caveblazers is a ...|                null|Very Positive,(1,...|        null|       Deadpan Games|The Yogscast,The ...|Indie,Action,Rogu...|Single-player,Loc...|English,French,Ge...|          21|Action,Adventure,...|\" About This Game...| you are not the ...| you'll discover ...|     new weapons and ...| some hostile. We...| and hostile char...| 452060|\n",
      "|https://store.ste...|  app|        Football Heroes T...|Fight your way to...|                null|9 user reviews,- ...|        null|           Run Games| Run Games,Run Games|Early Access,Spor...|Single-player,Mul...|                null|        null|                null|                null|                null|                null|                    null|                null|                null| 774551|\n",
      "|https://store.ste...|  app|                     ATOMEGA|Grow, fight, coll...|                null|Mostly Positive,(...|        null|Reflections, a Ub...|     Ubisoft,Ubisoft|Action,Indie,Mult...|Online Multi-Play...|English,French,Ge...|          31|        Action,Indie| About This Game ...|                null|Minimum:,Requires...|    Recommended:,Requ...|               $9.99|                null| 619880|\n",
      "|https://store.ste...|  app|        Scheming Through ...|Survive the zombi...|                null|Very Positive,(87...|        null| Entertainment Forge|GrabTheGames,Grab...|Adventure,Post-ap...|Single-player,Ste...|             English|          19|           Adventure| About This Game ...| Mature Content D...|                null|                    null|               $4.99|               $6.38| 813540|\n",
      "|https://store.ste...|  app|        Red Rope: Don't F...|Red Rope is a ter...|                null|Very Positive,(58...|        null|              Yonder| IndieGala,IndieGala|Indie,Local Co-Op...|Single-player,Loc...|             English|          47|Action,Adventure,...| About This Game ...|                null|                null|                    null|               $7.99|               $4.79| 381880|\n",
      "|https://store.ste...|  app|           Cookies vs. Claus|Cookies vs. Claus...|                null|Very Positive,(70...|        null|Joshua Williams,E...|Evil Tortilla Gam...|Early Access,Acti...|Single-player,Onl...|             English|          10|Action,Casual,Ind...| About This Game ...|                null|                null|                    null|               $2.99|                null| 752910|\n",
      "|https://store.ste...|  app|STRIDER™ / ストライダー飛竜®|Strider returns i...|                null|Very Positive,(1,...|        null|Double Helix Game...|       Capcom,Capcom|Platformer,Metroi...|Single-player,Ste...|English,French,It...|          30|    Action,Adventure| About This Game ...|                null|                null|                    null|              $14.99|                null| 235210|\n",
      "|https://store.ste...|  app|                     Tentlan|Step into the sho...|                null|Mixed,(84),- 44% ...|        null|         Lionmoon UG|Lionmoon UG,Lionm...|Free to Play,Stra...|Single-player,Mul...|                null|        null|                null|                null|                null|                null|                    null|                null|                null| 876470|\n",
      "|https://store.ste...|  app|                 Mass Exodus|Whether you’re pl...|                null|Mostly Positive,(...|        null|           Polymerse| Polymerse,Polymerse|Action,Indie,Casu...|Multi-player,Loca...|             English|          22| Action,Casual,Indie| About This Game ...|                null|Minimum:,OS:,Win ...|    Recommended:,OS:,...|              $14.99|                null| 566530|\n",
      "|https://store.ste...|  app|               Blazing Beaks|Roguelite - where...|                null|Mostly Positive,(...|        null|             Applava|     Applava,Applava|Action,Indie,Rogu...|Single-player,Loc...|English,German,Ru...|          25|        Action,Indie| About This Game ...|                null|                null|                    null|              $14.99|              $17.98| 585710|\n",
      "|https://store.ste...|  app|         Synthwave Dream '85|Neons, extreme sp...|                null|Positive,(15),- 1...|        null|             LoneDev|     LoneDev,LoneDev|Early Access,Raci...|Single-player,Mul...|                null|        null|                null|                null|                null|                null|                    null|                null|                null| 881130|\n",
      "|https://store.ste...|  app|        Maytroid. I swear...|I swear it's a ni...|Very Positive,(10...|Mostly Positive,(...|        null|         PixelGreeds|PixelGreeds,Pixel...|Sexual Content,Ac...|Single-player,Ste...|                null|        null|                null|                null|                null|                null|                    null|                null|                null| 960190|\n",
      "|https://store.ste...|  app|                Next Up Hero|Fight. Die. Win! ...|                null|Mixed,(57),- 63% ...|        null|    Digital Continue|         Aspyr,Aspyr|Action,Dungeon Cr...|Single-player,Onl...|English,French,It...|          26|          Action,RPG| About This Game ...|                null|                null|                    null|              $19.99|              $22.93| 667810|\n",
      "+--------------------+-----+----------------------------+--------------------+--------------------+--------------------+------------+--------------------+--------------------+--------------------+--------------------+--------------------+------------+--------------------+--------------------+--------------------+--------------------+------------------------+--------------------+--------------------+-------+\n",
      "only showing top 20 rows\n",
      "\n"
     ]
    }
   ],
   "source": [
    "steam_games.show(20)"
   ]
  },
  {
   "cell_type": "markdown",
   "metadata": {},
   "source": [
    "## Steam Reviews"
   ]
  },
  {
   "cell_type": "code",
   "execution_count": 13,
   "metadata": {},
   "outputs": [],
   "source": [
    "def get_game_statistics_by_review_players(steam_reviews):\n",
    "    playerTypeData = steam_reviews.select(\"app_id\", \"app_name\", \"author_steamid\",\n",
    "                                            \"author_num_games_owned\", \"author_num_reviews\", \"author_playtime_forever\",\n",
    "                                            \"author_playtime_last_two_weeks\", \"author_playtime_at_review\", \"author_last_played\") \\\n",
    "                                    .where(col(\"author_steamid\").isNotNull() \\\n",
    "                                                    & col(\"author_num_games_owned\").isNotNull() \\\n",
    "                                                    & (col(\"author_num_reviews\").isNotNull()) \\\n",
    "                                                    & (col(\"author_playtime_forever\").isNotNull()) \\\n",
    "                                                    & (col(\"author_playtime_last_two_weeks\").isNotNull()) \\\n",
    "                                                    & (col(\"author_playtime_at_review\").isNotNull()) \\\n",
    "                                                    & (col(\"author_last_played\").isNotNull())  )\n",
    "    \n",
    "    gameName = playerTypeData.select(\"app_id\", \"app_name\").distinct()\n",
    "\n",
    "    playerType = playerTypeData.groupBy(col(\"app_id\")) \\\n",
    "                                .agg( \\\n",
    "                                    F.count(\"author_steamid\").alias(\"review_count\"), \\\n",
    "                                    F.avg(\"author_num_games_owned\").alias(\"avg_num_games_owned\"), \\\n",
    "                                    F.avg(\"author_num_reviews\").alias(\"avg_num_reviews\"), \\\n",
    "                                    F.avg(\"author_playtime_forever\").alias(\"avg_playtime_forever\"), \\\n",
    "                                    F.avg(\"author_playtime_last_two_weeks\").alias(\"avg_playtime_last_two_weeks\"), \\\n",
    "                                    F.avg(\"author_playtime_at_review\").alias(\"avg_playtime_at_review\"), \\\n",
    "                                    F.avg(\"author_last_played\").alias(\"avg_last_played\") \\\n",
    "                                )\n",
    "\n",
    "    playerType = gameName.join(playerType, \"app_id\").orderBy(col(\"app_id\").cast(types.IntegerType()))\n",
    "\n",
    "    return playerType"
   ]
  },
  {
   "cell_type": "code",
   "execution_count": 16,
   "metadata": {},
   "outputs": [],
   "source": [
    "playerType = get_game_statistics_by_review_players(steam_reviews)"
   ]
  },
  {
   "cell_type": "markdown",
   "metadata": {},
   "source": [
    "## Join Player Type and Steam Games"
   ]
  },
  {
   "cell_type": "code",
   "execution_count": 17,
   "metadata": {},
   "outputs": [],
   "source": [
    "playerType_steamGames = steam_games.join(playerType, steam_games[\"game_id\"] == playerType[\"app_id\"])"
   ]
  },
  {
   "cell_type": "code",
   "execution_count": 18,
   "metadata": {},
   "outputs": [
    {
     "name": "stderr",
     "output_type": "stream",
     "text": [
      "                                                                                \r"
     ]
    },
    {
     "name": "stdout",
     "output_type": "stream",
     "text": [
      "+--------------------+-----+--------------------+--------------------+--------------------+--------------------+------------+--------------------+--------------------+--------------------+--------------------+--------------------+------------+--------------------+--------------------+--------------------+--------------------+------------------------+--------------+--------------+-------+------+--------------------+------------+-------------------+------------------+--------------------+---------------------------+----------------------+--------------------+\n",
      "|                 url|types|                name|        desc_snippet|      recent_reviews|         all_reviews|release_date|           developer|           publisher|        popular_tags|        game_details|           languages|achievements|               genre|    game_description|      mature_content|minimum_requirements|recommended_requirements|original_price|discount_price|game_id|app_id|            app_name|review_count|avg_num_games_owned|   avg_num_reviews|avg_playtime_forever|avg_playtime_last_two_weeks|avg_playtime_at_review|     avg_last_played|\n",
      "+--------------------+-----+--------------------+--------------------+--------------------+--------------------+------------+--------------------+--------------------+--------------------+--------------------+--------------------+------------+--------------------+--------------------+--------------------+--------------------+------------------------+--------------+--------------+-------+------+--------------------+------------+-------------------+------------------+--------------------+---------------------------+----------------------+--------------------+\n",
      "|https://store.ste...|  app|             Outlast|Hell is an experi...|Very Positive,(13...|Overwhelmingly Po...|        null|         Red Barrels|Red Barrels,Red B...|Horror,First-Pers...|Single-player,Ste...|English,French,It...|          14|Action,Adventure,...| About This Game ...| Mature Content D...|Minimum:,OS:,Wind...|    Recommended:,OS:,...|        $19.99|        $47.17| 238320|238320|             Outlast|       47810| 151.21819702991007|17.189186362685632|   986.3357874921564|         10.681154570173604|     466.1542773478352|1.5385805627194312E9|\n",
      "|https://store.ste...|  app|  Volgarr the Viking|Return to the Gol...|                null|Very Positive,(1,...|        null|Crazy Viking Studios|Adult Swim Games,...|Platformer,Diffic...|Single-player,Ste...|             English|          20|Action,Adventure,...| About This Game ...|                null|                null|                    null|         $9.99|        $24.72| 247240|247240|  Volgarr the Viking|        1225|  440.7918367346939|45.201632653061225|   838.2881632653061|         1.6138775510204082|     577.1983673469388| 1.493205077054694E9|\n",
      "|https://store.ste...|  app|American Truck Si...|Experience legend...|Very Positive,(45...|Very Positive,(21...|        null|        SCS Software|SCS Software,SCS ...|Simulation,Drivin...|Single-player,Ste...|English,French,It...|          51|    Indie,Simulation| About This Game ...|                null|Minimum:,OS:,Wind...|    Recommended:,OS:,...|        $19.99|        $34.26| 270880|270880|American Truck Si...|       56685|  91.14898121196083| 8.553832583575902|  12869.879527211784|         184.74460615683162|    6348.9398253506215|1.5948071056653435E9|\n",
      "|https://store.ste...|  app|            The Room|A mysterious invi...|Very Positive,(87...|Overwhelmingly Po...|        null|     Fireproof Games|Fireproof Games,F...|Puzzle,Mystery,Po...|Single-player,Ste...|English,French,It...|           5|     Adventure,Indie| About This Game ...|                null|                null|                    null|         $4.99|          null| 288160|288160|            The Room|       10679|   269.046352654743| 20.55239254611855|   309.3891750163873|         3.2245528607547524|     251.3481599400693|1.5383939767603707E9|\n",
      "|https://store.ste...|  app|         Pit People®|In this fast-pace...|Very Positive,(16...|Very Positive,(4,...|        null|        The Behemoth|The Behemoth,The ...|Strategy,Funny,Tu...|Single-player,Mul...|English,French,It...|          27|Action,Indie,RPG,...| About This Game ...|                null|                null|                    null|        $19.99|        $29.56| 291860|291860|          Pit People|        4682| 207.12921828278513|  18.2052541648868|  2211.9651858180264|          9.840452797949593|    1317.8596753524134|1.5558878551593337E9|\n",
      "|https://store.ste...|  app|The Elder Scrolls...|Join over 10 mill...|Mixed,(797),- 68%...|Mostly Positive,(...|        null|Zenimax Online St...|Bethesda Softwork...|RPG,MMORPG,Open W...|MMO,Steam Trading...|English,French,Ge...|        null|Massively Multipl...| About This Game ...|                null|Minimum:,OS:,Wind...|    Recommended:,OS:,...|        $19.99|         $9.99| 306130|306130|The Elder Scrolls...|       67844| 121.03323801662638|   9.9339661576558|  31350.782574730263|          345.0057190024173|    15164.116016154709|1.5810567849933376E9|\n",
      "|https://store.ste...|  app|Styx: Shards of D...|Styx returns in a...|Very Positive,(10...|Very Positive,(1,...|        null|      Cyanide Studio|Focus Home Intera...|Stealth,Adventure...|Single-player,Onl...|English,French,It...|          38|    Action,Adventure| About This Game ...|                null|Minimum:,Requires...|    Recommended:,Requ...|        $39.99|          null| 355790|355790|Styx: Shards of D...|        1809|  233.5632946379215| 28.92482034273079|  1382.2388059701493|           9.18629076838032|    1008.5671641791045|1.5600841833852956E9|\n",
      "|https://store.ste...|  app|           Undertale|UNDERTALE! The RP...|Very Positive,(59...|Overwhelmingly Po...|        null|             tobyfox|     tobyfox,tobyfox|Great Soundtrack,...|Single-player,Ste...|    English,Japanese|        null|           Indie,RPG| About This Game ...|                null|Minimum:,OS:,Wind...|    Recommended:,OS:,...|         $9.99|          null| 391540|391540|           Undertale|      100008| 126.02838772898168|  9.77888768898488|  2032.3916786657066|          17.15445764338853|    1321.1630369570435|1.5512469985223582E9|\n",
      "|https://store.ste...|  app|   Hearts of Iron IV|Victory is at you...|Very Positive,(89...|Very Positive,(30...|        null|Paradox Developme...|Paradox Interacti...|Strategy,World Wa...|Single-player,Mul...|English,French,Ge...|          92| Simulation,Strategy| About This Game ...|                null|Minimum:,OS:,Wind...|    Recommended:,OS:,...|        $39.99|        $94.45| 394360|394360|   Hearts of Iron IV|       92401|  90.87554247248407| 7.782047813335353|   33643.08647092564|          486.0712871072824|     17944.21936992024| 1.603755913324228E9|\n",
      "|https://store.ste...|  app|      Super Meat Boy|The infamous, tou...|Very Positive,(67...|Very Positive,(18...|        null|           Team Meat|                null|Platformer,Diffic...|Single-player,Ste...|     English,Russian|          48|               Indie| About This Game ...|                null|                null|                    null|        $14.99|        $40.10|  40800| 40800|      Super Meat Boy|       20637|  272.2860396375442|21.883510200125986|   1156.138682948103|          8.258467800552406|     772.4873285845811| 1.504364818514319E9|\n",
      "+--------------------+-----+--------------------+--------------------+--------------------+--------------------+------------+--------------------+--------------------+--------------------+--------------------+--------------------+------------+--------------------+--------------------+--------------------+--------------------+------------------------+--------------+--------------+-------+------+--------------------+------------+-------------------+------------------+--------------------+---------------------------+----------------------+--------------------+\n",
      "only showing top 10 rows\n",
      "\n"
     ]
    }
   ],
   "source": [
    "playerType_steamGames.show(10)"
   ]
  },
  {
   "cell_type": "code",
   "execution_count": 20,
   "metadata": {},
   "outputs": [
    {
     "name": "stderr",
     "output_type": "stream",
     "text": [
      "                                                                                \r"
     ]
    },
    {
     "data": {
      "text/plain": [
       "282"
      ]
     },
     "execution_count": 20,
     "metadata": {},
     "output_type": "execute_result"
    }
   ],
   "source": [
    "playerType_steamGames.count()"
   ]
  },
  {
   "cell_type": "markdown",
   "metadata": {},
   "source": [
    "## Genres Analysis"
   ]
  },
  {
   "cell_type": "code",
   "execution_count": 52,
   "metadata": {},
   "outputs": [
    {
     "name": "stdout",
     "output_type": "stream",
     "text": [
      "+-------+--------------------+\n",
      "|game_id|              genres|\n",
      "+-------+--------------------+\n",
      "| 674020|              Action|\n",
      "| 674020|               Indie|\n",
      "| 674020|        Early Access|\n",
      "| 389430|              Action|\n",
      "| 389430|           Adventure|\n",
      "| 389430|        Free to Play|\n",
      "| 389430|Massively Multipl...|\n",
      "| 389430|                 RPG|\n",
      "| 414870|               Indie|\n",
      "| 414870|          Simulation|\n",
      "+-------+--------------------+\n",
      "only showing top 10 rows\n",
      "\n",
      "+--------------------+\n",
      "|              genres|\n",
      "+--------------------+\n",
      "|Cross-Platform Mu...|\n",
      "|                  51|\n",
      "|                1500|\n",
      "|           Difficult|\n",
      "|              Runner|\n",
      "|           Education|\n",
      "|        City Builder|\n",
      "|                  15|\n",
      "|      Steam Workshop|\n",
      "|           阿屁PP314|\n",
      "+--------------------+\n",
      "only showing top 10 rows\n",
      "\n",
      "Number of genres: 265\n"
     ]
    }
   ],
   "source": [
    "genres_map = steam_games.select(\"game_id\", F.explode_outer(F.split(col(\"genre\"),\",\")).alias(\"genres\")) \\\n",
    "                        .drop(\"genre\") \\\n",
    "                        .where(col(\"genres\") != F.lit(\"null\"))\n",
    "\n",
    "genres = genres_map.select(\"genres\").distinct()\n",
    "\n",
    "\n",
    "genres_map.show(10)\n",
    "\n",
    "genres.show(10)\n",
    "\n",
    "print(\"Number of genres:\", genres.count())"
   ]
  },
  {
   "cell_type": "code",
   "execution_count": 53,
   "metadata": {},
   "outputs": [],
   "source": [
    "playerTypeByGenres = playerType.select(\"app_id\", \"review_count\", \"avg_num_games_owned\", \"avg_playtime_forever\") \\\n",
    "                                .join(genres_map, genres_map[\"game_id\"] == playerType[\"app_id\"]) \\\n",
    "                                .drop(\"game_id\") \\\n",
    "                                .withColumn(\"games_owned\", col(\"avg_num_games_owned\") * col(\"review_count\")) \\\n",
    "                                .withColumn(\"playtime\", col(\"avg_playtime_forever\") * col(\"review_count\")) \\\n",
    "                                .drop(\"avg_num_games_owned\", \"avg_playtime_forever\")\n",
    "\n",
    "playerTypeByGenres = playerTypeByGenres.groupBy(\"genres\").agg( \\\n",
    "                                                                F.sum(col(\"review_count\")).alias(\"total_review_count\"), \\\n",
    "                                                                F.sum(col(\"games_owned\")).alias(\"total_games_owned\"), \\\n",
    "                                                                F.sum(col(\"playtime\")).alias(\"total_playtime\"), \\\n",
    "                                                            ) \\\n",
    "                                        .withColumn(\"avg_games_owned\", col(\"total_games_owned\") / col(\"total_review_count\")) \\\n",
    "                                        .withColumn(\"avg_playtime\", col(\"total_playtime\") / col(\"total_review_count\"))"
   ]
  },
  {
   "cell_type": "code",
   "execution_count": 63,
   "metadata": {},
   "outputs": [
    {
     "name": "stderr",
     "output_type": "stream",
     "text": [
      "                                                                                \r"
     ]
    },
    {
     "name": "stdout",
     "output_type": "stream",
     "text": [
      "+--------------------+------------------+-----------------+----------------+------------------+------------------+\n",
      "|              genres|total_review_count|total_games_owned|  total_playtime|   avg_games_owned|      avg_playtime|\n",
      "+--------------------+------------------+-----------------+----------------+------------------+------------------+\n",
      "|            Strategy|           2058413|     3.05925249E8| 3.8837774008E10|148.62189900666192|18867.823905115252|\n",
      "|        Early Access|            618693|      8.3312815E7|    5.99215351E9|134.65937872256515| 9685.180711596866|\n",
      "|                 RPG|           4032002|     5.05164663E8| 6.8547185582E10|125.28879276349565|17000.781641973394|\n",
      "|               Indie|           5885382|     7.02113375E8| 9.4790444046E10|119.29784251897328|16106.081822046555|\n",
      "|        Free to Play|            108306|      1.2823618E7|    1.79454123E8|118.40173212933725|1656.9176499916903|\n",
      "|          Simulation|           3211194|     3.55088611E8| 5.7704515753E10| 110.5783739630804| 17969.80056421381|\n",
      "|              Action|          10019635|     1.10702985E9|1.93785289253E11|110.48604564936747|19340.553748015773|\n",
      "|              Casual|            855243|      9.2735258E7|   3.800259968E9|108.43147269255638| 4443.485615199423|\n",
      "|           Adventure|           6649933|     6.91483295E8| 1.2294599946E11|103.98349802922826|18488.306492712032|\n",
      "|              Sports|            514344|      5.1089234E7| 1.4391855195E10|  99.3289199446285|27980.991700107323|\n",
      "|              Racing|            488919|      4.7023028E7| 1.3898995876E10| 96.17754270134726|28428.013384630172|\n",
      "|Animation & Modeling|            248580|      2.0185733E7|   1.611550123E9|  81.2041716952289| 6483.024068710274|\n",
      "|Design & Illustra...|            248580|      2.0185733E7|   1.611550123E9|  81.2041716952289| 6483.024068710274|\n",
      "|           Utilities|            248580|      2.0185733E7|   1.611550123E9|  81.2041716952289| 6483.024068710274|\n",
      "|         Steam Cloud|              6991|         559705.0|     1.2960002E7| 80.06079244743242|1853.8123301387498|\n",
      "|  Local Multi-Player|              6991|         559705.0|     1.2960002E7| 80.06079244743242|1853.8123301387498|\n",
      "|Full controller s...|              6991|         559705.0|     1.2960002E7| 80.06079244743242|1853.8123301387498|\n",
      "|        Multi-player|              6991|         559705.0|     1.2960002E7| 80.06079244743242|1853.8123301387498|\n",
      "|        Online Co-op|              6991|         559705.0|     1.2960002E7| 80.06079244743242|1853.8123301387498|\n",
      "| Steam Trading Cards|              6991|         559705.0|     1.2960002E7| 80.06079244743242|1853.8123301387498|\n",
      "+--------------------+------------------+-----------------+----------------+------------------+------------------+\n",
      "only showing top 20 rows\n",
      "\n"
     ]
    }
   ],
   "source": [
    "playerTypeByGenres.orderBy(F.desc(\"avg_games_owned\")).show(20)"
   ]
  },
  {
   "cell_type": "code",
   "execution_count": 72,
   "metadata": {},
   "outputs": [
    {
     "name": "stderr",
     "output_type": "stream",
     "text": [
      "                                                                                \r"
     ]
    },
    {
     "name": "stdout",
     "output_type": "stream",
     "text": [
      "                 avg_games_owned  avg_playtime\n",
      "avg_games_owned         1.000000      0.336969\n",
      "avg_playtime            0.336969      1.000000\n"
     ]
    },
    {
     "name": "stderr",
     "output_type": "stream",
     "text": [
      "/var/folders/bn/n488fsxn7ndc1kw3hf1k47000000gn/T/ipykernel_22689/1944477113.py:3: FutureWarning: The default value of numeric_only in DataFrame.corr is deprecated. In a future version, it will default to False. Select only valid columns or specify the value of numeric_only to silence this warning.\n",
      "  print(genres_gamesOwned_vs_playtime.toPandas().corr())\n"
     ]
    },
    {
     "data": {
      "image/png": "[encoded data removed]",
      "text/plain": [
       "<Figure size 640x480 with 1 Axes>"
      ]
     },
     "metadata": {},
     "output_type": "display_data"
    }
   ],
   "source": [
    "genres_gamesOwned_vs_playtime = playerTypeByGenres.select(\"genres\", \"avg_games_owned\", \"avg_playtime\")\n",
    "genres_gamesOwned_vs_playtime.toPandas().plot.scatter(x='avg_playtime', y='avg_games_owned')\n",
    "print(genres_gamesOwned_vs_playtime.toPandas().corr())"
   ]
  },
  {
   "cell_type": "markdown",
   "metadata": {},
   "source": [
    "## Popular Tags Analysis"
   ]
  },
  {
   "cell_type": "code",
   "execution_count": 39,
   "metadata": {},
   "outputs": [
    {
     "name": "stdout",
     "output_type": "stream",
     "text": [
      "+-------+------------+\n",
      "|game_id|        tags|\n",
      "+-------+------------+\n",
      "| 674020|Early Access|\n",
      "| 674020|         FPS|\n",
      "| 674020|    Military|\n",
      "| 674020|         War|\n",
      "| 674020| Multiplayer|\n",
      "| 674020|Early Access|\n",
      "| 674020|     Shooter|\n",
      "| 674020|      Action|\n",
      "| 674020|First-Person|\n",
      "| 674020|   Realistic|\n",
      "+-------+------------+\n",
      "only showing top 10 rows\n",
      "\n",
      "+--------------------+\n",
      "|                tags|\n",
      "+--------------------+\n",
      "|   Schmidt Workshops|\n",
      "|    Carpe Fulgur LLC|\n",
      "| Iceberg Interactive|\n",
      "|             Match 3|\n",
      "|Project \"\"The Gam...|\n",
      "|Tunnel Vision Studio|\n",
      "|              Nov 27|\n",
      "|Heart Shaped Game...|\n",
      "|   Specialbit Studio|\n",
      "|      1 user reviews|\n",
      "+--------------------+\n",
      "only showing top 10 rows\n",
      "\n",
      "Number of tags: 968\n"
     ]
    }
   ],
   "source": [
    "tags_map = steam_games.select(\"game_id\", F.explode_outer(F.split(col(\"popular_tags\"),\",\")).alias(\"tags\")) \\\n",
    "                        .drop(\"popular_tags\") \\\n",
    "                        .where(col(\"tags\") != F.lit(\"null\"))\n",
    "\n",
    "tags = tags_map.select(\"tags\").distinct()\n",
    "\n",
    "\n",
    "tags_map.show(10)\n",
    "\n",
    "tags.show(10)\n",
    "\n",
    "print(\"Number of tags:\", tags.count())"
   ]
  },
  {
   "cell_type": "code",
   "execution_count": 64,
   "metadata": {},
   "outputs": [],
   "source": [
    "playerTypeByTags = playerType.select(\"app_id\", \"review_count\", \"avg_num_games_owned\", \"avg_playtime_forever\") \\\n",
    "                            .join(tags_map, tags_map[\"game_id\"] == playerType[\"app_id\"]) \\\n",
    "                            .drop(\"game_id\") \\\n",
    "                            .withColumn(\"games_owned\", col(\"avg_num_games_owned\") * col(\"review_count\")) \\\n",
    "                            .withColumn(\"playtime\", col(\"avg_playtime_forever\") * col(\"review_count\")) \\\n",
    "                            .drop(\"avg_num_games_owned\", \"avg_playtime_forever\")\n",
    "\n",
    "playerTypeByTags = playerTypeByTags.groupBy(\"tags\").agg( \\\n",
    "                                                            F.sum(col(\"review_count\")).alias(\"total_review_count\"), \\\n",
    "                                                            F.sum(col(\"games_owned\")).alias(\"total_games_owned\"), \\\n",
    "                                                            F.sum(col(\"playtime\")).alias(\"total_playtime\"), \\\n",
    "                                                        ) \\\n",
    "                                    .withColumn(\"avg_games_owned\", col(\"total_games_owned\") / col(\"total_review_count\")) \\\n",
    "                                    .withColumn(\"avg_playtime\", col(\"total_playtime\") / col(\"total_review_count\"))"
   ]
  },
  {
   "cell_type": "code",
   "execution_count": 68,
   "metadata": {},
   "outputs": [
    {
     "name": "stderr",
     "output_type": "stream",
     "text": [
      "                                                                                \r"
     ]
    },
    {
     "name": "stdout",
     "output_type": "stream",
     "text": [
      "+--------------------+------------------+-----------------+--------------------+------------------+------------------+\n",
      "|                tags|total_review_count|total_games_owned|      total_playtime|   avg_games_owned|      avg_playtime|\n",
      "+--------------------+------------------+-----------------+--------------------+------------------+------------------+\n",
      "|              MMORPG|            463851|      4.6801101E7|      1.896003512E10|100.89684187379137| 40875.27055024135|\n",
      "|           Political|             95021|      1.4404076E7|       3.468652055E9|151.58834362930298| 36504.05757674619|\n",
      "|           Dinosaurs|            402674|      3.8452236E7|1.432441192600000...| 95.49222447935551| 35573.22282044533|\n",
      "|       Battle Royale|           1449293|      8.1423648E7|      5.074327672E10| 56.18163338952165|35012.434835468055|\n",
      "|           Diplomacy|            293407|      3.9465453E7|      1.003682946E10| 134.5075373116524|34207.873227291784|\n",
      "|            Baseball|               490|64514.00000000001|         1.6271878E7|131.66122448979593| 33207.91428571429|\n",
      "|              Soccer|            409954|      4.1037919E7|     1.3482984675E10|100.10371651453578|32889.018463047076|\n",
      "|            Football|            409954|      4.1037919E7|     1.3482984675E10|100.10371651453578|32889.018463047076|\n",
      "|         Competitive|           2786929|     2.03937801E8|     8.8874071664E10|  73.1765326637313|31889.607400834397|\n",
      "|             Dragons|            440508|      4.3436895E7|1.344763106100000...| 98.60637037238824|30527.552419025313|\n",
      "|           Education|            119652|      1.4912938E7|       3.640162756E9|124.63592752315047|30422.916089994316|\n",
      "|          Team-Based|           3467683|     2.64358016E8|    1.05185630954E11| 76.23477001790533|30333.116076065777|\n",
      "|      4 Player Local|            449613|      4.7205934E7|     1.3276083218E10|104.99236899288944| 29527.80106002273|\n",
      "|Massively Multipl...|           2112202|     1.93777887E8|     6.0187334509E10| 91.74211888825027| 28495.06558037536|\n",
      "|            Military|            695876|      8.1443068E7|     1.9820852245E10|117.03675367450523|28483.310597002914|\n",
      "|                 PvP|           2861938|      2.0697915E8|     8.1200610435E10| 72.32132561921327|28372.595924509897|\n",
      "|            Tactical|           3590960|     3.18951882E8|    1.00039720387E11| 88.82078385724152|  27858.7676796734|\n",
      "|                 Mod|            694986|      6.3477116E7|     1.9244601934E10| 91.33581971435396| 27690.63252209397|\n",
      "|        Split Screen|            500610|      4.7659221E7|     1.3313992223E10| 95.20229519985618|26595.537889774474|\n",
      "|Third-Person Shooter|           2937070|     2.41619851E8|     7.7117568232E10| 82.26560858270317|26256.632709468962|\n",
      "+--------------------+------------------+-----------------+--------------------+------------------+------------------+\n",
      "only showing top 20 rows\n",
      "\n"
     ]
    }
   ],
   "source": [
    "playerTypeByTags.orderBy(F.desc(\"avg_playtime\")).show(20)"
   ]
  },
  {
   "cell_type": "code",
   "execution_count": 71,
   "metadata": {},
   "outputs": [
    {
     "name": "stderr",
     "output_type": "stream",
     "text": [
      "                                                                                \r"
     ]
    },
    {
     "name": "stdout",
     "output_type": "stream",
     "text": [
      "                 avg_games_owned  avg_playtime\n",
      "avg_games_owned         1.000000     -0.525954\n",
      "avg_playtime           -0.525954      1.000000\n"
     ]
    },
    {
     "name": "stderr",
     "output_type": "stream",
     "text": [
      "/var/folders/bn/n488fsxn7ndc1kw3hf1k47000000gn/T/ipykernel_22689/1547959008.py:3: FutureWarning: The default value of numeric_only in DataFrame.corr is deprecated. In a future version, it will default to False. Select only valid columns or specify the value of numeric_only to silence this warning.\n",
      "  print(tags_gamesOwned_vs_playtime.toPandas().corr())\n"
     ]
    },
    {
     "data": {
      "image/png": "[encoded data removed]",
      "text/plain": [
       "<Figure size 640x480 with 1 Axes>"
      ]
     },
     "metadata": {},
     "output_type": "display_data"
    }
   ],
   "source": [
    "tags_gamesOwned_vs_playtime = playerTypeByTags.select(\"tags\", \"avg_games_owned\", \"avg_playtime\")\n",
    "tags_gamesOwned_vs_playtime.toPandas().plot.scatter(x='avg_playtime', y='avg_games_owned')\n",
    "print(tags_gamesOwned_vs_playtime.toPandas().corr())"
   ]
  },
  {
   "cell_type": "code",
   "execution_count": null,
   "metadata": {},
   "outputs": [],
   "source": []
  }
 ],
 "metadata": {
  "kernelspec": {
   "display_name": "Python 3",
   "language": "python",
   "name": "python3"
  },
  "language_info": {
   "codemirror_mode": {
    "name": "ipython",
    "version": 3
   },
   "file_extension": ".py",
   "mimetype": "text/x-python",
   "name": "python",
   "nbconvert_exporter": "python",
   "pygments_lexer": "ipython3",
   "version": "3.10.13"
  }
 },
 "nbformat": 4,
 "nbformat_minor": 2
}
