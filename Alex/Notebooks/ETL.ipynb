{
 "cells": [
  {
   "cell_type": "code",
   "execution_count": 1,
   "metadata": {},
   "outputs": [],
   "source": [
    "import pandas as pd\n",
    "import time\n",
    "import matplotlib.pyplot as plt\n",
    "from pyspark.sql import SparkSession, types\n",
    "import pyspark.sql.functions as F\n",
    "from  pyspark.sql.functions import col\n",
    "data_filepath = \"../../data/steam_reviews.csv\""
   ]
  },
  {
   "cell_type": "code",
   "execution_count": 2,
   "metadata": {},
   "outputs": [],
   "source": [
    "steam_reviews_schema = types.StructType([\n",
    "    types.StructField('_c0', types.StringType()),\n",
    "    types.StructField('app_id', types.StringType()),\n",
    "    types.StructField('app_name', types.StringType()),\n",
    "    types.StructField('review_id', types.StringType()),\n",
    "    types.StructField('language', types.StringType()),\n",
    "    types.StructField('review', types.StringType()),\n",
    "    types.StructField('timestamp_created', types.StringType()),\n",
    "    types.StructField('timestamp_updated', types.StringType()),\n",
    "    types.StructField('recommended', types.BooleanType()),\n",
    "    types.StructField('votes_helpful', types.IntegerType()),\n",
    "    types.StructField('votes_funny', types.IntegerType()),\n",
    "    types.StructField('weighted_vote_score', types.FloatType()),\n",
    "    types.StructField('comment_count', types.IntegerType()),\n",
    "    types.StructField('steam_purchase', types.BooleanType()),\n",
    "    types.StructField('received_for_free', types.BooleanType()),\n",
    "    types.StructField('written_during_early_access', types.BooleanType()),\n",
    "    types.StructField('author.steamid', types.StringType()),\n",
    "    types.StructField('author.num_games_owned', types.IntegerType()),\n",
    "    types.StructField('author.num_reviews', types.IntegerType()),\n",
    "    types.StructField('author.playtime_forever', types.FloatType()),\n",
    "    types.StructField('author.playtime_last_two_weeks', types.FloatType()),\n",
    "    types.StructField('author.playtime_at_review', types.FloatType()),\n",
    "    types.StructField('author.last_played', types.FloatType()),\n",
    "])\n"
   ]
  },
  {
   "cell_type": "code",
   "execution_count": 3,
   "metadata": {},
   "outputs": [
    {
     "name": "stderr",
     "output_type": "stream",
     "text": [
      "Setting default log level to \"WARN\".\n",
      "To adjust logging level use sc.setLogLevel(newLevel). For SparkR, use setLogLevel(newLevel).\n",
      "23/11/02 15:46:18 WARN NativeCodeLoader: Unable to load native-hadoop library for your platform... using builtin-java classes where applicable\n",
      "23/11/02 15:46:19 WARN Utils: Service 'SparkUI' could not bind on port 4040. Attempting port 4041.\n"
     ]
    }
   ],
   "source": [
    "#spark = SparkSession.builder.appName('games').getOrCreate()\n",
    "spark = (\n",
    "    SparkSession.builder.config(\"spark.sql.debug.maxToStringFields\", 100)\n",
    "    .appName(\"reviews\")\n",
    "    .getOrCreate()\n",
    ")\n",
    "\n",
    "steam_reviews = spark.read.format('csv') \\\n",
    "                    .schema(steam_reviews_schema) \\\n",
    "                    .option('header', 'true') \\\n",
    "                    .load(data_filepath)\n",
    "\n",
    "# steam_reviews.printSchema()"
   ]
  },
  {
   "cell_type": "code",
   "execution_count": 4,
   "metadata": {},
   "outputs": [
    {
     "name": "stderr",
     "output_type": "stream",
     "text": [
      "                                                                                \r"
     ]
    }
   ],
   "source": [
    "originalSize = steam_reviews.count()\n",
    "\n",
    "steam_reviews = steam_reviews.where(col(\"app_id\").isNotNull() \\\n",
    "                                    & col(\"app_name\").isNotNull() \\\n",
    "                                    & (col(\"app_id\") != \"0\") \\\n",
    "                                    & (col(\"app_name\") != \"0\") \\\n",
    "                                    & (col(\"app_name\").cast(\"int\").isNull()) \\\n",
    "                                    & (col(\"app_id\").cast(\"int\").isNotNull()) \\\n",
    "                                    & (col(\"app_id\").cast(\"int\") != 0)  )\n",
    "\n",
    "steam_reviews = steam_reviews.withColumnRenamed(\"author.steamid\", \"author_steamid\") \\\n",
    "                             .withColumnRenamed(\"author.num_games_owned\", \"author_num_games_owned\") \\\n",
    "                             .withColumnRenamed(\"author.num_reviews\", \"author_num_reviews\") \\\n",
    "                             .withColumnRenamed(\"author.playtime_forever\", \"author_playtime_forever\") \\\n",
    "                             .withColumnRenamed(\"author.playtime_last_two_weeks\", \"author_playtime_last_two_weeks\") \\\n",
    "                             .withColumnRenamed(\"author.playtime_at_review\", \"author_playtime_at_review\") \\\n",
    "                             .withColumnRenamed(\"author.last_played\", \"author_last_played\")\n",
    "\n",
    "steam_reviews = steam_reviews.drop(\"_c0\")\n",
    "\n",
    "all_games = steam_reviews.select(col(\"app_id\"), col(\"review_id\")) \\\n",
    "                         .groupBy(col(\"app_id\")).agg(F.count(\"review_id\").alias(\"review_count\")) \\\n",
    "                         .where(col(\"review_count\") >= 500) \\\n",
    "                         .select(\"app_id\", \"review_count\")\n",
    "\n",
    "# steam_reviews = steam_reviews.join(all_games.hint(\"broadcast\"), [\"app_id\"])\n",
    "\n",
    "# currentSize = steam_reviews.count()\n",
    "# gameCount = all_games.count()\n",
    "\n",
    "# print(\"Number of reviews:\")\n",
    "# print(\"  Original data size:\", originalSize)\n",
    "# print(\"  Current data size:\", currentSize)\n",
    "# print(\"  Data Removed:\", originalSize - currentSize)\n",
    "# print(\"\")\n",
    "# print(\"Number of games:\", gameCount)\n",
    "# print(\"\")\n",
    "\n",
    "# steam_reviews.show(100)\n",
    "\n",
    "# steam_reviews.write.csv(\"output\", mode='overwrite')\n",
    "\n"
   ]
  },
  {
   "cell_type": "code",
   "execution_count": 5,
   "metadata": {},
   "outputs": [],
   "source": [
    "steam_reviews = steam_reviews.select(\"app_id\", \"app_name\").dropDuplicates(['app_id'])"
   ]
  },
  {
   "cell_type": "code",
   "execution_count": 13,
   "metadata": {},
   "outputs": [
    {
     "name": "stderr",
     "output_type": "stream",
     "text": [
      "                                                                                \r"
     ]
    },
    {
     "name": "stdout",
     "output_type": "stream",
     "text": [
      "+------+--------------------+------------+\n",
      "|app_id|            app_name|review_count|\n",
      "+------+--------------------+------------+\n",
      "|    70|           Half-Life|       57320|\n",
      "|   240|Counter-Strike: S...|      118081|\n",
      "|   420|Half-Life 2: Epis...|       23501|\n",
      "|   620|            Portal 2|      232329|\n",
      "|  2870|           X Rebirth|        7001|\n",
      "|  4000|         Garry's Mod|      655524|\n",
      "|  7510|            X-Blades|        2805|\n",
      "|  8870|   BioShock Infinite|      107277|\n",
      "|  8930|Sid Meier's Civil...|      171404|\n",
      "| 32470|STAR WARS™ Empire...|       20553|\n",
      "+------+--------------------+------------+\n",
      "only showing top 10 rows\n",
      "\n"
     ]
    }
   ],
   "source": [
    "review_counts = steam_reviews.join(all_games.hint(\"broadcast\"), [\"app_id\"]) \\\n",
    "                                 .select(\"app_id\", \"app_name\", \"review_count\") \\\n",
    "                                 .orderBy(col(\"app_id\").cast(types.IntegerType()))\n",
    "\n",
    "review_counts.show(10)"
   ]
  },
  {
   "cell_type": "code",
   "execution_count": 8,
   "metadata": {},
   "outputs": [
    {
     "name": "stderr",
     "output_type": "stream",
     "text": [
      "                                                                                \r"
     ]
    },
    {
     "data": {
      "text/plain": [
       "314"
      ]
     },
     "execution_count": 8,
     "metadata": {},
     "output_type": "execute_result"
    }
   ],
   "source": [
    "len(review_counts.collect())"
   ]
  },
  {
   "cell_type": "code",
   "execution_count": null,
   "metadata": {},
   "outputs": [],
   "source": []
  },
  {
   "cell_type": "code",
   "execution_count": null,
   "metadata": {},
   "outputs": [],
   "source": [
    "all_games = steam_reviews.select(col(\"app_id\"), col(\"review_id\")) \\\n",
    "                         .groupBy(col(\"app_id\")).agg(F.count(\"review_id\").alias(\"review_count\")) \\\n",
    "                         .where(col(\"review_count\") >= 500) \\\n",
    "                         .select(\"app_id\")\n",
    "                        #  .orderBy(col(\"review_count\"))"
   ]
  },
  {
   "cell_type": "code",
   "execution_count": null,
   "metadata": {},
   "outputs": [],
   "source": [
    "steam_reviews = steam_reviews.join(all_games.hint(\"broadcast\"), [\"app_id\"])"
   ]
  },
  {
   "cell_type": "code",
   "execution_count": null,
   "metadata": {},
   "outputs": [],
   "source": [
    "test.show(100)"
   ]
  },
  {
   "cell_type": "code",
   "execution_count": null,
   "metadata": {},
   "outputs": [],
   "source": [
    "afterSize = test.count()\n",
    "\n",
    "\n",
    "print(\"Original data size:\", originalSize)\n",
    "print(\"Current data size:\", afterSize)\n",
    "print(\"Total Removed:\", originalSize - afterSize)\n",
    "print(\"Little Game Removed:\", currentSize - afterSize)"
   ]
  },
  {
   "cell_type": "code",
   "execution_count": null,
   "metadata": {},
   "outputs": [],
   "source": [
    "test = steam_reviews.where(col(\"app_id\") == \"619290\")\n",
    "test.show(100)"
   ]
  },
  {
   "cell_type": "code",
   "execution_count": null,
   "metadata": {},
   "outputs": [],
   "source": [
    "steam_reviews.show(100)"
   ]
  },
  {
   "cell_type": "markdown",
   "metadata": {},
   "source": [
    "# Ignore"
   ]
  },
  {
   "cell_type": "code",
   "execution_count": null,
   "metadata": {},
   "outputs": [],
   "source": [
    "unwanted = steam_reviews.select(col(\"app_id\")).where(col(\"app_id\").isNull() \\\n",
    "                              | (F.lower(col(\"app_id\")) == \"null\") \\\n",
    "                              | (col(\"app_id\") == \"\") \\\n",
    "                              | (col(\"app_id\") == \"0\"))"
   ]
  },
  {
   "cell_type": "code",
   "execution_count": null,
   "metadata": {},
   "outputs": [],
   "source": []
  },
  {
   "cell_type": "code",
   "execution_count": null,
   "metadata": {},
   "outputs": [],
   "source": [
    "unwanted.show(10)"
   ]
  },
  {
   "cell_type": "code",
   "execution_count": null,
   "metadata": {},
   "outputs": [],
   "source": [
    "unwanted = steam_reviews.select(col(\"app_name\")).where(col(\"app_name\").isNull() \\\n",
    "                              | (F.lower(col(\"app_name\")) == \"null\") \\\n",
    "                              | (col(\"app_name\") == \"\") \\\n",
    "                              | (col(\"app_name\") == \"0\"))"
   ]
  },
  {
   "cell_type": "code",
   "execution_count": null,
   "metadata": {},
   "outputs": [],
   "source": [
    "unwanted.show(10)"
   ]
  },
  {
   "cell_type": "code",
   "execution_count": null,
   "metadata": {},
   "outputs": [],
   "source": []
  }
 ],
 "metadata": {
  "kernelspec": {
   "display_name": "Python 3",
   "language": "python",
   "name": "python3"
  },
  "language_info": {
   "codemirror_mode": {
    "name": "ipython",
    "version": 3
   },
   "file_extension": ".py",
   "mimetype": "text/x-python",
   "name": "python",
   "nbconvert_exporter": "python",
   "pygments_lexer": "ipython3",
   "version": "3.10.13"
  }
 },
 "nbformat": 4,
 "nbformat_minor": 2
}
