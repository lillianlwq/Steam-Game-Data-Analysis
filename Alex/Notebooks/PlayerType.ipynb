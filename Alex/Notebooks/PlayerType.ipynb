{
 "cells": [
  {
   "cell_type": "code",
   "execution_count": 15,
   "metadata": {},
   "outputs": [],
   "source": [
    "import pandas as pd\n",
    "import time\n",
    "import matplotlib.pyplot as plt\n",
    "from pyspark.sql import SparkSession, types\n",
    "from pyspark.sql import functions\n",
    "from  pyspark.sql.functions import col\n",
    "data_filepath = \"../data/steam_reviews.csv\""
   ]
  },
  {
   "cell_type": "code",
   "execution_count": null,
   "metadata": {},
   "outputs": [],
   "source": [
    "steam_reviews_schema = types.StructType([\n",
    "    types.StructField('_c0', types.StringType()),\n",
    "    types.StructField('app_id', types.StringType()),\n",
    "    types.StructField('app_name', types.StringType()),\n",
    "    types.StructField('review_id', types.StringType()),\n",
    "    types.StructField('language', types.StringType()),\n",
    "    types.StructField('review', types.StringType()),\n",
    "    types.StructField('timestamp_created', types.StringType()),\n",
    "    types.StructField('timestamp_updated', types.StringType()),\n",
    "    types.StructField('recommended', types.BooleanType()),\n",
    "    types.StructField('votes_helpful', types.IntegerType()),\n",
    "    types.StructField('votes_funny', types.IntegerType()),\n",
    "    types.StructField('weighted_vote_score', types.FloatType()),\n",
    "    types.StructField('comment_count', types.IntegerType()),\n",
    "    types.StructField('steam_purchase', types.BooleanType()),\n",
    "    types.StructField('received_for_free', types.BooleanType()),\n",
    "    types.StructField('written_during_early_access', types.BooleanType()),\n",
    "    types.StructField('author.steamid', types.StringType()),\n",
    "    types.StructField('author.num_games_owned', types.IntegerType()),\n",
    "    types.StructField('author.num_reviews', types.IntegerType()),\n",
    "    types.StructField('author.playtime_forever', types.FloatType()),\n",
    "    types.StructField('author.playtime_last_two_weeks', types.FloatType()),\n",
    "    types.StructField('author.playtime_at_review', types.FloatType()),\n",
    "    types.StructField('author.last_played', types.FloatType()),\n",
    "])\n"
   ]
  },
  {
   "cell_type": "code",
   "execution_count": 2,
   "metadata": {},
   "outputs": [
    {
     "name": "stderr",
     "output_type": "stream",
     "text": [
      "Setting default log level to \"WARN\".\n",
      "To adjust logging level use sc.setLogLevel(newLevel). For SparkR, use setLogLevel(newLevel).\n",
      "23/10/26 13:23:04 WARN NativeCodeLoader: Unable to load native-hadoop library for your platform... using builtin-java classes where applicable\n"
     ]
    },
    {
     "name": "stdout",
     "output_type": "stream",
     "text": [
      "root\n",
      " |-- _c0: string (nullable = true)\n",
      " |-- app_id: string (nullable = true)\n",
      " |-- app_name: string (nullable = true)\n",
      " |-- review_id: string (nullable = true)\n",
      " |-- language: string (nullable = true)\n",
      " |-- review: string (nullable = true)\n",
      " |-- timestamp_created: string (nullable = true)\n",
      " |-- timestamp_updated: string (nullable = true)\n",
      " |-- recommended: string (nullable = true)\n",
      " |-- votes_helpful: string (nullable = true)\n",
      " |-- votes_funny: string (nullable = true)\n",
      " |-- weighted_vote_score: string (nullable = true)\n",
      " |-- comment_count: string (nullable = true)\n",
      " |-- steam_purchase: string (nullable = true)\n",
      " |-- received_for_free: string (nullable = true)\n",
      " |-- written_during_early_access: string (nullable = true)\n",
      " |-- author.steamid: string (nullable = true)\n",
      " |-- author.num_games_owned: string (nullable = true)\n",
      " |-- author.num_reviews: string (nullable = true)\n",
      " |-- author.playtime_forever: string (nullable = true)\n",
      " |-- author.playtime_last_two_weeks: string (nullable = true)\n",
      " |-- author.playtime_at_review: string (nullable = true)\n",
      " |-- author.last_played: string (nullable = true)\n",
      "\n"
     ]
    }
   ],
   "source": [
    "#spark = SparkSession.builder.appName('games').getOrCreate()\n",
    "spark = (\n",
    "    SparkSession.builder.config(\"spark.sql.debug.maxToStringFields\", 100)\n",
    "    .appName(\"reviews\")\n",
    "    .getOrCreate()\n",
    ")\n",
    "\n",
    "steam_reviews = spark.read.format('csv') \\\n",
    "                    .schema(steam_reviews_schema) \\\n",
    "                    .option('header', 'true') \\\n",
    "                    .load(data_filepath)\n",
    "\n",
    "steam_reviews.printSchema()"
   ]
  },
  {
   "cell_type": "markdown",
   "metadata": {},
   "source": [
    "## Clean Data\n",
    "\n",
    "1. "
   ]
  },
  {
   "cell_type": "code",
   "execution_count": 23,
   "metadata": {},
   "outputs": [
    {
     "name": "stderr",
     "output_type": "stream",
     "text": [
      "23/10/26 13:52:33 WARN CSVHeaderChecker: CSV header does not conform to the schema.\n",
      " Header: , app_id, app_name, review_id, language, review, timestamp_created, timestamp_updated, recommended, votes_helpful, votes_funny, weighted_vote_score, comment_count, steam_purchase, received_for_free, written_during_early_access, author.steamid, author.num_games_owned, author.num_reviews, author.playtime_forever, author.playtime_last_two_weeks, author.playtime_at_review, author.last_played\n",
      " Schema: _c0, app_id, app_name, review_id, language, review, timestamp_created, timestamp_updated, recommended, votes_helpful, votes_funny, weighted_vote_score, comment_count, steam_purchase, received_for_free, written_during_early_access, author.steamid, author.num_games_owned, author.num_reviews, author.playtime_forever, author.playtime_last_two_weeks, author.playtime_at_review, author.last_played\n",
      "Expected: _c0 but found: \n",
      "CSV file: file:///Users/alexto/Documents/ProgrammingProjects/Tech-Job-Market-Trends/data/steam_reviews.csv\n",
      "[Stage 13:======================================================> (59 + 2) / 61]\r"
     ]
    },
    {
     "name": "stdout",
     "output_type": "stream",
     "text": [
      "+-----+--------+----------+-----------+----------+--------+-------------------+-------------------+-------------+---------------+-------------+---------------------+---------------+----------------+-------------------+-----------------------------+----------------+------------------------+--------------------+-------------------------+--------------------------------+---------------------------+--------------------+\n",
      "|`_c0`|`app_id`|`app_name`|`review_id`|`language`|`review`|`timestamp_created`|`timestamp_updated`|`recommended`|`votes_helpful`|`votes_funny`|`weighted_vote_score`|`comment_count`|`steam_purchase`|`received_for_free`|`written_during_early_access`|`author.steamid`|`author.num_games_owned`|`author.num_reviews`|`author.playtime_forever`|`author.playtime_last_two_weeks`|`author.playtime_at_review`|`author.last_played`|\n",
      "+-----+--------+----------+-----------+----------+--------+-------------------+-------------------+-------------+---------------+-------------+---------------------+---------------+----------------+-------------------+-----------------------------+----------------+------------------------+--------------------+-------------------------+--------------------------------+---------------------------+--------------------+\n",
      "|   21|       3|         3|          0|         1|      15|                  0|                  0|            0|              0|            0|                    0|              0|               0|                  0|                            0|               0|                       0|                   0|                        0|                               0|                          0|                   0|\n",
      "+-----+--------+----------+-----------+----------+--------+-------------------+-------------------+-------------+---------------+-------------+---------------------+---------------+----------------+-------------------+-----------------------------+----------------+------------------------+--------------------+-------------------------+--------------------------------+---------------------------+--------------------+\n",
      "\n"
     ]
    },
    {
     "name": "stderr",
     "output_type": "stream",
     "text": [
      "                                                                                \r"
     ]
    }
   ],
   "source": [
    "steam_reviews.select([functions.count(functions.when(functions.isnan(\"`\" + c + \"`\"), \"`\" + c + \"`\")).alias(\"`\" + c + \"`\") for c in steam_reviews.columns]).show()"
   ]
  },
  {
   "cell_type": "code",
   "execution_count": 24,
   "metadata": {},
   "outputs": [
    {
     "name": "stderr",
     "output_type": "stream",
     "text": [
      "23/10/26 13:58:21 WARN CSVHeaderChecker: CSV header does not conform to the schema.\n",
      " Header: , app_id, app_name, review_id, language, review, timestamp_created, timestamp_updated, recommended, votes_helpful, votes_funny, weighted_vote_score, comment_count, steam_purchase, received_for_free, written_during_early_access, author.steamid, author.num_games_owned, author.num_reviews, author.playtime_forever, author.playtime_last_two_weeks, author.playtime_at_review, author.last_played\n",
      " Schema: _c0, app_id, app_name, review_id, language, review, timestamp_created, timestamp_updated, recommended, votes_helpful, votes_funny, weighted_vote_score, comment_count, steam_purchase, received_for_free, written_during_early_access, author.steamid, author.num_games_owned, author.num_reviews, author.playtime_forever, author.playtime_last_two_weeks, author.playtime_at_review, author.last_played\n",
      "Expected: _c0 but found: \n",
      "CSV file: file:///Users/alexto/Documents/ProgrammingProjects/Tech-Job-Market-Trends/data/steam_reviews.csv\n",
      "[Stage 16:=======================================================>(60 + 1) / 61]\r"
     ]
    },
    {
     "name": "stdout",
     "output_type": "stream",
     "text": [
      "+-----+--------+----------+-----------+----------+--------+-------------------+-------------------+-------------+---------------+-------------+---------------------+---------------+----------------+-------------------+-----------------------------+----------------+------------------------+--------------------+-------------------------+--------------------------------+---------------------------+--------------------+\n",
      "|`_c0`|`app_id`|`app_name`|`review_id`|`language`|`review`|`timestamp_created`|`timestamp_updated`|`recommended`|`votes_helpful`|`votes_funny`|`weighted_vote_score`|`comment_count`|`steam_purchase`|`received_for_free`|`written_during_early_access`|`author.steamid`|`author.num_games_owned`|`author.num_reviews`|`author.playtime_forever`|`author.playtime_last_two_weeks`|`author.playtime_at_review`|`author.last_played`|\n",
      "+-----+--------+----------+-----------+----------+--------+-------------------+-------------------+-------------+---------------+-------------+---------------------+---------------+----------------+-------------------+-----------------------------+----------------+------------------------+--------------------+-------------------------+--------------------------------+---------------------------+--------------------+\n",
      "| 1656|11335874|  13077913|   13975798|  14498420|14860610|           19928219|           20104213|     20217490|       20296075|     20350386|             20389679|       20417234|        20437907|           20452713|                     20464051|        20476095|                20480003|            22945129|                 23511575|                        23759374|                   23902511|            23951902|\n",
      "+-----+--------+----------+-----------+----------+--------+-------------------+-------------------+-------------+---------------+-------------+---------------------+---------------+----------------+-------------------+-----------------------------+----------------+------------------------+--------------------+-------------------------+--------------------------------+---------------------------+--------------------+\n",
      "\n"
     ]
    },
    {
     "name": "stderr",
     "output_type": "stream",
     "text": [
      "                                                                                \r"
     ]
    }
   ],
   "source": [
    "steam_reviews.select([functions.count(functions.when(functions.isnull(\"`\" + c + \"`\"), \"`\" + c + \"`\")).alias(\"`\" + c + \"`\") for c in steam_reviews.columns]).show()"
   ]
  },
  {
   "cell_type": "code",
   "execution_count": 4,
   "metadata": {},
   "outputs": [
    {
     "name": "stdout",
     "output_type": "stream",
     "text": [
      "+--------------------+------+--------------------+---------+--------+----------------------------------+-----------------+-----------------+-----------+-------------+-----------+-------------------+-------------+--------------+-----------------+---------------------------+-----------------+----------------------+------------------+-----------------------+------------------------------+-------------------------+------------------+\n",
      "|                 _c0|app_id|            app_name|review_id|language|                            review|timestamp_created|timestamp_updated|recommended|votes_helpful|votes_funny|weighted_vote_score|comment_count|steam_purchase|received_for_free|written_during_early_access|   author.steamid|author.num_games_owned|author.num_reviews|author.playtime_forever|author.playtime_last_two_weeks|author.playtime_at_review|author.last_played|\n",
      "+--------------------+------+--------------------+---------+--------+----------------------------------+-----------------+-----------------+-----------+-------------+-----------+-------------------+-------------+--------------+-----------------+---------------------------+-----------------+----------------------+------------------+-----------------------+------------------------------+-------------------------+------------------+\n",
      "|                   0|292030|The Witcher 3: Wi...| 85185598|schinese|不玩此生遗憾，RPG游戏里的天花板...|       1611381629|       1611381629|       True|            0|          0|                0.0|            0|          True|            False|                      False|76561199095369542|                     6|                 2|                 1909.0|                        1448.0|                   1909.0|      1611343383.0|\n",
      "|                   1|292030|The Witcher 3: Wi...| 85185250|schinese|       拔DIAO无情打桩机--杰洛特!!!|       1611381030|       1611381030|       True|            0|          0|                0.0|            0|          True|            False|                      False|76561198949504115|                    30|                10|                 2764.0|                        2743.0|                   2674.0|      1611386307.0|\n",
      "|                   2|292030|The Witcher 3: Wi...| 85185111|schinese|                           巫师3NB|       1611380800|       1611380800|       True|            0|          0|                0.0|            0|          True|            False|                      False|76561199090098988|                     5|                 1|                 1061.0|                        1061.0|                   1060.0|      1611383777.0|\n",
      "|                   3|292030|The Witcher 3: Wi...| 85184605| english|              One of the best R...|       1611379970|       1611379970|       True|            0|          0|                0.0|            0|          True|            False|                      False|76561199054755373|                     5|                 3|                 5587.0|                        3200.0|                   5524.0|      1611383744.0|\n",
      "|                   4|292030|The Witcher 3: Wi...| 85184287|schinese|                              大作|       1611379427|       1611379427|       True|            0|          0|                0.0|            0|          True|            False|                      False|76561199028326951|                     7|                 4|                  217.0|                          42.0|                    217.0|      1610788249.0|\n",
      "|                   5|292030|The Witcher 3: Wi...| 85184171| english|              good story, good ...|       1611379264|       1611379264|       True|            0|          0|                0.0|            0|          True|            False|                      False|76561198170193529|                    11|                 1|                  823.0|                         823.0|                    823.0|      1611379201.0|\n",
      "|                   6|292030|The Witcher 3: Wi...| 85184064| english|                          dis gud,|       1611379091|       1611379091|       True|            0|          0|                0.0|            0|          True|            False|                      False|76561198119302812|                    27|                 2|                 4192.0|                        3398.0|                   4192.0|      1611351734.0|\n",
      "|                   7|292030|The Witcher 3: Wi...| 85183602| turkish|                                 .|             null|             null|       null|         null|       null|               null|         null|          null|             null|                       null|             null|                  null|              null|                   null|                          null|                     null|              null|\n",
      "|,1611378312,16113...|  null|                null|     null|    null|                              null|             null|             null|       null|         null|       null|               null|         null|          null|             null|                       null|             null|                  null|              null|                   null|                          null|                     null|              null|\n",
      "|                   8|292030|The Witcher 3: Wi...| 85183227|schinese|  年度最佳的作品，没啥好夸的，神作|       1611377703|       1611377703|       True|            0|          0|                0.0|            0|          True|            False|                      False|76561198130808993|                   581|                17|                 6921.0|                         222.0|                   6921.0|      1611317275.0|\n",
      "+--------------------+------+--------------------+---------+--------+----------------------------------+-----------------+-----------------+-----------+-------------+-----------+-------------------+-------------+--------------+-----------------+---------------------------+-----------------+----------------------+------------------+-----------------------+------------------------------+-------------------------+------------------+\n",
      "only showing top 10 rows\n",
      "\n"
     ]
    },
    {
     "name": "stderr",
     "output_type": "stream",
     "text": [
      "23/10/26 13:27:39 WARN CSVHeaderChecker: CSV header does not conform to the schema.\n",
      " Header: , app_id, app_name, review_id, language, review, timestamp_created, timestamp_updated, recommended, votes_helpful, votes_funny, weighted_vote_score, comment_count, steam_purchase, received_for_free, written_during_early_access, author.steamid, author.num_games_owned, author.num_reviews, author.playtime_forever, author.playtime_last_two_weeks, author.playtime_at_review, author.last_played\n",
      " Schema: _c0, app_id, app_name, review_id, language, review, timestamp_created, timestamp_updated, recommended, votes_helpful, votes_funny, weighted_vote_score, comment_count, steam_purchase, received_for_free, written_during_early_access, author.steamid, author.num_games_owned, author.num_reviews, author.playtime_forever, author.playtime_last_two_weeks, author.playtime_at_review, author.last_played\n",
      "Expected: _c0 but found: \n",
      "CSV file: file:///Users/alexto/Documents/ProgrammingProjects/Tech-Job-Market-Trends/data/steam_reviews.csv\n"
     ]
    }
   ],
   "source": [
    "steam_reviews.show(10)"
   ]
  },
  {
   "cell_type": "code",
   "execution_count": 10,
   "metadata": {},
   "outputs": [],
   "source": [
    "playerTypeData = steam_reviews.select(\"app_id\", \"app_name\", \"recommended\", \"comment_count\", \"`author.steamid`\",\n",
    "                                      \"`author.num_games_owned`\", \"`author.num_reviews`\", \"`author.playtime_forever`\",\n",
    "                                      \"`author.playtime_last_two_weeks`\", \"`author.playtime_at_review`\", \"`author.last_played`\").cache()"
   ]
  },
  {
   "cell_type": "code",
   "execution_count": 11,
   "metadata": {},
   "outputs": [
    {
     "name": "stderr",
     "output_type": "stream",
     "text": [
      "[Stage 3:>                                                          (0 + 1) / 1]\r"
     ]
    },
    {
     "name": "stdout",
     "output_type": "stream",
     "text": [
      "+------+--------------------+-----------+-------------+-----------------+----------------------+------------------+-----------------------+------------------------------+-------------------------+------------------+\n",
      "|app_id|            app_name|recommended|comment_count|   author.steamid|author.num_games_owned|author.num_reviews|author.playtime_forever|author.playtime_last_two_weeks|author.playtime_at_review|author.last_played|\n",
      "+------+--------------------+-----------+-------------+-----------------+----------------------+------------------+-----------------------+------------------------------+-------------------------+------------------+\n",
      "|292030|The Witcher 3: Wi...|       True|            0|76561199095369542|                     6|                 2|                 1909.0|                        1448.0|                   1909.0|      1611343383.0|\n",
      "|292030|The Witcher 3: Wi...|       True|            0|76561198949504115|                    30|                10|                 2764.0|                        2743.0|                   2674.0|      1611386307.0|\n",
      "|292030|The Witcher 3: Wi...|       True|            0|76561199090098988|                     5|                 1|                 1061.0|                        1061.0|                   1060.0|      1611383777.0|\n",
      "|292030|The Witcher 3: Wi...|       True|            0|76561199054755373|                     5|                 3|                 5587.0|                        3200.0|                   5524.0|      1611383744.0|\n",
      "|292030|The Witcher 3: Wi...|       True|            0|76561199028326951|                     7|                 4|                  217.0|                          42.0|                    217.0|      1610788249.0|\n",
      "|292030|The Witcher 3: Wi...|       True|            0|76561198170193529|                    11|                 1|                  823.0|                         823.0|                    823.0|      1611379201.0|\n",
      "|292030|The Witcher 3: Wi...|       True|            0|76561198119302812|                    27|                 2|                 4192.0|                        3398.0|                   4192.0|      1611351734.0|\n",
      "|292030|The Witcher 3: Wi...|       null|         null|             null|                  null|              null|                   null|                          null|                     null|              null|\n",
      "|  null|                null|       null|         null|             null|                  null|              null|                   null|                          null|                     null|              null|\n",
      "|292030|The Witcher 3: Wi...|       True|            0|76561198130808993|                   581|                17|                 6921.0|                         222.0|                   6921.0|      1611317275.0|\n",
      "+------+--------------------+-----------+-------------+-----------------+----------------------+------------------+-----------------------+------------------------------+-------------------------+------------------+\n",
      "only showing top 10 rows\n",
      "\n"
     ]
    },
    {
     "name": "stderr",
     "output_type": "stream",
     "text": [
      "                                                                                \r"
     ]
    }
   ],
   "source": [
    "playerTypeData.show(10)"
   ]
  },
  {
   "cell_type": "code",
   "execution_count": 20,
   "metadata": {},
   "outputs": [],
   "source": [
    "review_count = playerTypeData.where(col(\"app_name\").isNotNull()) \\\n",
    "                              .groupBy(playerTypeData['app_name']).agg(functions.count(\"*\").alias(\"count\")) \\\n",
    "                              .where(col(\"count\") > 100) \\\n",
    "                              .select(col(\"app_name\"), col(\"count\")) \\\n",
    "                              .orderBy(functions.desc(col(\"count\")))"
   ]
  },
  {
   "cell_type": "code",
   "execution_count": 21,
   "metadata": {},
   "outputs": [
    {
     "name": "stderr",
     "output_type": "stream",
     "text": [
      "23/10/26 13:47:39 WARN MemoryStore: Not enough space to cache rdd_19_5 in memory! (computed 25.5 MiB so far)\n",
      "23/10/26 13:47:39 WARN MemoryStore: Not enough space to cache rdd_19_1 in memory! (computed 25.9 MiB so far)\n",
      "23/10/26 13:47:39 WARN MemoryStore: Not enough space to cache rdd_19_0 in memory! (computed 22.5 MiB so far)\n",
      "23/10/26 13:47:39 WARN MemoryStore: Not enough space to cache rdd_19_3 in memory! (computed 31.0 MiB so far)\n",
      "23/10/26 13:47:39 WARN MemoryStore: Not enough space to cache rdd_19_7 in memory! (computed 33.4 MiB so far)\n",
      "23/10/26 13:47:39 WARN MemoryStore: Not enough space to cache rdd_19_4 in memory! (computed 47.4 MiB so far)\n",
      "23/10/26 13:47:39 WARN MemoryStore: Not enough space to cache rdd_19_6 in memory! (computed 47.1 MiB so far)\n",
      "23/10/26 13:47:41 WARN MemoryStore: Not enough space to cache rdd_19_14 in memory! (computed 25.5 MiB so far)\n",
      "23/10/26 13:47:41 WARN MemoryStore: Not enough space to cache rdd_19_8 in memory! (computed 28.3 MiB so far)\n",
      "23/10/26 13:47:41 WARN MemoryStore: Not enough space to cache rdd_19_9 in memory! (computed 24.5 MiB so far)\n",
      "23/10/26 13:47:41 WARN MemoryStore: Not enough space to cache rdd_19_13 in memory! (computed 26.8 MiB so far)\n",
      "23/10/26 13:47:41 WARN MemoryStore: Not enough space to cache rdd_19_15 in memory! (computed 46.4 MiB so far)\n",
      "23/10/26 13:47:42 WARN MemoryStore: Not enough space to cache rdd_19_18 in memory! (computed 38.3 MiB so far)\n",
      "23/10/26 13:47:42 WARN MemoryStore: Not enough space to cache rdd_19_22 in memory! (computed 10.6 MiB so far)\n",
      "23/10/26 13:47:42 WARN MemoryStore: Not enough space to cache rdd_19_20 in memory! (computed 12.5 MiB so far)\n",
      "23/10/26 13:47:42 WARN MemoryStore: Not enough space to cache rdd_19_21 in memory! (computed 46.1 MiB so far)\n",
      "23/10/26 13:47:42 WARN MemoryStore: Not enough space to cache rdd_19_23 in memory! (computed 11.9 MiB so far)\n",
      "23/10/26 13:47:43 WARN MemoryStore: Not enough space to cache rdd_19_27 in memory! (computed 24.8 MiB so far)\n",
      "23/10/26 13:47:43 WARN MemoryStore: Not enough space to cache rdd_19_25 in memory! (computed 45.3 MiB so far)\n",
      "23/10/26 13:47:43 WARN MemoryStore: Failed to reserve initial memory threshold of 1024.0 KiB for computing block rdd_19_30 in memory.\n",
      "23/10/26 13:47:43 WARN MemoryStore: Not enough space to cache rdd_19_30 in memory! (computed 384.0 B so far)\n",
      "23/10/26 13:47:43 WARN MemoryStore: Not enough space to cache rdd_19_29 in memory! (computed 24.0 MiB so far)\n",
      "23/10/26 13:47:43 WARN MemoryStore: Not enough space to cache rdd_19_28 in memory! (computed 45.1 MiB so far)\n",
      "23/10/26 13:47:43 WARN MemoryStore: Not enough space to cache rdd_19_31 in memory! (computed 46.8 MiB so far)\n",
      "23/10/26 13:47:44 WARN MemoryStore: Not enough space to cache rdd_19_37 in memory! (computed 20.3 MiB so far)\n",
      "23/10/26 13:47:44 WARN MemoryStore: Not enough space to cache rdd_19_33 in memory! (computed 49.7 MiB so far)\n",
      "23/10/26 13:47:44 WARN MemoryStore: Not enough space to cache rdd_19_34 in memory! (computed 41.5 MiB so far)\n",
      "23/10/26 13:47:44 WARN MemoryStore: Not enough space to cache rdd_19_36 in memory! (computed 24.5 MiB so far)\n",
      "23/10/26 13:47:44 WARN MemoryStore: Not enough space to cache rdd_19_35 in memory! (computed 34.4 MiB so far)\n",
      "23/10/26 13:47:44 WARN MemoryStore: Not enough space to cache rdd_19_38 in memory! (computed 43.4 MiB so far)\n",
      "23/10/26 13:47:44 WARN MemoryStore: Not enough space to cache rdd_19_39 in memory! (computed 11.5 MiB so far)\n",
      "23/10/26 13:47:45 WARN MemoryStore: Not enough space to cache rdd_19_45 in memory! (computed 28.3 MiB so far)\n",
      "23/10/26 13:47:45 WARN MemoryStore: Not enough space to cache rdd_19_47 in memory! (computed 11.8 MiB so far)\n",
      "23/10/26 13:47:45 WARN MemoryStore: Not enough space to cache rdd_19_44 in memory! (computed 27.0 MiB so far)\n",
      "23/10/26 13:47:45 WARN MemoryStore: Not enough space to cache rdd_19_43 in memory! (computed 49.3 MiB so far)\n",
      "23/10/26 13:47:46 WARN MemoryStore: Not enough space to cache rdd_19_51 in memory! (computed 22.6 MiB so far)\n",
      "23/10/26 13:47:46 WARN MemoryStore: Not enough space to cache rdd_19_52 in memory! (computed 11.2 MiB so far)\n",
      "23/10/26 13:47:46 WARN MemoryStore: Not enough space to cache rdd_19_50 in memory! (computed 44.4 MiB so far)\n",
      "23/10/26 13:47:46 WARN MemoryStore: Not enough space to cache rdd_19_54 in memory! (computed 13.8 MiB so far)\n",
      "23/10/26 13:47:46 WARN MemoryStore: Not enough space to cache rdd_19_53 in memory! (computed 51.9 MiB so far)\n",
      "23/10/26 13:47:46 WARN MemoryStore: Not enough space to cache rdd_19_55 in memory! (computed 13.9 MiB so far)\n",
      "23/10/26 13:47:47 WARN MemoryStore: Not enough space to cache rdd_19_60 in memory! (computed 24.8 MiB so far)\n",
      "23/10/26 13:47:47 WARN MemoryStore: Not enough space to cache rdd_19_57 in memory! (computed 51.4 MiB so far)\n",
      "23/10/26 13:47:47 WARN MemoryStore: Not enough space to cache rdd_19_59 in memory! (computed 27.5 MiB so far)\n",
      "23/10/26 13:47:47 WARN MemoryStore: Not enough space to cache rdd_19_58 in memory! (computed 50.7 MiB so far)\n",
      "[Stage 12:============>                                             (2 + 7) / 9]\r"
     ]
    },
    {
     "name": "stdout",
     "output_type": "stream",
     "text": [
      "+--------------------+-------+\n",
      "|            app_name|  count|\n",
      "+--------------------+-------+\n",
      "|PLAYERUNKNOWN'S B...|1644255|\n",
      "|  Grand Theft Auto V|1019116|\n",
      "|Tom Clancy's Rain...| 841918|\n",
      "|            Terraria| 672817|\n",
      "|         Garry's Mod| 655524|\n",
      "|                Rust| 549075|\n",
      "|       Rocket League| 498565|\n",
      "|            PAYDAY 2| 487747|\n",
      "|            Among Us| 485293|\n",
      "|The Witcher 3: Wi...| 469395|\n",
      "|    Dead by Daylight| 418897|\n",
      "|ARK: Survival Evo...| 400009|\n",
      "|Euro Truck Simula...| 387553|\n",
      "|      Stardew Valley| 315717|\n",
      "|The Elder Scrolls...| 294966|\n",
      "|    Wallpaper Engine| 292790|\n",
      "|Monster Hunter: W...| 290946|\n",
      "|       Hollow Knight| 269854|\n",
      "|          The Forest| 239734|\n",
      "|Don't Starve Toge...| 238636|\n",
      "+--------------------+-------+\n",
      "only showing top 20 rows\n",
      "\n"
     ]
    },
    {
     "name": "stderr",
     "output_type": "stream",
     "text": [
      "                                                                                \r"
     ]
    }
   ],
   "source": [
    "review_count.show()"
   ]
  },
  {
   "cell_type": "code",
   "execution_count": null,
   "metadata": {},
   "outputs": [],
   "source": []
  }
 ],
 "metadata": {
  "kernelspec": {
   "display_name": "Python 3",
   "language": "python",
   "name": "python3"
  },
  "language_info": {
   "codemirror_mode": {
    "name": "ipython",
    "version": 3
   },
   "file_extension": ".py",
   "mimetype": "text/x-python",
   "name": "python",
   "nbconvert_exporter": "python",
   "pygments_lexer": "ipython3",
   "version": "3.10.13"
  }
 },
 "nbformat": 4,
 "nbformat_minor": 2
}
