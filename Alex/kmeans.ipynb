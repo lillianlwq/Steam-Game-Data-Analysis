{
 "cells": [
  {
   "cell_type": "code",
   "execution_count": 4,
   "metadata": {},
   "outputs": [],
   "source": [
    "import pandas as pd\n",
    "import time\n",
    "import matplotlib.pyplot as plt\n",
    "from pyspark.sql import SparkSession, types\n",
    "import pyspark.sql.functions as F\n",
    "from  pyspark.sql.functions import col\n",
    "\n",
    "spark = (\n",
    "    SparkSession.builder.config(\"spark.sql.debug.maxToStringFields\", 100)\n",
    "    .appName(\"reviews\")\n",
    "    .getOrCreate()\n",
    ")\n",
    "\n",
    "data_filepath = \"../data/cleaned_steam_reviews\"\n",
    "steam_games_filepath = \"../data/cleaned_steam_games\""
   ]
  },
  {
   "cell_type": "code",
   "execution_count": 5,
   "metadata": {},
   "outputs": [
    {
     "name": "stderr",
     "output_type": "stream",
     "text": [
      "                                                                                \r"
     ]
    }
   ],
   "source": [
    "steam_reviews = spark.read.parquet(data_filepath)"
   ]
  },
  {
   "cell_type": "code",
   "execution_count": 6,
   "metadata": {},
   "outputs": [],
   "source": [
    "steam_games = spark.read.parquet(steam_games_filepath)\n",
    "steam_games = steam_games.select(\"game_id\", \"name\", F.explode_outer(F.split(col(\"popular_tags\"),\",\")).alias(\"tags\")) \\\n",
    "                            .drop(\"popular_tags\") \\\n",
    "                            .where(col(\"tags\") != F.lit(\"null\"))"
   ]
  },
  {
   "cell_type": "code",
   "execution_count": 9,
   "metadata": {},
   "outputs": [
    {
     "name": "stdout",
     "output_type": "stream",
     "text": [
      "+--------------------+-----+----------------------------+--------------------+--------------------+--------------------+------------+--------------------+--------------------+--------------------+--------------------+--------------------+------------+--------------------+--------------------+--------------------+--------------------+------------------------+--------------------+--------------------+-------+\n",
      "|                 url|types|                        name|        desc_snippet|      recent_reviews|         all_reviews|release_date|           developer|           publisher|        popular_tags|        game_details|           languages|achievements|               genre|    game_description|      mature_content|minimum_requirements|recommended_requirements|      original_price|      discount_price|game_id|\n",
      "+--------------------+-----+----------------------------+--------------------+--------------------+--------------------+------------+--------------------+--------------------+--------------------+--------------------+--------------------+------------+--------------------+--------------------+--------------------+--------------------+------------------------+--------------------+--------------------+-------+\n",
      "|https://store.ste...|  app|                 World War 3|World War 3 is a ...|Mixed,(485),- 66%...|Mixed,(12,384),- ...|        null|         The Farm 51|The Farm 51,The F...|Early Access,FPS,...|Online Multi-Play...|English,Polish,Ru...|        null|Action,Indie,Earl...| About This Game ...| Mature Content D...|Minimum:,Requires...|    Recommended:,Requ...|              $28.00|              $16.80| 674020|\n",
      "|https://store.ste...|  app|               Knight Online|The Great Battle ...|Mostly Negative,(...|Mixed,(7,958),- 4...|        null|   Noah System,Mgame|     NTTGame,NTTGame|Free to Play,MMOR...|Single-player,Mul...|     English,Turkish|        null|Action,Adventure,...| About This Game ...|                null|                null|                    null|        Free to Play|                null| 389430|\n",
      "|https://store.ste...|  app|        Super Mega Baseba...|The critically ac...|                null|Very Positive,(44...|        null|Metalhead Softwar...|Metalhead Softwar...|Sports,Simulation...|Single-player,Mul...|             English|          42|Indie,Simulation,...| About This Game ...|                null|Minimum:,Requires...|    Recommended:,Requ...|              $29.99|              $37.31| 414870|\n",
      "|https://store.ste...|  app|         Plague Inc: Evolved|Plague Inc: Evolv...|Very Positive,(22...|Very Positive,(19...|        null|    Ndemic Creations|Ndemic Creations,...|Strategy,Simulati...|Single-player,Onl...|English,French,Ge...|         199|Casual,Indie,Simu...| About This Game ...|                null|Minimum:,OS:,Wind...|    Recommended:,OS:,...|              $14.99|                null| 246620|\n",
      "|https://store.ste...|  app|                      DEFCON|Inspired by the 1...|                null|Very Positive,(1,...|        null|Introversion Soft...|Introversion Soft...|Strategy,Indie,Wa...|Single-player,Mul...|English,French,Ge...|          22|      Indie,Strategy| About This Game ...|                null|                null|                    null|               $9.99|              $22.95|   1520|\n",
      "|https://store.ste...|  app|         SMASHING THE BATTLE|In the year 2085,...|                null|Mostly Positive,(...|        null|           STUDIO HG| STUDIO HG,STUDIO HG|Action,Female Pro...|Single-player,Ste...|English,French,Ge...|          20| Action,Casual,Indie| About This Game ...|                null|Minimum:,OS:,Wind...|    Recommended:,OS:,...|              $11.99|               $4.79| 467930|\n",
      "|https://store.ste...|  app|    Legend Of Mercy 神医魔导|Experience the st...|                null|Very Positive,(20...|        null|          SPG STUDIO|SPG STUDIO,SPG ST...|Nudity,Adventure,...|Single-player,Ste...|English,Simplifie...|          27| Adventure,Indie,RPG| About This Game ...| Mature Content D...|Minimum:,OS:,WinX...|    Recommended:,OS:,...|               $7.99|               $5.59| 676090|\n",
      "|https://store.ste...|  app|                 Caveblazers|Caveblazers is a ...|                null|Very Positive,(1,...|        null|       Deadpan Games|The Yogscast,The ...|Indie,Action,Rogu...|Single-player,Loc...|English,French,Ge...|          21|Action,Adventure,...|\" About This Game...| you are not the ...| you'll discover ...|     new weapons and ...| some hostile. We...| and hostile char...| 452060|\n",
      "|https://store.ste...|  app|        Football Heroes T...|Fight your way to...|                null|9 user reviews,- ...|        null|           Run Games| Run Games,Run Games|Early Access,Spor...|Single-player,Mul...|                null|        null|                null|                null|                null|                null|                    null|                null|                null| 774551|\n",
      "|https://store.ste...|  app|                     ATOMEGA|Grow, fight, coll...|                null|Mostly Positive,(...|        null|Reflections, a Ub...|     Ubisoft,Ubisoft|Action,Indie,Mult...|Online Multi-Play...|English,French,Ge...|          31|        Action,Indie| About This Game ...|                null|Minimum:,Requires...|    Recommended:,Requ...|               $9.99|                null| 619880|\n",
      "|https://store.ste...|  app|        Scheming Through ...|Survive the zombi...|                null|Very Positive,(87...|        null| Entertainment Forge|GrabTheGames,Grab...|Adventure,Post-ap...|Single-player,Ste...|             English|          19|           Adventure| About This Game ...| Mature Content D...|                null|                    null|               $4.99|               $6.38| 813540|\n",
      "|https://store.ste...|  app|        Red Rope: Don't F...|Red Rope is a ter...|                null|Very Positive,(58...|        null|              Yonder| IndieGala,IndieGala|Indie,Local Co-Op...|Single-player,Loc...|             English|          47|Action,Adventure,...| About This Game ...|                null|                null|                    null|               $7.99|               $4.79| 381880|\n",
      "|https://store.ste...|  app|           Cookies vs. Claus|Cookies vs. Claus...|                null|Very Positive,(70...|        null|Joshua Williams,E...|Evil Tortilla Gam...|Early Access,Acti...|Single-player,Onl...|             English|          10|Action,Casual,Ind...| About This Game ...|                null|                null|                    null|               $2.99|                null| 752910|\n",
      "|https://store.ste...|  app|STRIDER™ / ストライダー飛竜®|Strider returns i...|                null|Very Positive,(1,...|        null|Double Helix Game...|       Capcom,Capcom|Platformer,Metroi...|Single-player,Ste...|English,French,It...|          30|    Action,Adventure| About This Game ...|                null|                null|                    null|              $14.99|                null| 235210|\n",
      "|https://store.ste...|  app|                     Tentlan|Step into the sho...|                null|Mixed,(84),- 44% ...|        null|         Lionmoon UG|Lionmoon UG,Lionm...|Free to Play,Stra...|Single-player,Mul...|                null|        null|                null|                null|                null|                null|                    null|                null|                null| 876470|\n",
      "|https://store.ste...|  app|                 Mass Exodus|Whether you’re pl...|                null|Mostly Positive,(...|        null|           Polymerse| Polymerse,Polymerse|Action,Indie,Casu...|Multi-player,Loca...|             English|          22| Action,Casual,Indie| About This Game ...|                null|Minimum:,OS:,Win ...|    Recommended:,OS:,...|              $14.99|                null| 566530|\n",
      "|https://store.ste...|  app|               Blazing Beaks|Roguelite - where...|                null|Mostly Positive,(...|        null|             Applava|     Applava,Applava|Action,Indie,Rogu...|Single-player,Loc...|English,German,Ru...|          25|        Action,Indie| About This Game ...|                null|                null|                    null|              $14.99|              $17.98| 585710|\n",
      "|https://store.ste...|  app|         Synthwave Dream '85|Neons, extreme sp...|                null|Positive,(15),- 1...|        null|             LoneDev|     LoneDev,LoneDev|Early Access,Raci...|Single-player,Mul...|                null|        null|                null|                null|                null|                null|                    null|                null|                null| 881130|\n",
      "|https://store.ste...|  app|        Maytroid. I swear...|I swear it's a ni...|Very Positive,(10...|Mostly Positive,(...|        null|         PixelGreeds|PixelGreeds,Pixel...|Sexual Content,Ac...|Single-player,Ste...|                null|        null|                null|                null|                null|                null|                    null|                null|                null| 960190|\n",
      "|https://store.ste...|  app|                Next Up Hero|Fight. Die. Win! ...|                null|Mixed,(57),- 63% ...|        null|    Digital Continue|         Aspyr,Aspyr|Action,Dungeon Cr...|Single-player,Onl...|English,French,It...|          26|          Action,RPG| About This Game ...|                null|                null|                    null|              $19.99|              $22.93| 667810|\n",
      "+--------------------+-----+----------------------------+--------------------+--------------------+--------------------+------------+--------------------+--------------------+--------------------+--------------------+--------------------+------------+--------------------+--------------------+--------------------+--------------------+------------------------+--------------------+--------------------+-------+\n",
      "only showing top 20 rows\n",
      "\n"
     ]
    }
   ],
   "source": [
    "steam_games.show()"
   ]
  },
  {
   "cell_type": "code",
   "execution_count": 11,
   "metadata": {},
   "outputs": [],
   "source": [
    "# join app_id and game_id\n",
    "steam = steam_games.join(steam_reviews, steam_games.game_id == steam_reviews.app_id, \"inner\")"
   ]
  },
  {
   "cell_type": "code",
   "execution_count": 12,
   "metadata": {},
   "outputs": [
    {
     "name": "stderr",
     "output_type": "stream",
     "text": [
      "[Stage 10:>                                                         (0 + 1) / 1]\r"
     ]
    },
    {
     "name": "stdout",
     "output_type": "stream",
     "text": [
      "+--------------------+-----+-------+--------------------+--------------------+--------------------+------------+-----------+--------------------+--------------------+--------------------+--------------------+------------+--------------------+--------------------+--------------------+--------------------+------------------------+--------------+--------------+-------+------+--------+---------+---------+--------------------------------+--------------------+--------------------+-----------+-------------+-----------+-------------------+-------------+--------------+-----------------+---------------------------+-----------------+----------------------+------------------+-----------------------+------------------------------+-------------------------+------------------+-------+\n",
      "|                 url|types|   name|        desc_snippet|      recent_reviews|         all_reviews|release_date|  developer|           publisher|        popular_tags|        game_details|           languages|achievements|               genre|    game_description|      mature_content|minimum_requirements|recommended_requirements|original_price|discount_price|game_id|app_id|app_name|review_id| language|                          review|   timestamp_created|   timestamp_updated|recommended|votes_helpful|votes_funny|weighted_vote_score|comment_count|steam_purchase|received_for_free|written_during_early_access|   author_steamid|author_num_games_owned|author_num_reviews|author_playtime_forever|author_playtime_last_two_weeks|author_playtime_at_review|author_last_played|game_id|\n",
      "+--------------------+-----+-------+--------------------+--------------------+--------------------+------------+-----------+--------------------+--------------------+--------------------+--------------------+------------+--------------------+--------------------+--------------------+--------------------+------------------------+--------------+--------------+-------+------+--------+---------+---------+--------------------------------+--------------------+--------------------+-----------+-------------+-----------+-------------------+-------------+--------------+-----------------+---------------------------+-----------------+----------------------+------------------+-----------------------+------------------------------+-------------------------+------------------+-------+\n",
      "|https://store.ste...|  app|Outlast|Hell is an experi...|Very Positive,(13...|Overwhelmingly Po...|        null|Red Barrels|Red Barrels,Red B...|Horror,First-Pers...|Single-player,Ste...|English,French,It...|          14|Action,Adventure,...| About This Game ...| Mature Content D...|Minimum:,OS:,Wind...|    Recommended:,OS:,...|        $19.99|        $47.17| 238320|238320| Outlast|  9069040|  turkish|            \"Sabır ve hızlı d...|          1392239115|          1392239115|       true|            1|          0|          0.5024395|            0|         false|            false|                      false|76561198037966126|                    72|                 8|                  836.0|                           0.0|                    603.0|       1.4330999E9| 238320|\n",
      "|https://store.ste...|  app|Outlast|Hell is an experi...|Very Positive,(13...|Overwhelmingly Po...|        null|Red Barrels|Red Barrels,Red B...|Horror,First-Pers...|Single-player,Ste...|English,French,It...|          14|Action,Adventure,...| About This Game ...| Mature Content D...|Minimum:,OS:,Wind...|    Recommended:,OS:,...|        $19.99|        $47.17| 238320|238320| Outlast| 84948679|  italian|                             uau|          1611015587|          1611015587|       true|            0|          0|                0.0|            0|          true|            false|                      false|76561199015730339|                     9|                 2|                  693.0|                           1.0|                    691.0|      1.61101619E9| 238320|\n",
      "|https://store.ste...|  app|Outlast|Hell is an experi...|Very Positive,(13...|Overwhelmingly Po...|        null|Red Barrels|Red Barrels,Red B...|Horror,First-Pers...|Single-player,Ste...|English,French,It...|          14|Action,Adventure,...| About This Game ...| Mature Content D...|Minimum:,OS:,Wind...|    Recommended:,OS:,...|        $19.99|        $47.17| 238320|238320| Outlast|  9068823|  english|            Scariest game eve...|          1392238518|          1392238518|       true|            0|          0|                0.0|            0|          true|            false|                      false|76561197990974803|                    79|                 3|                 1444.0|                           0.0|                    463.0|      1.49664499E9| 238320|\n",
      "|https://store.ste...|  app|Outlast|Hell is an experi...|Very Positive,(13...|Overwhelmingly Po...|        null|Red Barrels|Red Barrels,Red B...|Horror,First-Pers...|Single-player,Ste...|English,French,It...|          14|Action,Adventure,...| About This Game ...| Mature Content D...|Minimum:,OS:,Wind...|    Recommended:,OS:,...|        $19.99|        $47.17| 238320|238320| Outlast| 84947901|  koreana|미친 이게임 왤케 재밌냐 8년이...|          1611014164|          1611014164|       true|            0|          0|                0.0|            0|          true|            false|                      false|76561198104722721|                    19|                 2|                  674.0|                         609.0|                    669.0|      1.61101414E9| 238320|\n",
      "|https://store.ste...|  app|Outlast|Hell is an experi...|Very Positive,(13...|Overwhelmingly Po...|        null|Red Barrels|Red Barrels,Red B...|Horror,First-Pers...|Single-player,Ste...|English,French,It...|          14|Action,Adventure,...| About This Game ...| Mature Content D...|Minimum:,OS:,Wind...|    Recommended:,OS:,...|        $19.99|        $47.17| 238320|238320| Outlast|  9068802|norwegian|                       Skummelt!|          1392238471|          1392238471|       true|            0|          0|                0.0|            0|          true|            false|                      false|76561198001750221|                    90|                 1|                 1037.0|                           0.0|                    779.0|      1.47406003E9| 238320|\n",
      "|https://store.ste...|  app|Outlast|Hell is an experi...|Very Positive,(13...|Overwhelmingly Po...|        null|Red Barrels|Red Barrels,Red B...|Horror,First-Pers...|Single-player,Ste...|English,French,It...|          14|Action,Adventure,...| About This Game ...| Mature Content D...|Minimum:,OS:,Wind...|    Recommended:,OS:,...|        $19.99|        $47.17| 238320|238320| Outlast| 84947283|brazilian|            JOGO MUITO BOM, A...|          1611013058|          1611013058|       true|            0|          0|                0.0|            0|          true|            false|                      false|76561199012838657|                    17|                 2|                   76.0|                          44.0|                     48.0|      1.61101504E9| 238320|\n",
      "|https://store.ste...|  app|Outlast|Hell is an experi...|Very Positive,(13...|Overwhelmingly Po...|        null|Red Barrels|Red Barrels,Red B...|Horror,First-Pers...|Single-player,Ste...|English,French,It...|          14|Action,Adventure,...| About This Game ...| Mature Content D...|Minimum:,OS:,Wind...|    Recommended:,OS:,...|        $19.99|        $47.17| 238320|238320| Outlast|  9068504|  english|            I'm not sure if t...|          1392237719|          1392237719|       true|            0|          0|                0.0|            0|          true|            false|                      false|76561197993666721|                   313|                 6|                  835.0|                           0.0|                    454.0|      1.55397274E9| 238320|\n",
      "|https://store.ste...|  app|Outlast|Hell is an experi...|Very Positive,(13...|Overwhelmingly Po...|        null|Red Barrels|Red Barrels,Red B...|Horror,First-Pers...|Single-player,Ste...|English,French,It...|          14|Action,Adventure,...| About This Game ...| Mature Content D...|Minimum:,OS:,Wind...|    Recommended:,OS:,...|        $19.99|        $47.17| 238320|238320| Outlast| 84935291|  english|            necrophilia inclu...|          1611009834|          1611009834|       true|            0|          0|                0.0|            0|         false|            false|                      false|76561198197630547|                    41|                 3|                  523.0|                         523.0|                    281.0|      1.61102323E9| 238320|\n",
      "|https://store.ste...|  app|Outlast|Hell is an experi...|Very Positive,(13...|Overwhelmingly Po...|        null|Red Barrels|Red Barrels,Red B...|Horror,First-Pers...|Single-player,Ste...|English,French,It...|          14|Action,Adventure,...| About This Game ...| Mature Content D...|Minimum:,OS:,Wind...|    Recommended:,OS:,...|        $19.99|        $47.17| 238320|238320| Outlast|  9068462|  spanish|            asustadizo lo rec...|          1392237615|          1392237615|       true|            0|          0|                0.0|            0|          true|            false|                      false|76561198073831477|                    75|                 5|                  911.0|                           0.0|                    629.0|      1.46911603E9| 238320|\n",
      "|https://store.ste...|  app|Outlast|Hell is an experi...|Very Positive,(13...|Overwhelmingly Po...|        null|Red Barrels|Red Barrels,Red B...|Horror,First-Pers...|Single-player,Ste...|English,French,It...|          14|Action,Adventure,...| About This Game ...| Mature Content D...|Minimum:,OS:,Wind...|    Recommended:,OS:,...|        $19.99|        $47.17| 238320|238320| Outlast| 84933119|  english|            spookiest horror ...|          1611006494|          1611006494|       true|            0|          0|                0.0|            0|          true|            false|                      false|76561198137760691|                    44|                10|                  322.0|                         322.0|                    322.0|      1.61086618E9| 238320|\n",
      "|https://store.ste...|  app|Outlast|Hell is an experi...|Very Positive,(13...|Overwhelmingly Po...|        null|Red Barrels|Red Barrels,Red B...|Horror,First-Pers...|Single-player,Ste...|English,French,It...|          14|Action,Adventure,...| About This Game ...| Mature Content D...|Minimum:,OS:,Wind...|    Recommended:,OS:,...|        $19.99|        $47.17| 238320|238320| Outlast|  9068216|  russian|            Крутая игра.Конеч...|          1392236997|          1392236997|       true|            2|          0|         0.54545456|            0|          true|            false|                      false|76561198073388234|                    67|                 6|                 1281.0|                           0.0|                     20.0|      1.50557683E9| 238320|\n",
      "|https://store.ste...|  app|Outlast|Hell is an experi...|Very Positive,(13...|Overwhelmingly Po...|        null|Red Barrels|Red Barrels,Red B...|Horror,First-Pers...|Single-player,Ste...|English,French,It...|          14|Action,Adventure,...| About This Game ...| Mature Content D...|Minimum:,OS:,Wind...|    Recommended:,OS:,...|        $19.99|        $47.17| 238320|238320| Outlast| 84932318|   polish|            zajebista gra, pe...|          1611005282|          1611005282|       true|            0|          0|                0.0|            0|          true|            false|                      false|76561198375386664|                    18|                 3|                  152.0|                          87.0|                    152.0|      1.61100518E9| 238320|\n",
      "|https://store.ste...|  app|Outlast|Hell is an experi...|Very Positive,(13...|Overwhelmingly Po...|        null|Red Barrels|Red Barrels,Red B...|Horror,First-Pers...|Single-player,Ste...|English,French,It...|          14|Action,Adventure,...| About This Game ...| Mature Content D...|Minimum:,OS:,Wind...|    Recommended:,OS:,...|        $19.99|        $47.17| 238320|238320| Outlast|  9066741|  english|            Terrible FPS game...|                null|                null|       null|         null|       null|               null|         null|          null|             null|                       null|             null|                  null|              null|                   null|                          null|                     null|              null| 238320|\n",
      "|https://store.ste...|  app|Outlast|Hell is an experi...|Very Positive,(13...|Overwhelmingly Po...|        null|Red Barrels|Red Barrels,Red B...|Horror,First-Pers...|Single-player,Ste...|English,French,It...|          14|Action,Adventure,...| About This Game ...| Mature Content D...|Minimum:,OS:,Wind...|    Recommended:,OS:,...|        $19.99|        $47.17| 238320|238320| Outlast| 84931221|  english|            THE BEST HORROR G...|          1611003806|          1611003806|       true|            0|          0|                0.0|            0|          true|            false|                      false|76561198840947519|                     9|                 4|                  445.0|                         331.0|                    445.0|      1.61100365E9| 238320|\n",
      "|https://store.ste...|  app|Outlast|Hell is an experi...|Very Positive,(13...|Overwhelmingly Po...|        null|Red Barrels|Red Barrels,Red B...|Horror,First-Pers...|Single-player,Ste...|English,French,It...|          14|Action,Adventure,...| About This Game ...| Mature Content D...|Minimum:,OS:,Wind...|    Recommended:,OS:,...|        $19.99|        $47.17| 238320|238320| Outlast|  9066387|  english|            I could go into h...|                null|                null|       null|         null|       null|               null|         null|          null|             null|                       null|             null|                  null|              null|                   null|                          null|                     null|              null| 238320|\n",
      "|https://store.ste...|  app|Outlast|Hell is an experi...|Very Positive,(13...|Overwhelmingly Po...|        null|Red Barrels|Red Barrels,Red B...|Horror,First-Pers...|Single-player,Ste...|English,French,It...|          14|Action,Adventure,...| About This Game ...| Mature Content D...|Minimum:,OS:,Wind...|    Recommended:,OS:,...|        $19.99|        $47.17| 238320|238320| Outlast| 84930576|  russian|                               +|          1611002855|          1611002855|       true|            0|          0|                0.0|            0|          true|            false|                      false|76561198966614614|                    32|                11|                  313.0|                         313.0|                    313.0|       1.6110025E9| 238320|\n",
      "|https://store.ste...|  app|Outlast|Hell is an experi...|Very Positive,(13...|Overwhelmingly Po...|        null|Red Barrels|Red Barrels,Red B...|Horror,First-Pers...|Single-player,Ste...|English,French,It...|          14|Action,Adventure,...| About This Game ...| Mature Content D...|Minimum:,OS:,Wind...|    Recommended:,OS:,...|        $19.99|        $47.17| 238320|238320| Outlast|  9065861|   german|                 BESTECH EVER :D|          1392226522|          1392226522|       true|            0|          0|                0.0|            0|         false|            false|                      false|76561198093578229|                    70|                 1|                  517.0|                           0.0|                    233.0|      1.47524211E9| 238320|\n",
      "|https://store.ste...|  app|Outlast|Hell is an experi...|Very Positive,(13...|Overwhelmingly Po...|        null|Red Barrels|Red Barrels,Red B...|Horror,First-Pers...|Single-player,Ste...|English,French,It...|          14|Action,Adventure,...| About This Game ...| Mature Content D...|Minimum:,OS:,Wind...|    Recommended:,OS:,...|        $19.99|        $47.17| 238320|238320| Outlast| 84930503|  english|                      *Spoilers*|                null|                null|       null|         null|       null|               null|         null|          null|             null|                       null|             null|                  null|              null|                   null|                          null|                     null|              null| 238320|\n",
      "|https://store.ste...|  app|Outlast|Hell is an experi...|Very Positive,(13...|Overwhelmingly Po...|        null|Red Barrels|Red Barrels,Red B...|Horror,First-Pers...|Single-player,Ste...|English,French,It...|          14|Action,Adventure,...| About This Game ...| Mature Content D...|Minimum:,OS:,Wind...|    Recommended:,OS:,...|        $19.99|        $47.17| 238320|238320| Outlast|  9065234|  english|            \"So, this is ofte...| this would be a ...| this is merely t...|       null|         null|       null|               null|         null|          null|             null|                      false|                0|                     0|              null|                    0.0|                          null|                     null|              null| 238320|\n",
      "|https://store.ste...|  app|Outlast|Hell is an experi...|Very Positive,(13...|Overwhelmingly Po...|        null|Red Barrels|Red Barrels,Red B...|Horror,First-Pers...|Single-player,Ste...|English,French,It...|          14|Action,Adventure,...| About This Game ...| Mature Content D...|Minimum:,OS:,Wind...|    Recommended:,OS:,...|        $19.99|        $47.17| 238320|238320| Outlast| 84928929|brazilian|            Recomendo 90%, Qu...|                null|                null|       null|         null|       null|               null|         null|          null|             null|                       null|             null|                  null|              null|                   null|                          null|                     null|              null| 238320|\n",
      "+--------------------+-----+-------+--------------------+--------------------+--------------------+------------+-----------+--------------------+--------------------+--------------------+--------------------+------------+--------------------+--------------------+--------------------+--------------------+------------------------+--------------+--------------+-------+------+--------+---------+---------+--------------------------------+--------------------+--------------------+-----------+-------------+-----------+-------------------+-------------+--------------+-----------------+---------------------------+-----------------+----------------------+------------------+-----------------------+------------------------------+-------------------------+------------------+-------+\n",
      "only showing top 20 rows\n",
      "\n"
     ]
    },
    {
     "name": "stderr",
     "output_type": "stream",
     "text": [
      "                                                                                \r"
     ]
    }
   ],
   "source": [
    "steam.show()"
   ]
  },
  {
   "cell_type": "code",
   "execution_count": 13,
   "metadata": {},
   "outputs": [
    {
     "name": "stdout",
     "output_type": "stream",
     "text": [
      "root\n",
      " |-- url: string (nullable = true)\n",
      " |-- types: string (nullable = true)\n",
      " |-- name: string (nullable = true)\n",
      " |-- desc_snippet: string (nullable = true)\n",
      " |-- recent_reviews: string (nullable = true)\n",
      " |-- all_reviews: string (nullable = true)\n",
      " |-- release_date: date (nullable = true)\n",
      " |-- developer: string (nullable = true)\n",
      " |-- publisher: string (nullable = true)\n",
      " |-- popular_tags: string (nullable = true)\n",
      " |-- game_details: string (nullable = true)\n",
      " |-- languages: string (nullable = true)\n",
      " |-- achievements: integer (nullable = true)\n",
      " |-- genre: string (nullable = true)\n",
      " |-- game_description: string (nullable = true)\n",
      " |-- mature_content: string (nullable = true)\n",
      " |-- minimum_requirements: string (nullable = true)\n",
      " |-- recommended_requirements: string (nullable = true)\n",
      " |-- original_price: string (nullable = true)\n",
      " |-- discount_price: string (nullable = true)\n",
      " |-- game_id: string (nullable = true)\n",
      " |-- app_id: string (nullable = true)\n",
      " |-- app_name: string (nullable = true)\n",
      " |-- review_id: string (nullable = true)\n",
      " |-- language: string (nullable = true)\n",
      " |-- review: string (nullable = true)\n",
      " |-- timestamp_created: string (nullable = true)\n",
      " |-- timestamp_updated: string (nullable = true)\n",
      " |-- recommended: boolean (nullable = true)\n",
      " |-- votes_helpful: integer (nullable = true)\n",
      " |-- votes_funny: integer (nullable = true)\n",
      " |-- weighted_vote_score: float (nullable = true)\n",
      " |-- comment_count: integer (nullable = true)\n",
      " |-- steam_purchase: boolean (nullable = true)\n",
      " |-- received_for_free: boolean (nullable = true)\n",
      " |-- written_during_early_access: boolean (nullable = true)\n",
      " |-- author_steamid: string (nullable = true)\n",
      " |-- author_num_games_owned: integer (nullable = true)\n",
      " |-- author_num_reviews: integer (nullable = true)\n",
      " |-- author_playtime_forever: float (nullable = true)\n",
      " |-- author_playtime_last_two_weeks: float (nullable = true)\n",
      " |-- author_playtime_at_review: float (nullable = true)\n",
      " |-- author_last_played: float (nullable = true)\n",
      " |-- game_id: integer (nullable = true)\n",
      "\n"
     ]
    }
   ],
   "source": [
    "steam.printSchema()"
   ]
  },
  {
   "cell_type": "code",
   "execution_count": null,
   "metadata": {},
   "outputs": [],
   "source": []
  }
 ],
 "metadata": {
  "kernelspec": {
   "display_name": "Python 3",
   "language": "python",
   "name": "python3"
  },
  "language_info": {
   "codemirror_mode": {
    "name": "ipython",
    "version": 3
   },
   "file_extension": ".py",
   "mimetype": "text/x-python",
   "name": "python",
   "nbconvert_exporter": "python",
   "pygments_lexer": "ipython3",
   "version": "3.10.13"
  }
 },
 "nbformat": 4,
 "nbformat_minor": 2
}
