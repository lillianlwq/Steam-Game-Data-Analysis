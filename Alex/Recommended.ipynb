{
 "cells": [
  {
   "cell_type": "code",
   "execution_count": 1,
   "metadata": {},
   "outputs": [
    {
     "name": "stderr",
     "output_type": "stream",
     "text": [
      "Setting default log level to \"WARN\".\n",
      "To adjust logging level use sc.setLogLevel(newLevel). For SparkR, use setLogLevel(newLevel).\n",
      "23/11/24 18:07:50 WARN NativeCodeLoader: Unable to load native-hadoop library for your platform... using builtin-java classes where applicable\n",
      "23/11/24 18:07:51 WARN Utils: Service 'SparkUI' could not bind on port 4040. Attempting port 4041.\n",
      "23/11/24 18:07:51 WARN Utils: Service 'SparkUI' could not bind on port 4041. Attempting port 4042.\n",
      "23/11/24 18:07:51 WARN Utils: Service 'SparkUI' could not bind on port 4042. Attempting port 4043.\n",
      "23/11/24 18:07:51 WARN Utils: Service 'SparkUI' could not bind on port 4043. Attempting port 4044.\n",
      "23/11/24 18:07:51 WARN Utils: Service 'SparkUI' could not bind on port 4044. Attempting port 4045.\n"
     ]
    }
   ],
   "source": [
    "import pandas as pd\n",
    "import time\n",
    "import matplotlib.pyplot as plt\n",
    "from pyspark.sql import SparkSession, types\n",
    "import pyspark.sql.functions as F\n",
    "from  pyspark.sql.functions import col\n",
    "\n",
    "spark = (\n",
    "    SparkSession.builder.config(\"spark.sql.debug.maxToStringFields\", 100)\n",
    "    .appName(\"reviews\")\n",
    "    .getOrCreate()\n",
    ")\n",
    "\n",
    "# steam_reviews_filepath = \"../data/cleaned_steam_reviews/game_id={70,240,420,620}\"\n",
    "steam_reviews_filepath = \"../data/cleaned_steam_reviews\"\n",
    "steam_games_filepath = \"../data/cleaned_steam_games\""
   ]
  },
  {
   "cell_type": "markdown",
   "metadata": {},
   "source": [
    "## Average Recommended of Games"
   ]
  },
  {
   "cell_type": "code",
   "execution_count": 2,
   "metadata": {},
   "outputs": [
    {
     "name": "stderr",
     "output_type": "stream",
     "text": [
      "                                                                                \r"
     ]
    }
   ],
   "source": [
    "steam_reviews = spark.read.parquet(steam_reviews_filepath)"
   ]
  },
  {
   "cell_type": "code",
   "execution_count": 3,
   "metadata": {},
   "outputs": [
    {
     "name": "stdout",
     "output_type": "stream",
     "text": [
      "+------+--------------------+---------+--------+-------------------------------------+-----------------+-----------------+-----------+-------------+-----------+-------------------+-------------+--------------+-----------------+---------------------------+-----------------+----------------------+------------------+-----------------------+------------------------------+-------------------------+------------------+-------+\n",
      "|app_id|            app_name|review_id|language|                               review|timestamp_created|timestamp_updated|recommended|votes_helpful|votes_funny|weighted_vote_score|comment_count|steam_purchase|received_for_free|written_during_early_access|   author_steamid|author_num_games_owned|author_num_reviews|author_playtime_forever|author_playtime_last_two_weeks|author_playtime_at_review|author_last_played|game_id|\n",
      "+------+--------------------+---------+--------+-------------------------------------+-----------------+-----------------+-----------+-------------+-----------+-------------------+-------------+--------------+-----------------+---------------------------+-----------------+----------------------+------------------+-----------------------+------------------------------+-------------------------+------------------+-------+\n",
      "|578080|PLAYERUNKNOWN'S B...| 66237157|schinese|                              优化plz|       1585645945|       1585645945|      false|            0|          0|                0.0|            0|          true|            false|                      false|76561198438792624|                    88|                28|                 4444.0|                           0.0|                   3800.0|      1.59894989E9| 578080|\n",
      "|578080|PLAYERUNKNOWN'S B...| 50828239|schinese|                 挺好的，挂还是有点多|       1558779958|       1558779958|       true|            0|          0|                0.0|            0|          true|            false|                      false|76561198840191417|                     6|                 1|                 4792.0|                           0.0|                   3348.0|      1.60957491E9| 578080|\n",
      "|578080|PLAYERUNKNOWN'S B...| 66237150|schinese| 因为吃鸡让我们体验了虚拟的‘绝地求生’|       1585645936|       1585645936|       true|            0|          0|                0.0|            0|         false|            false|                      false|76561199010195041|                     2|                 1|                11110.0|                           0.0|                   9954.0|      1.60670886E9| 578080|\n",
      "|578080|PLAYERUNKNOWN'S B...| 50828191|schinese|   被盗号了  还被开挂封号 这个游戏...|       1558779834|       1558779834|       true|            0|          0|                0.0|            0|          true|            false|                      false|76561198949300790|                     3|                 1|                 2762.0|                           0.0|                   2746.0|      1.59991219E9| 578080|\n",
      "|578080|PLAYERUNKNOWN'S B...| 66237095|schinese|            我第一次 就很喜欢这个游戏|       1585645886|       1585645886|       true|            0|          0|                0.0|            0|          true|            false|                      false|76561199018687427|                     3|                 1|                11796.0|                           0.0|                   4142.0|      1.60042637E9| 578080|\n",
      "|578080|PLAYERUNKNOWN'S B...| 50828135|schinese|                               挺好的|       1558779682|       1558779682|       true|            0|          0|                0.0|            0|          true|            false|                      false|76561198852076989|                     4|                 1|                17258.0|                           0.0|                    826.0|      1.60350874E9| 578080|\n",
      "|578080|PLAYERUNKNOWN'S B...| 66237087| koreana|     개 씨 발련들 1등각이라 존버하...|       1585645880|       1585645880|      false|            0|          0|                0.0|            0|          true|            false|                      false|76561198433043516|                     4|                 1|                26124.0|                           0.0|                  19532.0|      1.60475507E9| 578080|\n",
      "|578080|PLAYERUNKNOWN'S B...| 50827932|schinese|  号莫名其妙被盗 改回来就被封？ 这...|       1558779173|       1558779173|      false|            1|          0|          0.5192308|            0|         false|            false|                      false|76561198328482317|                     9|                 2|                21027.0|                           0.0|                  21023.0|      1.57460147E9| 578080|\n",
      "|578080|PLAYERUNKNOWN'S B...| 66237079|schinese|                             挂太多了|             null|             null|       null|         null|       null|               null|         null|          null|             null|                       null|             null|                  null|              null|                   null|                          null|                     null|              null| 578080|\n",
      "|578080|PLAYERUNKNOWN'S B...| 50827727|schinese|                     YINGYINGYINGYING|       1558778637|       1562217404|       true|            0|          0|                0.0|            0|          true|            false|                      false|76561198816439760|                     3|                 1|                41746.0|                           0.0|                  39951.0|      1.59576755E9| 578080|\n",
      "|578080|PLAYERUNKNOWN'S B...| 66237025|schinese|                                  好.|       1585645827|       1585645827|       true|            0|          0|                0.0|            0|          true|            false|                      false|76561198406208873|                    16|                 3|                89829.0|                        1200.0|                  79001.0|      1.61113434E9| 578080|\n",
      "|578080|PLAYERUNKNOWN'S B...| 50827674|schinese|               一直在研究灵敏度的游戏|       1558778488|       1558778488|       true|            1|          0|          0.5192308|            0|          true|            false|                      false|76561198424188181|                    47|                10|                44505.0|                           0.0|                   7790.0|      1.58591014E9| 578080|\n",
      "|578080|PLAYERUNKNOWN'S B...| 66237022|schinese|  挂太多了 没法平衡的玩游戏 就是碰...|       1585645825|       1585645825|      false|            0|          0|                0.0|            0|          true|            false|                      false|76561199002841267|                    34|                 2|                 1069.0|                           0.0|                    607.0|      1.60248461E9| 578080|\n",
      "|578080|PLAYERUNKNOWN'S B...| 50827671| turkish|                 çok kötü abı ya v...|       1558778481|       1558778481|      false|            0|          0|         0.47619048|            0|          true|            false|                      false|76561198293833483|                     6|                 1|                  304.0|                           0.0|                    304.0|      1.54706816E9| 578080|\n",
      "|578080|PLAYERUNKNOWN'S B...| 66237005|schinese|           外挂太多推荐给朋友那是坑人|       1585645810|       1585645810|      false|            0|          0|                0.0|            0|          true|            false|                      false|76561199014870006|                     1|                 1|                19056.0|                         168.0|                  11914.0|       1.6110752E9| 578080|\n",
      "|578080|PLAYERUNKNOWN'S B...| 50827668| russian|                 я не могу запусти...|             null|             null|       null|         null|       null|               null|         null|          null|             null|                       null|             null|                  null|              null|                   null|                          null|                     null|              null| 578080|\n",
      "|578080|PLAYERUNKNOWN'S B...| 66236974| english|                 the best game in ...|             null|             null|       null|         null|       null|               null|         null|          null|             null|                       null|             null|                  null|              null|                   null|                          null|                     null|              null| 578080|\n",
      "|578080|PLAYERUNKNOWN'S B...| 50827411|schinese|我早上玩的好好的，莫名其妙下午上号...|       1558777813|       1558777813|       true|            1|          0|          0.5192308|            0|          true|            false|                      false|76561198957810043|                     2|                 1|                10208.0|                           0.0|                  10198.0|      1.57045338E9| 578080|\n",
      "|578080|PLAYERUNKNOWN'S B...| 66236944|schinese|             可以可以，虽说我技术很菜|       1585645757|       1585645757|       true|            0|          0|                0.0|            0|          true|            false|                      false|76561199009015947|                     9|                 2|                41261.0|                        1447.0|                   4314.0|      1.61114982E9| 578080|\n",
      "|578080|PLAYERUNKNOWN'S B...| 50827386|schinese|               为什么我TM会启动失败？|       1558777736|       1558777736|      false|            2|          1|         0.54128444|            0|          true|            false|                      false|76561198328589287|                    56|                 5|                31853.0|                           0.0|                  30688.0|      1.59144653E9| 578080|\n",
      "+------+--------------------+---------+--------+-------------------------------------+-----------------+-----------------+-----------+-------------+-----------+-------------------+-------------+--------------+-----------------+---------------------------+-----------------+----------------------+------------------+-----------------------+------------------------------+-------------------------+------------------+-------+\n",
      "only showing top 20 rows\n",
      "\n"
     ]
    }
   ],
   "source": [
    "steam_reviews.show()"
   ]
  },
  {
   "cell_type": "code",
   "execution_count": 6,
   "metadata": {},
   "outputs": [],
   "source": [
    "# get only the row with app_id of above 4 items and select only recommended, votes_helpful, votes_funny, weighted_vote_score, and averages all for of them grouping by app_id\n",
    "# have to cast recommended from boolean to int first\n",
    "steam_reviews_votes = steam_reviews.filter( \\\n",
    "                                    (col(\"app_id\") == 582010) \\\n",
    "                                    | (col(\"app_id\") == 240) \\\n",
    "                                    | (col(\"app_id\") == 271590) \\\n",
    "                                    | (col(\"app_id\") == 578080) \\\n",
    "                                ) \\\n",
    "                                .select(\"app_id\", \"recommended\", \"votes_helpful\", \"votes_funny\", \"weighted_vote_score\") \\\n",
    "                                .withColumn(\"recommended\", col(\"recommended\").cast(\"int\")) \\\n",
    "                                .groupBy(\"app_id\") \\\n",
    "                                .agg( \\\n",
    "                                    F.avg(\"recommended\").alias(\"recommended\"), \\\n",
    "                                    F.avg(\"votes_helpful\").alias(\"votes_helpful\"), \\\n",
    "                                    F.avg(\"votes_funny\").alias(\"votes_funny\"), \\\n",
    "                                    F.avg(\"weighted_vote_score\").alias(\"weighted_vote_score\")\n",
    "                                )"
   ]
  },
  {
   "cell_type": "code",
   "execution_count": 8,
   "metadata": {},
   "outputs": [
    {
     "name": "stderr",
     "output_type": "stream",
     "text": [
      "[Stage 11:==========================================>             (24 + 8) / 32]\r"
     ]
    },
    {
     "name": "stdout",
     "output_type": "stream",
     "text": [
      "+------+------------------+------------------+------------------+-------------------+\n",
      "|app_id|       recommended|     votes_helpful|       votes_funny|weighted_vote_score|\n",
      "+------+------------------+------------------+------------------+-------------------+\n",
      "|578080|0.5443536358078113| 1418442.570487019| 896619.3629818892|  598288.9780154979|\n",
      "|271590|0.8300795797561645|1664430.3329698893|1056727.3309614416|  699633.3845441695|\n",
      "|582010|0.8535994544134058|1674042.2674139808|1120098.7417649452|  810485.6233716555|\n",
      "|   240|0.9627381537628044|1496687.3917553672| 903456.5318264667|  564580.8643406603|\n",
      "+------+------------------+------------------+------------------+-------------------+\n",
      "\n"
     ]
    },
    {
     "name": "stderr",
     "output_type": "stream",
     "text": [
      "                                                                                \r"
     ]
    }
   ],
   "source": [
    "steam_reviews_votes.show()"
   ]
  },
  {
   "cell_type": "markdown",
   "metadata": {},
   "source": [
    "## Total Recommended of Genres"
   ]
  },
  {
   "cell_type": "code",
   "execution_count": 5,
   "metadata": {},
   "outputs": [
    {
     "name": "stderr",
     "output_type": "stream",
     "text": [
      "                                                                                \r"
     ]
    }
   ],
   "source": [
    "steam_reviews = spark.read.parquet(steam_reviews_filepath)"
   ]
  },
  {
   "cell_type": "code",
   "execution_count": 2,
   "metadata": {},
   "outputs": [
    {
     "name": "stderr",
     "output_type": "stream",
     "text": [
      "                                                                                \r"
     ]
    }
   ],
   "source": [
    "steam_games = spark.read.parquet(steam_games_filepath)"
   ]
  },
  {
   "cell_type": "code",
   "execution_count": 7,
   "metadata": {},
   "outputs": [],
   "source": [
    "# get only the row with app_id of above 4 items and select only recommended, votes_helpful, votes_funny, weighted_vote_score, and averages all for of them grouping by app_id\n",
    "# have to cast recommended from boolean to int first\n",
    "steam_reviews_recommended = steam_reviews.select(\"app_id\", \"recommended\") \\\n",
    "                                .withColumn(\"recommended\", col(\"recommended\").cast(\"int\")) \\\n",
    "                                .groupBy(\"app_id\") \\\n",
    "                                .agg( \\\n",
    "                                    F.sum(\"recommended\").alias(\"recommended\"), \\\n",
    "                                )"
   ]
  },
  {
   "cell_type": "code",
   "execution_count": 3,
   "metadata": {},
   "outputs": [],
   "source": [
    "tags_map = steam_games.select(\"game_id\", F.explode_outer(F.split(col(\"popular_tags\"),\",\")).alias(\"tags\")) \\\n",
    "                        .drop(\"popular_tags\") \\\n",
    "                        .where(col(\"tags\") != F.lit(\"null\"))"
   ]
  },
  {
   "cell_type": "code",
   "execution_count": 12,
   "metadata": {},
   "outputs": [],
   "source": [
    "genre_recommended = steam_reviews_recommended.join(tags_map, tags_map[\"game_id\"] == steam_reviews_recommended[\"app_id\"]) \\\n",
    "                            .drop(\"game_id\")\n",
    "\n",
    "genre_recommended = genre_recommended.groupBy(\"tags\").agg(F.sum(col(\"recommended\")).alias(\"recommended\"))\n",
    "\n",
    "genres = [\"Indie\", \"Action\", \"Adventure\", \"Casual\", \"Simulation\", \"Strategy\", \"RPG\", \"Singleplayer\", \"Early Access\",\\\n",
    "            \"Great Soundtrack\", \"Atmospheric\", \"Multiplayer\", \"2D\", \"Free to Play\", \"Puzzle\", \"VR\", \"Violent\", \"Story Rich\", \"Difficult\", \"Fantasy\"]\n",
    "genre_recommended = genre_recommended.where(col(\"tags\").isin(genres))"
   ]
  },
  {
   "cell_type": "code",
   "execution_count": 13,
   "metadata": {},
   "outputs": [
    {
     "name": "stderr",
     "output_type": "stream",
     "text": [
      "                                                                                \r"
     ]
    },
    {
     "name": "stdout",
     "output_type": "stream",
     "text": [
      "+----------------+-----------+\n",
      "|            tags|recommended|\n",
      "+----------------+-----------+\n",
      "|       Difficult|    3386698|\n",
      "|       Adventure|    8519864|\n",
      "|              VR|     257194|\n",
      "|     Atmospheric|    7832112|\n",
      "|         Fantasy|    1748833|\n",
      "|     Multiplayer|   10257550|\n",
      "|              2D|    2784555|\n",
      "|         Violent|    1356898|\n",
      "|      Story Rich|    3223304|\n",
      "|    Singleplayer|   11661784|\n",
      "|Great Soundtrack|    6284463|\n",
      "|          Puzzle|     961659|\n",
      "|    Early Access|    3457825|\n",
      "|          Casual|    3688050|\n",
      "|        Strategy|    4953679|\n",
      "|          Action|   11481408|\n",
      "|           Indie|    6750653|\n",
      "|    Free to Play|     557902|\n",
      "|             RPG|    4447267|\n",
      "|      Simulation|    5845971|\n",
      "+----------------+-----------+\n",
      "\n"
     ]
    }
   ],
   "source": [
    "genre_recommended.show()"
   ]
  },
  {
   "cell_type": "code",
   "execution_count": null,
   "metadata": {},
   "outputs": [],
   "source": []
  }
 ],
 "metadata": {
  "kernelspec": {
   "display_name": "Python 3",
   "language": "python",
   "name": "python3"
  },
  "language_info": {
   "codemirror_mode": {
    "name": "ipython",
    "version": 3
   },
   "file_extension": ".py",
   "mimetype": "text/x-python",
   "name": "python",
   "nbconvert_exporter": "python",
   "pygments_lexer": "ipython3",
   "version": "3.10.13"
  }
 },
 "nbformat": 4,
 "nbformat_minor": 2
}
