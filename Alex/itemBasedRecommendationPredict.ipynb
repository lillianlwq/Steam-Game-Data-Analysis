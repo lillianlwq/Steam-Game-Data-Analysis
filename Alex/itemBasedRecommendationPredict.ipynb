{
 "cells": [
  {
   "cell_type": "code",
   "execution_count": 8,
   "metadata": {},
   "outputs": [],
   "source": [
    "import pickle\n",
    "\n",
    "filename = \"collabRecommendation.pickle\"\n"
   ]
  },
  {
   "cell_type": "code",
   "execution_count": 9,
   "metadata": {},
   "outputs": [],
   "source": [
    "# load model\n",
    "model_knn = pickle.load(open(filename, \"rb\"))"
   ]
  },
  {
   "cell_type": "code",
   "execution_count": 14,
   "metadata": {},
   "outputs": [],
   "source": [
    "import csv\n",
    "# load hashmap\n",
    "hashmap = {}\n",
    "with open('itemBasedRecommendation_hashmap.csv', mode='r') as infile:\n",
    "    reader = csv.reader(infile)\n",
    "    for rows in reader:\n",
    "        hashmap[rows[0]] = int(rows[1])"
   ]
  },
  {
   "cell_type": "code",
   "execution_count": 11,
   "metadata": {},
   "outputs": [],
   "source": [
    "from scipy.sparse import csr_matrix\n",
    "# convert dataframe of movie features to scipy sparse matrix\n",
    "# load from csv into dataframe\n",
    "import pandas as pd\n",
    "df_movie_features = pd.read_csv('game_features.csv', index_col=0)\n",
    "mat_movie_features = csr_matrix(df_movie_features.values)"
   ]
  },
  {
   "cell_type": "code",
   "execution_count": 15,
   "metadata": {},
   "outputs": [
    {
     "name": "stdout",
     "output_type": "stream",
     "text": [
      "Recommendation system start to make inference\n",
      "......\n",
      "\n",
      "1: 613830, with distance of 1.3826768287217075\n",
      "2: 743450, with distance of 1.382593982854972\n",
      "3: 247240, with distance of 1.371655424418419\n",
      "4: 393520, with distance of 1.3679406019968898\n",
      "5: 352550, with distance of 1.3670696929480435\n",
      "6: 527230, with distance of 1.3602188441580432\n",
      "7: 551730, with distance of 1.3569009744763645\n",
      "8: 530070, with distance of 1.3518458906400814\n",
      "9: 688130, with distance of 1.3226112355259096\n",
      "10: 332200, with distance of 1.3180282416409115\n"
     ]
    }
   ],
   "source": [
    "n_recommendations = 10\n",
    "game_id = \"294100\"\n",
    "\n",
    "# get input movie index\n",
    "# inference\n",
    "print('Recommendation system start to make inference')\n",
    "print('......\\n')\n",
    "distances, indices = model_knn.kneighbors(\n",
    "    mat_movie_features[hashmap[game_id]],\n",
    "    n_neighbors=n_recommendations+1)\n",
    "# get list of raw idx of recommendations\n",
    "raw_recommends = \\\n",
    "    sorted(\n",
    "        list(\n",
    "            zip(\n",
    "                indices.squeeze().tolist(),\n",
    "                distances.squeeze().tolist()\n",
    "            )\n",
    "        ),\n",
    "        key=lambda x: x[1]\n",
    "    )[:0:-1]\n",
    "# print('It took my system {:.2f}s to make inference \\n\\\n",
    "#         '.format(time.time() - t0))\n",
    "\n",
    "reverse_hashmap = {v: k for k, v in hashmap.items()}\n",
    "# print('Recommendations for {}:'.format(fav_movie))\n",
    "for i, (idx, dist) in enumerate(raw_recommends):\n",
    "    print('{0}: {1}, with distance '\n",
    "            'of {2}'.format(i+1, reverse_hashmap[idx], dist))"
   ]
  },
  {
   "cell_type": "code",
   "execution_count": null,
   "metadata": {},
   "outputs": [],
   "source": []
  }
 ],
 "metadata": {
  "kernelspec": {
   "display_name": "Python 3",
   "language": "python",
   "name": "python3"
  },
  "language_info": {
   "codemirror_mode": {
    "name": "ipython",
    "version": 3
   },
   "file_extension": ".py",
   "mimetype": "text/x-python",
   "name": "python",
   "nbconvert_exporter": "python",
   "pygments_lexer": "ipython3",
   "version": "3.10.13"
  }
 },
 "nbformat": 4,
 "nbformat_minor": 2
}
